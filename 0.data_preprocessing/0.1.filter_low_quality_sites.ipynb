{
 "cells": [
  {
   "cell_type": "markdown",
   "metadata": {},
   "source": [
    "# This notebook performs the QC step to set up the image data for use with Image2Image translation model training and Evaluation. \n",
    "This entire data pre-processing step (and the repo in general) will be dependent on a local pediatric_cancer_atlas_profiling repo (https://github.com/WayScience/pediatric_cancer_atlas_profiling) that is ran up to 2.feature_extraction. The config.yml file will need to be configured with the correct path to the pediatric_cancer_atlas_profiling repo for this notebook to work.\n",
    "\n",
    "This notebook relies on the whole_img_qc_output to obtain thesaturation and blur QC metrics and generates a collection of sites to be excluded from the training/evaluation. "
   ]
  },
  {
   "cell_type": "code",
   "execution_count": 1,
   "metadata": {},
   "outputs": [],
   "source": [
    "import pathlib\n",
    "import yaml\n",
    "\n",
    "import pandas as pd\n",
    "import numpy as np\n",
    "from scipy.stats import zscore"
   ]
  },
  {
   "cell_type": "markdown",
   "metadata": {},
   "source": [
    "## Read config"
   ]
  },
  {
   "cell_type": "code",
   "execution_count": 2,
   "metadata": {},
   "outputs": [],
   "source": [
    "with open(pathlib.Path('.').absolute().parent / \"config.yml\", \"r\") as file:\n",
    "    config = yaml.safe_load(file)"
   ]
  },
  {
   "cell_type": "markdown",
   "metadata": {},
   "source": [
    "## Define paths"
   ]
  },
  {
   "cell_type": "code",
   "execution_count": 3,
   "metadata": {},
   "outputs": [],
   "source": [
    "## Access profiling repo path from config\n",
    "PROFILING_DIR = pathlib.Path(config['paths']['pediatric_cancer_atlas_profiling_path'])\n",
    "\n",
    "# Directory with QC CellProfiler outputs per plate\n",
    "QC_DIR = PROFILING_DIR / \"1.illumination_correction\" / \"whole_img_qc_output\"\n",
    "assert QC_DIR.exists()\n",
    "\n",
    "# Output path for plate, well and site marked for exclusion\n",
    "QC_OUTPUT_DIR = pathlib.Path('.') / 'preprocessing_output'\n",
    "QC_OUTPUT_DIR.mkdir(exist_ok=True, parents=True)"
   ]
  },
  {
   "cell_type": "markdown",
   "metadata": {},
   "source": [
    "## Collect files containing plate specific QC Metrics from the profiling repo"
   ]
  },
  {
   "cell_type": "code",
   "execution_count": 4,
   "metadata": {},
   "outputs": [
    {
     "name": "stdout",
     "output_type": "stream",
     "text": [
      "dict_keys(['BR00143979', 'BR00143978', 'BR00143980', 'BR00143977', 'BR00143976', 'BR00143981'])\n",
      "Showing example for the first plate: BR00143979\n",
      "(1259, 147)\n"
     ]
    }
   ],
   "source": [
    "# Create an empty dictionary to store data frames for each plate\n",
    "all_qc_data_frames = {}\n",
    "\n",
    "# List all plate directories\n",
    "plates = [plate.name for plate in QC_DIR.iterdir() if plate.is_dir()]\n",
    "\n",
    "# Loop through each plate\n",
    "for plate in plates:\n",
    "    # Read in CSV with all image quality metrics per image for the current plate\n",
    "    qc_df = pd.read_csv(QC_DIR / plate / \"Image.csv\")\n",
    "\n",
    "    # Store the data frame for the current plate in the dictionary\n",
    "    all_qc_data_frames[plate] = qc_df\n",
    "\n",
    "# Print the plate names to ensure they were loaded correctly\n",
    "print(all_qc_data_frames.keys())\n",
    "\n",
    "# Select the first plate in the list\n",
    "first_plate = plates[0]\n",
    "print(f\"Showing example for the first plate: {first_plate}\")\n",
    "\n",
    "# Access the dataframe for the first plate\n",
    "example_df = all_qc_data_frames[first_plate]\n",
    "\n",
    "# Show the shape and the first few rows of the dataframe for the first plate\n",
    "print(example_df.shape)"
   ]
  },
  {
   "cell_type": "markdown",
   "metadata": {},
   "source": [
    "## Create concatenated data frames combining blur and saturation metrics from all channels for all plates"
   ]
  },
  {
   "cell_type": "code",
   "execution_count": 5,
   "metadata": {},
   "outputs": [
    {
     "name": "stdout",
     "output_type": "stream",
     "text": [
      "(51240, 16)\n"
     ]
    },
    {
     "data": {
      "text/html": [
       "<div>\n",
       "<style scoped>\n",
       "    .dataframe tbody tr th:only-of-type {\n",
       "        vertical-align: middle;\n",
       "    }\n",
       "\n",
       "    .dataframe tbody tr th {\n",
       "        vertical-align: top;\n",
       "    }\n",
       "\n",
       "    .dataframe thead th {\n",
       "        text-align: right;\n",
       "    }\n",
       "</style>\n",
       "<table border=\"1\" class=\"dataframe\">\n",
       "  <thead>\n",
       "    <tr style=\"text-align: right;\">\n",
       "      <th></th>\n",
       "      <th>Metadata_AbsPositionZ</th>\n",
       "      <th>Metadata_ChannelID</th>\n",
       "      <th>Metadata_Col</th>\n",
       "      <th>Metadata_FieldID</th>\n",
       "      <th>Metadata_PlaneID</th>\n",
       "      <th>Metadata_Plate</th>\n",
       "      <th>Metadata_PositionX</th>\n",
       "      <th>Metadata_PositionY</th>\n",
       "      <th>Metadata_PositionZ</th>\n",
       "      <th>Metadata_Reimaged</th>\n",
       "      <th>Metadata_Row</th>\n",
       "      <th>Metadata_Site</th>\n",
       "      <th>Metadata_Well</th>\n",
       "      <th>ImageQuality_PowerLogLogSlope</th>\n",
       "      <th>ImageQuality_PercentMaximal</th>\n",
       "      <th>Channel</th>\n",
       "    </tr>\n",
       "  </thead>\n",
       "  <tbody>\n",
       "    <tr>\n",
       "      <th>0</th>\n",
       "      <td>0.134972</td>\n",
       "      <td>6</td>\n",
       "      <td>3</td>\n",
       "      <td>2</td>\n",
       "      <td>1</td>\n",
       "      <td>BR00143979</td>\n",
       "      <td>-0.000646</td>\n",
       "      <td>0.000646</td>\n",
       "      <td>-0.000002</td>\n",
       "      <td>True</td>\n",
       "      <td>3</td>\n",
       "      <td>2</td>\n",
       "      <td>C03</td>\n",
       "      <td>-2.383981</td>\n",
       "      <td>0.000086</td>\n",
       "      <td>OrigDNA</td>\n",
       "    </tr>\n",
       "    <tr>\n",
       "      <th>1</th>\n",
       "      <td>0.134559</td>\n",
       "      <td>6</td>\n",
       "      <td>3</td>\n",
       "      <td>3</td>\n",
       "      <td>1</td>\n",
       "      <td>BR00143979</td>\n",
       "      <td>0.000000</td>\n",
       "      <td>0.000646</td>\n",
       "      <td>-0.000006</td>\n",
       "      <td>False</td>\n",
       "      <td>3</td>\n",
       "      <td>3</td>\n",
       "      <td>C03</td>\n",
       "      <td>-2.230812</td>\n",
       "      <td>0.000086</td>\n",
       "      <td>OrigDNA</td>\n",
       "    </tr>\n",
       "    <tr>\n",
       "      <th>2</th>\n",
       "      <td>0.134559</td>\n",
       "      <td>6</td>\n",
       "      <td>3</td>\n",
       "      <td>4</td>\n",
       "      <td>1</td>\n",
       "      <td>BR00143979</td>\n",
       "      <td>0.000646</td>\n",
       "      <td>0.000646</td>\n",
       "      <td>-0.000002</td>\n",
       "      <td>True</td>\n",
       "      <td>3</td>\n",
       "      <td>4</td>\n",
       "      <td>C03</td>\n",
       "      <td>-1.716930</td>\n",
       "      <td>0.002486</td>\n",
       "      <td>OrigDNA</td>\n",
       "    </tr>\n",
       "    <tr>\n",
       "      <th>3</th>\n",
       "      <td>0.134558</td>\n",
       "      <td>6</td>\n",
       "      <td>3</td>\n",
       "      <td>5</td>\n",
       "      <td>1</td>\n",
       "      <td>BR00143979</td>\n",
       "      <td>0.000646</td>\n",
       "      <td>0.000000</td>\n",
       "      <td>-0.000002</td>\n",
       "      <td>True</td>\n",
       "      <td>3</td>\n",
       "      <td>5</td>\n",
       "      <td>C03</td>\n",
       "      <td>-1.642230</td>\n",
       "      <td>0.018090</td>\n",
       "      <td>OrigDNA</td>\n",
       "    </tr>\n",
       "    <tr>\n",
       "      <th>4</th>\n",
       "      <td>0.134567</td>\n",
       "      <td>6</td>\n",
       "      <td>3</td>\n",
       "      <td>6</td>\n",
       "      <td>1</td>\n",
       "      <td>BR00143979</td>\n",
       "      <td>-0.000646</td>\n",
       "      <td>0.000000</td>\n",
       "      <td>-0.000002</td>\n",
       "      <td>True</td>\n",
       "      <td>3</td>\n",
       "      <td>6</td>\n",
       "      <td>C03</td>\n",
       "      <td>-1.528777</td>\n",
       "      <td>0.000429</td>\n",
       "      <td>OrigDNA</td>\n",
       "    </tr>\n",
       "  </tbody>\n",
       "</table>\n",
       "</div>"
      ],
      "text/plain": [
       "   Metadata_AbsPositionZ  Metadata_ChannelID  Metadata_Col  Metadata_FieldID  \\\n",
       "0               0.134972                   6             3                 2   \n",
       "1               0.134559                   6             3                 3   \n",
       "2               0.134559                   6             3                 4   \n",
       "3               0.134558                   6             3                 5   \n",
       "4               0.134567                   6             3                 6   \n",
       "\n",
       "   Metadata_PlaneID Metadata_Plate  Metadata_PositionX  Metadata_PositionY  \\\n",
       "0                 1     BR00143979           -0.000646            0.000646   \n",
       "1                 1     BR00143979            0.000000            0.000646   \n",
       "2                 1     BR00143979            0.000646            0.000646   \n",
       "3                 1     BR00143979            0.000646            0.000000   \n",
       "4                 1     BR00143979           -0.000646            0.000000   \n",
       "\n",
       "   Metadata_PositionZ  Metadata_Reimaged  Metadata_Row  Metadata_Site  \\\n",
       "0           -0.000002               True             3              2   \n",
       "1           -0.000006              False             3              3   \n",
       "2           -0.000002               True             3              4   \n",
       "3           -0.000002               True             3              5   \n",
       "4           -0.000002               True             3              6   \n",
       "\n",
       "  Metadata_Well  ImageQuality_PowerLogLogSlope  ImageQuality_PercentMaximal  \\\n",
       "0           C03                      -2.383981                     0.000086   \n",
       "1           C03                      -2.230812                     0.000086   \n",
       "2           C03                      -1.716930                     0.002486   \n",
       "3           C03                      -1.642230                     0.018090   \n",
       "4           C03                      -1.528777                     0.000429   \n",
       "\n",
       "   Channel  \n",
       "0  OrigDNA  \n",
       "1  OrigDNA  \n",
       "2  OrigDNA  \n",
       "3  OrigDNA  \n",
       "4  OrigDNA  "
      ]
     },
     "execution_count": 5,
     "metadata": {},
     "output_type": "execute_result"
    }
   ],
   "source": [
    "# Create an empty dictionary to store data frames for each channel\n",
    "all_combined_dfs = {}\n",
    "\n",
    "# Iterate through each channel\n",
    "for channel in config['data']['target_channel_keys']: # excluding input Brightfield since the metrics are not robust to this type of channel\n",
    "    # Create an empty list to store data frames for each plate\n",
    "    plate_dfs = []\n",
    "\n",
    "    # Iterate through each plate and create the specified data frame for the channel\n",
    "    for plate, qc_df in all_qc_data_frames.items():\n",
    "        plate_df = qc_df.filter(like=\"Metadata_\").copy()\n",
    "\n",
    "        # Add PowerLogLogSlope column (blur metric)\n",
    "        plate_df[\"ImageQuality_PowerLogLogSlope\"] = qc_df[\n",
    "            f\"ImageQuality_PowerLogLogSlope_{channel}\"\n",
    "        ]\n",
    "\n",
    "        # Add PercentMaximal column (saturation metric)\n",
    "        plate_df[\"ImageQuality_PercentMaximal\"] = qc_df[\n",
    "            f\"ImageQuality_PercentMaximal_{channel}\"\n",
    "        ]\n",
    "\n",
    "        # Add \"Channel\" column\n",
    "        plate_df[\"Channel\"] = channel\n",
    "\n",
    "        # Add \"Metadata_Plate\" column\n",
    "        plate_df[\"Metadata_Plate\"] = plate\n",
    "\n",
    "        # Append the data frame to the list\n",
    "        plate_dfs.append(plate_df)\n",
    "\n",
    "    # Concatenate data frames for each plate for the current channel\n",
    "    all_combined_dfs[channel] = pd.concat(\n",
    "        plate_dfs, keys=list(all_qc_data_frames.keys()), names=[\"Metadata_Plate\", None]\n",
    "    )\n",
    "\n",
    "# Concatenate the channel data frames together for plotting\n",
    "df = pd.concat(list(all_combined_dfs.values()), ignore_index=True)\n",
    "\n",
    "print(df.shape)\n",
    "df.head()"
   ]
  },
  {
   "cell_type": "markdown",
   "metadata": {},
   "source": [
    "## Apply Z-scores threshold on all columns (channels) with all plates, sites with any channel that falls beyond the threshold will be marked for exclusion"
   ]
  },
  {
   "cell_type": "code",
   "execution_count": 6,
   "metadata": {},
   "outputs": [
    {
     "name": "stdout",
     "output_type": "stream",
     "text": [
      "Out of a total of 10248 plate, well and site combos, 894 (8.72%) removed due to low quality.\n"
     ]
    }
   ],
   "source": [
    "# Calculate Z-scores for the column with all plates\n",
    "metric_z_thresh_dict = {\n",
    "    \"ImageQuality_PowerLogLogSlope\": 2.5,\n",
    "    \"ImageQuality_PercentMaximal\": 2,\n",
    "}\n",
    "\n",
    "total_plate_well_site = df[[\"Metadata_Plate\", \"Metadata_Well\", \"Metadata_Site\"]].drop_duplicates()\n",
    "removed_plate_well_site = pd.DataFrame()\n",
    "\n",
    "for metric, z_thresh in metric_z_thresh_dict.items():\n",
    "    z_scores = zscore(df[metric])\n",
    "    outliers = df[abs(z_scores) > z_thresh]\n",
    "    removed_plate_well_site = pd.concat(\n",
    "        [removed_plate_well_site, outliers[[\"Metadata_Plate\", \"Metadata_Well\", \"Metadata_Site\"]].drop_duplicates()]\n",
    "    )\n",
    "\n",
    "print(f\"Out of a total of {total_plate_well_site.shape[0]} plate, well and site combos, {removed_plate_well_site.shape[0]} ({removed_plate_well_site.shape[0] * 100 / total_plate_well_site.shape[0]:.2f}%) removed due to low quality.\")"
   ]
  },
  {
   "cell_type": "markdown",
   "metadata": {},
   "source": [
    "## Export sites to be excluded as a csv"
   ]
  },
  {
   "cell_type": "code",
   "execution_count": 7,
   "metadata": {},
   "outputs": [],
   "source": [
    "removed_plate_well_site.to_csv(QC_OUTPUT_DIR / 'qc_exclusion.csv', index=False)"
   ]
  }
 ],
 "metadata": {
  "kernelspec": {
   "display_name": "speckle_analysis",
   "language": "python",
   "name": "python3"
  },
  "language_info": {
   "codemirror_mode": {
    "name": "ipython",
    "version": 3
   },
   "file_extension": ".py",
   "mimetype": "text/x-python",
   "name": "python",
   "nbconvert_exporter": "python",
   "pygments_lexer": "ipython3",
   "version": "3.11.11"
  }
 },
 "nbformat": 4,
 "nbformat_minor": 2
}
