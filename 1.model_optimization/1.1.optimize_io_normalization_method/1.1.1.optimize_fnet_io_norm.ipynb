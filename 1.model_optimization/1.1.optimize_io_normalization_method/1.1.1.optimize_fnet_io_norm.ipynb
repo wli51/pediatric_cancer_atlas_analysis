{
 "cells": [
  {
   "cell_type": "markdown",
   "metadata": {},
   "source": [
    "## This notebook runs optimization experiments on different combination of input/target normalization image transforms using the FNet model architecture by fixing hyper parameters during training to understand the effect of normalization methods on model performance."
   ]
  },
  {
   "cell_type": "code",
   "execution_count": 1,
   "metadata": {},
   "outputs": [],
   "source": [
    "import pathlib\n",
    "import sys\n",
    "import subprocess\n",
    "import yaml\n",
    "import gc\n",
    "\n",
    "import pandas as pd\n",
    "import torch\n",
    "import torch.optim as optim\n",
    "import mlflow\n",
    "import optuna\n",
    "import joblib"
   ]
  },
  {
   "cell_type": "markdown",
   "metadata": {},
   "source": [
    "## Import global path/model setting variables from config\n",
    "First retrieves repo root directory, then imports the config.py from repo root\n",
    "All filepath checks are centrally handled within the config module"
   ]
  },
  {
   "cell_type": "code",
   "execution_count": 2,
   "metadata": {},
   "outputs": [],
   "source": [
    "def get_repo_root():\n",
    "    return subprocess.run(\n",
    "        [\"git\", \"rev-parse\", \"--show-toplevel\"],\n",
    "        stdout=subprocess.PIPE,\n",
    "        check=True,\n",
    "        text=True\n",
    "    ).stdout.strip()\n",
    "\n",
    "repo_root = get_repo_root()\n",
    "sys.path.append(repo_root)\n",
    "\n",
    "from config import (\n",
    "    SOFTWARE_PATH,\n",
    "    LOADDATA_FILE_PATH,\n",
    "    SC_FEATURES_DIR,\n",
    "    INPUT_CHANNEL_NAMES,\n",
    "    TARGET_CHANNEL_NAMES,\n",
    ")"
   ]
  },
  {
   "cell_type": "markdown",
   "metadata": {},
   "source": [
    "## Import virtual_stain_flow software "
   ]
  },
  {
   "cell_type": "code",
   "execution_count": 3,
   "metadata": {},
   "outputs": [
    {
     "name": "stderr",
     "output_type": "stream",
     "text": [
      "/home/weishanli/anaconda3/envs/speckle_analysis/lib/python3.11/site-packages/albumentations/__init__.py:28: UserWarning: A new version of Albumentations is available: '2.0.8' (you have '2.0.4'). Upgrade using: pip install -U albumentations. To disable automatic update checks, set the environment variable NO_ALBUMENTATIONS_UPDATE to 1.\n",
      "  check_for_updates()\n"
     ]
    }
   ],
   "source": [
    "sys.path.append(str(SOFTWARE_PATH))\n",
    "\n",
    "## Dataset\n",
    "from virtual_stain_flow.datasets.PatchDataset import PatchDataset\n",
    "from virtual_stain_flow.datasets.CachedDataset import CachedDataset\n",
    "\n",
    "## FNet training\n",
    "from virtual_stain_flow.models.fnet import FNet\n",
    "from virtual_stain_flow.trainers.Trainer import Trainer\n",
    "\n",
    "from virtual_stain_flow.transforms.MinMaxNormalize import MinMaxNormalize\n",
    "from virtual_stain_flow.transforms.PixelDepthTransform import PixelDepthTransform\n",
    "from virtual_stain_flow.transforms.ZScoreNormalize import ZScoreNormalize\n",
    "\n",
    "## Metrics\n",
    "from virtual_stain_flow.metrics.MetricsWrapper import MetricsWrapper\n",
    "from virtual_stain_flow.metrics.PSNR import PSNR\n",
    "from virtual_stain_flow.metrics.SSIM import SSIM\n",
    "\n",
    "## callback\n",
    "from virtual_stain_flow.callbacks.MlflowLogger import MlflowLogger"
   ]
  },
  {
   "cell_type": "markdown",
   "metadata": {},
   "source": [
    "## Define output paths and model training parameters"
   ]
  },
  {
   "cell_type": "code",
   "execution_count": 4,
   "metadata": {},
   "outputs": [],
   "source": [
    "## Output directories\n",
    "MLFLOW_DIR = pathlib.Path('.').absolute() / 'optuna_mlflow'\n",
    "MLFLOW_DIR.mkdir(parents=True, exist_ok=True)\n",
    "\n",
    "# dump directory for optuna studies\n",
    "OPTUNA_JOBLIB_DIR = pathlib.Path('.').absolute() / 'optuna_joblib'\n",
    "OPTUNA_JOBLIB_DIR.mkdir(parents=True, exist_ok=True)\n",
    "\n",
    "## Basic data generation, model convolutional depth, optimizer param and max epoch definition\n",
    "# Will be using these fixed values for the normalization method optimization\n",
    "PATCH_SIZE = 256\n",
    "CONV_DEPTH = 5\n",
    "LR = 1e-4\n",
    "BETAS = (0.5, 0.9)\n",
    "BATCH_SIZE = 16\n",
    "EPOCHS = 1_000\n",
    "PATIENCE = 20"
   ]
  },
  {
   "cell_type": "markdown",
   "metadata": {},
   "source": [
    "## Configure Normalization Transforms"
   ]
  },
  {
   "cell_type": "code",
   "execution_count": 5,
   "metadata": {},
   "outputs": [],
   "source": [
    "## Define transforms and parameters\n",
    "NORM_METHODS = {\n",
    "    \"z_score\": {\n",
    "        \"class\": ZScoreNormalize,\n",
    "        \"args\": {\"_mean\": None, \"_std\": None, \"_always_apply\": True, \"_p\": 1.0}\n",
    "    },\n",
    "    \"8bit\": {\n",
    "        \"class\": PixelDepthTransform,\n",
    "        \"args\": {\"src_bit_depth\": 16, \"target_bit_depth\": 8, \"_always_apply\": True, \"_p\": 1.0}\n",
    "    },\n",
    "    \"min_max\": {\n",
    "        \"class\": MinMaxNormalize,\n",
    "        \"args\": {\"_normalization_factor\": (2 ** 16) - 1, \"_always_apply\": True, \"_p\": 1.0}\n",
    "    }\n",
    "}\n",
    "\n",
    "## Define the model output activation to be used with each output normalization\n",
    "NORM_METHOD_ACTIVATION = {\n",
    "    \"z_score\": \"linear\",\n",
    "    \"8bit\": \"linear\",\n",
    "    \"min_max\": \"sigmoid\"\n",
    "}"
   ]
  },
  {
   "cell_type": "markdown",
   "metadata": {},
   "source": [
    "## Define optimization objective functions"
   ]
  },
  {
   "cell_type": "code",
   "execution_count": 6,
   "metadata": {},
   "outputs": [],
   "source": [
    "CACHE_DATA = True\n",
    "\n",
    "def free_gpu_memory():\n",
    "    gc.collect()\n",
    "    torch.cuda.empty_cache()\n",
    "\n",
    "def objective(trial, dataset, channel_name):\n",
    "\n",
    "    # Suggest an input and targettransform\n",
    "    input_transform = trial.suggest_categorical(\"input_transform\", list(NORM_METHODS.keys()))\n",
    "    target_transform = trial.suggest_categorical(\"target_transform\", list(NORM_METHODS.keys()))\n",
    "\n",
    "    ## Configure the dataset with normalization methods\n",
    "    dataset.set_input_transform(NORM_METHODS[input_transform][\"class\"](**NORM_METHODS[input_transform][\"args\"]))\n",
    "    dataset.set_target_transform(NORM_METHODS[target_transform][\"class\"](**NORM_METHODS[target_transform][\"args\"]))\n",
    "\n",
    "    ## Cache dataset\n",
    "    # Caching PatchDatasets (into RAM) can substantially improve training speed, mostly\n",
    "    # due to speeding up the data shuffling process that can be slow with dynamically\n",
    "    # cropping patches from large images. However, to really benefit from caching it is\n",
    "    # necessary to use a cache size that fits the entire dataset (or close to doing so).\n",
    "    # Consider not using the Cached Dataset if memory is limited. Training/optimization is \n",
    "    # completely functional with the dynamic PatchDataset.\n",
    "    if CACHE_DATA:\n",
    "        dataset = CachedDataset(\n",
    "                dataset=dataset,\n",
    "                prefill_cache=True\n",
    "            )\n",
    "    else:\n",
    "        # uses the dynamic PatchDataset\n",
    "        pass\n",
    "\n",
    "    ## Setup model and optimizer\n",
    "    model = FNet(depth=CONV_DEPTH, \n",
    "                 # output activation paired with target/output normalization\n",
    "                 output_activation=NORM_METHOD_ACTIVATION[target_transform])\n",
    "    optimizer = optim.Adam(model.parameters(), lr=LR, betas=BETAS)\n",
    "    \n",
    "    ## Metrics to be computed (and logged)\n",
    "    metric_fns = {\n",
    "        \"mse_loss\": MetricsWrapper(_metric_name='mse', module=torch.nn.MSELoss()),\n",
    "        \"ssim_loss\": SSIM(_metric_name=\"ssim\"),\n",
    "        \"psnr_loss\": PSNR(_metric_name=\"psnr\"),\n",
    "    }\n",
    "\n",
    "    ## Params to log with mlflow\n",
    "    params = {\n",
    "            \"lr\": LR,\n",
    "            \"beta0\": BETAS[0],\n",
    "            \"beta1\": BETAS[1],\n",
    "            \"depth\": CONV_DEPTH,\n",
    "            \"patch_size\": PATCH_SIZE,\n",
    "            \"batch_size\": BATCH_SIZE,\n",
    "            \"epochs\": EPOCHS,\n",
    "            \"patience\": PATIENCE,\n",
    "            \"input_norm\": input_transform,\n",
    "            \"target_norm\": target_transform,\n",
    "            \"channel_name\": channel_name,\n",
    "        }\n",
    "\n",
    "    ## mlflow logger callback\n",
    "    mlflow_logger_callback = MlflowLogger(\n",
    "        name='mlflow_logger',\n",
    "        mlflow_uri=MLFLOW_DIR / 'mlruns',\n",
    "        mlflow_experiment_name='FNet_optimize_io_norm',\n",
    "        mlflow_start_run_args={'run_name': f'FNet_optimize_io_norm_{channel_name}', 'nested': True},\n",
    "        mlflow_log_params_args=params\n",
    "    )\n",
    "    \n",
    "    ## Trainer\n",
    "    trainer = Trainer(\n",
    "        model = model,\n",
    "        optimizer = optimizer,\n",
    "        backprop_loss = torch.nn.L1Loss(), # MAE loss for backpropagation\n",
    "        dataset = dataset,\n",
    "        batch_size = BATCH_SIZE,\n",
    "        epochs = EPOCHS,\n",
    "        patience = PATIENCE,\n",
    "        callbacks=[mlflow_logger_callback],\n",
    "        metrics=metric_fns,\n",
    "        device = 'cuda',\n",
    "        early_termination_metric='L1Loss'\n",
    "    )\n",
    "\n",
    "    # Train the model and log validation loss\n",
    "    trainer.train()\n",
    "    val_loss = trainer.best_loss\n",
    "\n",
    "    del model\n",
    "    del optimizer\n",
    "    del metric_fns\n",
    "    del mlflow_logger_callback\n",
    "    del trainer\n",
    "    \n",
    "    free_gpu_memory()\n",
    "\n",
    "    return val_loss"
   ]
  },
  {
   "cell_type": "markdown",
   "metadata": {},
   "source": [
    "## Optimize for I/O normalizationm method per Channel"
   ]
  },
  {
   "cell_type": "code",
   "execution_count": 7,
   "metadata": {},
   "outputs": [
    {
     "name": "stdout",
     "output_type": "stream",
     "text": [
      "Beginning optimization for channel: OrigDNA for io normalization methods\n",
      "Early termination at epoch 37 with best validation metric 0.011204013717360795\n"
     ]
    },
    {
     "name": "stderr",
     "output_type": "stream",
     "text": [
      "[I 2025-06-17 11:20:02,483] Trial 50 finished with value: 0.011204013717360795 and parameters: {'input_transform': '8bit', 'target_transform': 'min_max'}. Best is trial 20 with value: 0.0048707767855376005.\n"
     ]
    },
    {
     "name": "stdout",
     "output_type": "stream",
     "text": [
      "Saved study after trial 51/100\n",
      "Early termination at epoch 33 with best validation metric 0.011426672237575985\n"
     ]
    },
    {
     "name": "stderr",
     "output_type": "stream",
     "text": [
      "[I 2025-06-17 11:30:02,436] Trial 51 finished with value: 0.011426672237575985 and parameters: {'input_transform': '8bit', 'target_transform': 'min_max'}. Best is trial 20 with value: 0.0048707767855376005.\n"
     ]
    },
    {
     "name": "stdout",
     "output_type": "stream",
     "text": [
      "Saved study after trial 52/100\n",
      "Early termination at epoch 75 with best validation metric 0.011198313441127539\n"
     ]
    },
    {
     "name": "stderr",
     "output_type": "stream",
     "text": [
      "[I 2025-06-17 11:52:15,020] Trial 52 finished with value: 0.011198313441127539 and parameters: {'input_transform': '8bit', 'target_transform': 'min_max'}. Best is trial 20 with value: 0.0048707767855376005.\n"
     ]
    },
    {
     "name": "stdout",
     "output_type": "stream",
     "text": [
      "Saved study after trial 53/100\n",
      "Early termination at epoch 73 with best validation metric 0.011454307881649584\n"
     ]
    },
    {
     "name": "stderr",
     "output_type": "stream",
     "text": [
      "[I 2025-06-17 12:12:50,186] Trial 53 finished with value: 0.011454307881649584 and parameters: {'input_transform': '8bit', 'target_transform': 'min_max'}. Best is trial 20 with value: 0.0048707767855376005.\n"
     ]
    },
    {
     "name": "stdout",
     "output_type": "stream",
     "text": [
      "Saved study after trial 54/100\n",
      "Early termination at epoch 39 with best validation metric 0.011667377431876957\n"
     ]
    },
    {
     "name": "stderr",
     "output_type": "stream",
     "text": [
      "[I 2025-06-17 12:24:38,545] Trial 54 finished with value: 0.011667377431876957 and parameters: {'input_transform': '8bit', 'target_transform': 'min_max'}. Best is trial 20 with value: 0.0048707767855376005.\n"
     ]
    },
    {
     "name": "stdout",
     "output_type": "stream",
     "text": [
      "Saved study after trial 55/100\n",
      "Early termination at epoch 92 with best validation metric 0.012120718456571922\n"
     ]
    },
    {
     "name": "stderr",
     "output_type": "stream",
     "text": [
      "[I 2025-06-17 12:52:38,169] Trial 55 finished with value: 0.012120718456571922 and parameters: {'input_transform': '8bit', 'target_transform': 'min_max'}. Best is trial 20 with value: 0.0048707767855376005.\n"
     ]
    },
    {
     "name": "stdout",
     "output_type": "stream",
     "text": [
      "Saved study after trial 56/100\n",
      "Early termination at epoch 57 with best validation metric 0.01197430670436006\n"
     ]
    },
    {
     "name": "stderr",
     "output_type": "stream",
     "text": [
      "[I 2025-06-17 13:10:59,858] Trial 56 finished with value: 0.01197430670436006 and parameters: {'input_transform': '8bit', 'target_transform': 'min_max'}. Best is trial 20 with value: 0.0048707767855376005.\n"
     ]
    },
    {
     "name": "stdout",
     "output_type": "stream",
     "text": [
      "Saved study after trial 57/100\n",
      "Early termination at epoch 75 with best validation metric 0.011792684439569712\n"
     ]
    },
    {
     "name": "stderr",
     "output_type": "stream",
     "text": [
      "[I 2025-06-17 13:34:01,771] Trial 57 finished with value: 0.011792684439569712 and parameters: {'input_transform': '8bit', 'target_transform': 'min_max'}. Best is trial 20 with value: 0.0048707767855376005.\n"
     ]
    },
    {
     "name": "stdout",
     "output_type": "stream",
     "text": [
      "Saved study after trial 58/100\n",
      "Early termination at epoch 41 with best validation metric 2.7538296170532703\n"
     ]
    },
    {
     "name": "stderr",
     "output_type": "stream",
     "text": [
      "[I 2025-06-17 13:46:34,046] Trial 58 finished with value: 2.7538296170532703 and parameters: {'input_transform': '8bit', 'target_transform': '8bit'}. Best is trial 20 with value: 0.0048707767855376005.\n"
     ]
    },
    {
     "name": "stdout",
     "output_type": "stream",
     "text": [
      "Saved study after trial 59/100\n",
      "Early termination at epoch 82 with best validation metric 0.010758939635707065\n"
     ]
    },
    {
     "name": "stderr",
     "output_type": "stream",
     "text": [
      "[I 2025-06-17 14:11:41,787] Trial 59 finished with value: 0.010758939635707065 and parameters: {'input_transform': 'min_max', 'target_transform': 'min_max'}. Best is trial 20 with value: 0.0048707767855376005.\n"
     ]
    },
    {
     "name": "stdout",
     "output_type": "stream",
     "text": [
      "Saved study after trial 60/100\n",
      "Early termination at epoch 97 with best validation metric 0.2653109300881624\n"
     ]
    },
    {
     "name": "stderr",
     "output_type": "stream",
     "text": [
      "[I 2025-06-17 14:41:23,865] Trial 60 finished with value: 0.2653109300881624 and parameters: {'input_transform': '8bit', 'target_transform': 'z_score'}. Best is trial 20 with value: 0.0048707767855376005.\n"
     ]
    },
    {
     "name": "stdout",
     "output_type": "stream",
     "text": [
      "Saved study after trial 61/100\n",
      "Early termination at epoch 37 with best validation metric 0.012729164358461276\n"
     ]
    },
    {
     "name": "stderr",
     "output_type": "stream",
     "text": [
      "[I 2025-06-17 14:52:46,634] Trial 61 finished with value: 0.012729164358461276 and parameters: {'input_transform': 'min_max', 'target_transform': 'min_max'}. Best is trial 20 with value: 0.0048707767855376005.\n"
     ]
    },
    {
     "name": "stdout",
     "output_type": "stream",
     "text": [
      "Saved study after trial 62/100\n",
      "Early termination at epoch 69 with best validation metric 0.012821888434700668\n"
     ]
    },
    {
     "name": "stderr",
     "output_type": "stream",
     "text": [
      "[I 2025-06-17 15:13:55,833] Trial 62 finished with value: 0.012821888434700668 and parameters: {'input_transform': 'min_max', 'target_transform': 'min_max'}. Best is trial 20 with value: 0.0048707767855376005.\n"
     ]
    },
    {
     "name": "stdout",
     "output_type": "stream",
     "text": [
      "Saved study after trial 63/100\n",
      "Early termination at epoch 83 with best validation metric 0.011686911995639093\n"
     ]
    },
    {
     "name": "stderr",
     "output_type": "stream",
     "text": [
      "[I 2025-06-17 15:39:21,120] Trial 63 finished with value: 0.011686911995639093 and parameters: {'input_transform': 'min_max', 'target_transform': 'min_max'}. Best is trial 20 with value: 0.0048707767855376005.\n"
     ]
    },
    {
     "name": "stdout",
     "output_type": "stream",
     "text": [
      "Saved study after trial 64/100\n",
      "Early termination at epoch 80 with best validation metric 0.011346010855049826\n"
     ]
    },
    {
     "name": "stderr",
     "output_type": "stream",
     "text": [
      "[I 2025-06-17 16:03:51,982] Trial 64 finished with value: 0.011346010855049826 and parameters: {'input_transform': 'min_max', 'target_transform': 'min_max'}. Best is trial 20 with value: 0.0048707767855376005.\n"
     ]
    },
    {
     "name": "stdout",
     "output_type": "stream",
     "text": [
      "Saved study after trial 65/100\n",
      "Early termination at epoch 66 with best validation metric 0.011536134348716587\n"
     ]
    },
    {
     "name": "stderr",
     "output_type": "stream",
     "text": [
      "[I 2025-06-17 16:24:06,556] Trial 65 finished with value: 0.011536134348716587 and parameters: {'input_transform': 'min_max', 'target_transform': 'min_max'}. Best is trial 20 with value: 0.0048707767855376005.\n"
     ]
    },
    {
     "name": "stdout",
     "output_type": "stream",
     "text": [
      "Saved study after trial 66/100\n",
      "Early termination at epoch 58 with best validation metric 0.012083181005436927\n"
     ]
    },
    {
     "name": "stderr",
     "output_type": "stream",
     "text": [
      "[I 2025-06-17 16:41:54,665] Trial 66 finished with value: 0.012083181005436927 and parameters: {'input_transform': 'min_max', 'target_transform': 'min_max'}. Best is trial 20 with value: 0.0048707767855376005.\n"
     ]
    },
    {
     "name": "stdout",
     "output_type": "stream",
     "text": [
      "Saved study after trial 67/100\n",
      "Early termination at epoch 34 with best validation metric 0.011274802207481116\n"
     ]
    },
    {
     "name": "stderr",
     "output_type": "stream",
     "text": [
      "[I 2025-06-17 16:52:21,947] Trial 67 finished with value: 0.011274802207481116 and parameters: {'input_transform': 'min_max', 'target_transform': 'min_max'}. Best is trial 20 with value: 0.0048707767855376005.\n"
     ]
    },
    {
     "name": "stdout",
     "output_type": "stream",
     "text": [
      "Saved study after trial 68/100\n",
      "Early termination at epoch 95 with best validation metric 0.011224357294850051\n"
     ]
    },
    {
     "name": "stderr",
     "output_type": "stream",
     "text": [
      "[I 2025-06-17 17:21:28,179] Trial 68 finished with value: 0.011224357294850051 and parameters: {'input_transform': 'z_score', 'target_transform': 'min_max'}. Best is trial 20 with value: 0.0048707767855376005.\n"
     ]
    },
    {
     "name": "stdout",
     "output_type": "stream",
     "text": [
      "Saved study after trial 69/100\n",
      "Early termination at epoch 76 with best validation metric 0.011448205405031331\n"
     ]
    },
    {
     "name": "stderr",
     "output_type": "stream",
     "text": [
      "[I 2025-06-17 17:44:45,440] Trial 69 finished with value: 0.011448205405031331 and parameters: {'input_transform': 'min_max', 'target_transform': 'min_max'}. Best is trial 20 with value: 0.0048707767855376005.\n"
     ]
    },
    {
     "name": "stdout",
     "output_type": "stream",
     "text": [
      "Saved study after trial 70/100\n",
      "Early termination at epoch 89 with best validation metric 0.26092212786898017\n"
     ]
    },
    {
     "name": "stderr",
     "output_type": "stream",
     "text": [
      "[I 2025-06-17 18:12:04,179] Trial 70 finished with value: 0.26092212786898017 and parameters: {'input_transform': 'min_max', 'target_transform': 'z_score'}. Best is trial 20 with value: 0.0048707767855376005.\n"
     ]
    },
    {
     "name": "stdout",
     "output_type": "stream",
     "text": [
      "Saved study after trial 71/100\n",
      "Early termination at epoch 84 with best validation metric 0.011595429765293375\n"
     ]
    },
    {
     "name": "stderr",
     "output_type": "stream",
     "text": [
      "[I 2025-06-17 18:37:51,009] Trial 71 finished with value: 0.011595429765293375 and parameters: {'input_transform': 'min_max', 'target_transform': 'min_max'}. Best is trial 20 with value: 0.0048707767855376005.\n"
     ]
    },
    {
     "name": "stdout",
     "output_type": "stream",
     "text": [
      "Saved study after trial 72/100\n",
      "Early termination at epoch 87 with best validation metric 0.01133619791653473\n"
     ]
    },
    {
     "name": "stderr",
     "output_type": "stream",
     "text": [
      "[I 2025-06-17 19:04:31,153] Trial 72 finished with value: 0.01133619791653473 and parameters: {'input_transform': 'min_max', 'target_transform': 'min_max'}. Best is trial 20 with value: 0.0048707767855376005.\n"
     ]
    },
    {
     "name": "stdout",
     "output_type": "stream",
     "text": [
      "Saved study after trial 73/100\n",
      "Early termination at epoch 36 with best validation metric 0.010983279193169437\n"
     ]
    },
    {
     "name": "stderr",
     "output_type": "stream",
     "text": [
      "[I 2025-06-17 19:15:35,033] Trial 73 finished with value: 0.010983279193169437 and parameters: {'input_transform': 'min_max', 'target_transform': 'min_max'}. Best is trial 20 with value: 0.0048707767855376005.\n"
     ]
    },
    {
     "name": "stdout",
     "output_type": "stream",
     "text": [
      "Saved study after trial 74/100\n",
      "Early termination at epoch 77 with best validation metric 0.0114896518207388\n"
     ]
    },
    {
     "name": "stderr",
     "output_type": "stream",
     "text": [
      "[I 2025-06-17 19:39:09,872] Trial 74 finished with value: 0.0114896518207388 and parameters: {'input_transform': 'min_max', 'target_transform': 'min_max'}. Best is trial 20 with value: 0.0048707767855376005.\n"
     ]
    },
    {
     "name": "stdout",
     "output_type": "stream",
     "text": [
      "Saved study after trial 75/100\n",
      "Early termination at epoch 74 with best validation metric 0.011404142380342819\n"
     ]
    },
    {
     "name": "stderr",
     "output_type": "stream",
     "text": [
      "[I 2025-06-17 20:01:50,958] Trial 75 finished with value: 0.011404142380342819 and parameters: {'input_transform': 'min_max', 'target_transform': 'min_max'}. Best is trial 20 with value: 0.0048707767855376005.\n"
     ]
    },
    {
     "name": "stdout",
     "output_type": "stream",
     "text": [
      "Saved study after trial 76/100\n",
      "Early termination at epoch 70 with best validation metric 2.8128841184079647\n"
     ]
    },
    {
     "name": "stderr",
     "output_type": "stream",
     "text": [
      "[I 2025-06-17 20:23:19,846] Trial 76 finished with value: 2.8128841184079647 and parameters: {'input_transform': 'min_max', 'target_transform': '8bit'}. Best is trial 20 with value: 0.0048707767855376005.\n"
     ]
    },
    {
     "name": "stdout",
     "output_type": "stream",
     "text": [
      "Saved study after trial 77/100\n",
      "Early termination at epoch 73 with best validation metric 0.012197873962577432\n"
     ]
    },
    {
     "name": "stderr",
     "output_type": "stream",
     "text": [
      "[I 2025-06-17 20:45:43,122] Trial 77 finished with value: 0.012197873962577432 and parameters: {'input_transform': 'min_max', 'target_transform': 'min_max'}. Best is trial 20 with value: 0.0048707767855376005.\n"
     ]
    },
    {
     "name": "stdout",
     "output_type": "stream",
     "text": [
      "Saved study after trial 78/100\n",
      "Early termination at epoch 99 with best validation metric 0.011686151367030106\n"
     ]
    },
    {
     "name": "stderr",
     "output_type": "stream",
     "text": [
      "[I 2025-06-17 21:16:06,277] Trial 78 finished with value: 0.011686151367030106 and parameters: {'input_transform': '8bit', 'target_transform': 'min_max'}. Best is trial 20 with value: 0.0048707767855376005.\n"
     ]
    },
    {
     "name": "stdout",
     "output_type": "stream",
     "text": [
      "Saved study after trial 79/100\n",
      "Early termination at epoch 67 with best validation metric 0.011529035778949037\n"
     ]
    },
    {
     "name": "stderr",
     "output_type": "stream",
     "text": [
      "[I 2025-06-17 21:36:40,020] Trial 79 finished with value: 0.011529035778949037 and parameters: {'input_transform': 'min_max', 'target_transform': 'min_max'}. Best is trial 20 with value: 0.0048707767855376005.\n"
     ]
    },
    {
     "name": "stdout",
     "output_type": "stream",
     "text": [
      "Saved study after trial 80/100\n",
      "Early termination at epoch 30 with best validation metric 0.01121466836775653\n"
     ]
    },
    {
     "name": "stderr",
     "output_type": "stream",
     "text": [
      "[I 2025-06-17 21:45:55,420] Trial 80 finished with value: 0.01121466836775653 and parameters: {'input_transform': 'z_score', 'target_transform': 'min_max'}. Best is trial 20 with value: 0.0048707767855376005.\n"
     ]
    },
    {
     "name": "stdout",
     "output_type": "stream",
     "text": [
      "Saved study after trial 81/100\n",
      "Early termination at epoch 54 with best validation metric 0.011515020218212157\n"
     ]
    },
    {
     "name": "stderr",
     "output_type": "stream",
     "text": [
      "[I 2025-06-17 22:02:30,680] Trial 81 finished with value: 0.011515020218212157 and parameters: {'input_transform': 'min_max', 'target_transform': 'min_max'}. Best is trial 20 with value: 0.0048707767855376005.\n"
     ]
    },
    {
     "name": "stdout",
     "output_type": "stream",
     "text": [
      "Saved study after trial 82/100\n",
      "Early termination at epoch 91 with best validation metric 0.011255812249146402\n"
     ]
    },
    {
     "name": "stderr",
     "output_type": "stream",
     "text": [
      "[I 2025-06-17 22:30:23,376] Trial 82 finished with value: 0.011255812249146402 and parameters: {'input_transform': 'min_max', 'target_transform': 'min_max'}. Best is trial 20 with value: 0.0048707767855376005.\n"
     ]
    },
    {
     "name": "stdout",
     "output_type": "stream",
     "text": [
      "Saved study after trial 83/100\n",
      "Early termination at epoch 74 with best validation metric 0.011011824040906504\n"
     ]
    },
    {
     "name": "stderr",
     "output_type": "stream",
     "text": [
      "[I 2025-06-17 22:53:04,285] Trial 83 finished with value: 0.011011824040906504 and parameters: {'input_transform': 'min_max', 'target_transform': 'min_max'}. Best is trial 20 with value: 0.0048707767855376005.\n"
     ]
    },
    {
     "name": "stdout",
     "output_type": "stream",
     "text": [
      "Saved study after trial 84/100\n",
      "Early termination at epoch 37 with best validation metric 0.011741953727323562\n"
     ]
    },
    {
     "name": "stderr",
     "output_type": "stream",
     "text": [
      "[I 2025-06-17 23:04:26,765] Trial 84 finished with value: 0.011741953727323562 and parameters: {'input_transform': 'min_max', 'target_transform': 'min_max'}. Best is trial 20 with value: 0.0048707767855376005.\n"
     ]
    },
    {
     "name": "stdout",
     "output_type": "stream",
     "text": [
      "Saved study after trial 85/100\n",
      "Early termination at epoch 93 with best validation metric 0.01060819077247288\n"
     ]
    },
    {
     "name": "stderr",
     "output_type": "stream",
     "text": [
      "[I 2025-06-17 23:32:56,880] Trial 85 finished with value: 0.01060819077247288 and parameters: {'input_transform': 'min_max', 'target_transform': 'min_max'}. Best is trial 20 with value: 0.0048707767855376005.\n"
     ]
    },
    {
     "name": "stdout",
     "output_type": "stream",
     "text": [
      "Saved study after trial 86/100\n",
      "Early termination at epoch 98 with best validation metric 0.011950311076361686\n"
     ]
    },
    {
     "name": "stderr",
     "output_type": "stream",
     "text": [
      "[I 2025-06-18 00:02:57,553] Trial 86 finished with value: 0.011950311076361686 and parameters: {'input_transform': '8bit', 'target_transform': 'min_max'}. Best is trial 20 with value: 0.0048707767855376005.\n"
     ]
    },
    {
     "name": "stdout",
     "output_type": "stream",
     "text": [
      "Saved study after trial 87/100\n",
      "Early termination at epoch 34 with best validation metric 2.898594982922077\n"
     ]
    },
    {
     "name": "stderr",
     "output_type": "stream",
     "text": [
      "[I 2025-06-18 00:13:24,444] Trial 87 finished with value: 2.898594982922077 and parameters: {'input_transform': 'min_max', 'target_transform': '8bit'}. Best is trial 20 with value: 0.0048707767855376005.\n"
     ]
    },
    {
     "name": "stdout",
     "output_type": "stream",
     "text": [
      "Saved study after trial 88/100\n",
      "Early termination at epoch 56 with best validation metric 0.24767173873260617\n"
     ]
    },
    {
     "name": "stderr",
     "output_type": "stream",
     "text": [
      "[I 2025-06-18 00:30:36,767] Trial 88 finished with value: 0.24767173873260617 and parameters: {'input_transform': '8bit', 'target_transform': 'z_score'}. Best is trial 20 with value: 0.0048707767855376005.\n"
     ]
    },
    {
     "name": "stdout",
     "output_type": "stream",
     "text": [
      "Saved study after trial 89/100\n",
      "Early termination at epoch 103 with best validation metric 0.011427682758949231\n"
     ]
    },
    {
     "name": "stderr",
     "output_type": "stream",
     "text": [
      "[I 2025-06-18 01:02:08,834] Trial 89 finished with value: 0.011427682758949231 and parameters: {'input_transform': 'min_max', 'target_transform': 'min_max'}. Best is trial 20 with value: 0.0048707767855376005.\n"
     ]
    },
    {
     "name": "stdout",
     "output_type": "stream",
     "text": [
      "Saved study after trial 90/100\n",
      "Early termination at epoch 108 with best validation metric 0.011337701595039107\n"
     ]
    },
    {
     "name": "stderr",
     "output_type": "stream",
     "text": [
      "[I 2025-06-18 01:35:13,597] Trial 90 finished with value: 0.011337701595039107 and parameters: {'input_transform': 'min_max', 'target_transform': 'min_max'}. Best is trial 20 with value: 0.0048707767855376005.\n"
     ]
    },
    {
     "name": "stdout",
     "output_type": "stream",
     "text": [
      "Saved study after trial 91/100\n",
      "Early termination at epoch 56 with best validation metric 0.011496185790747404\n"
     ]
    },
    {
     "name": "stderr",
     "output_type": "stream",
     "text": [
      "[I 2025-06-18 01:52:24,757] Trial 91 finished with value: 0.011496185790747404 and parameters: {'input_transform': 'min_max', 'target_transform': 'min_max'}. Best is trial 20 with value: 0.0048707767855376005.\n"
     ]
    },
    {
     "name": "stdout",
     "output_type": "stream",
     "text": [
      "Saved study after trial 92/100\n",
      "Early termination at epoch 89 with best validation metric 0.011549254981218837\n"
     ]
    },
    {
     "name": "stderr",
     "output_type": "stream",
     "text": [
      "[I 2025-06-18 02:19:41,483] Trial 92 finished with value: 0.011549254981218837 and parameters: {'input_transform': 'min_max', 'target_transform': 'min_max'}. Best is trial 20 with value: 0.0048707767855376005.\n"
     ]
    },
    {
     "name": "stdout",
     "output_type": "stream",
     "text": [
      "Saved study after trial 93/100\n",
      "Early termination at epoch 86 with best validation metric 0.011791873257607222\n"
     ]
    },
    {
     "name": "stderr",
     "output_type": "stream",
     "text": [
      "[I 2025-06-18 02:46:03,059] Trial 93 finished with value: 0.011791873257607222 and parameters: {'input_transform': 'min_max', 'target_transform': 'min_max'}. Best is trial 20 with value: 0.0048707767855376005.\n"
     ]
    },
    {
     "name": "stdout",
     "output_type": "stream",
     "text": [
      "Saved study after trial 94/100\n",
      "Early termination at epoch 71 with best validation metric 0.012996492208912969\n"
     ]
    },
    {
     "name": "stderr",
     "output_type": "stream",
     "text": [
      "[I 2025-06-18 03:07:47,945] Trial 94 finished with value: 0.012996492208912969 and parameters: {'input_transform': 'min_max', 'target_transform': 'min_max'}. Best is trial 20 with value: 0.0048707767855376005.\n"
     ]
    },
    {
     "name": "stdout",
     "output_type": "stream",
     "text": [
      "Saved study after trial 95/100\n",
      "Early termination at epoch 84 with best validation metric 0.012114595214370638\n"
     ]
    },
    {
     "name": "stderr",
     "output_type": "stream",
     "text": [
      "[I 2025-06-18 03:33:32,997] Trial 95 finished with value: 0.012114595214370638 and parameters: {'input_transform': '8bit', 'target_transform': 'min_max'}. Best is trial 20 with value: 0.0048707767855376005.\n"
     ]
    },
    {
     "name": "stdout",
     "output_type": "stream",
     "text": [
      "Saved study after trial 96/100\n",
      "Early termination at epoch 79 with best validation metric 0.01154065749142319\n"
     ]
    },
    {
     "name": "stderr",
     "output_type": "stream",
     "text": [
      "[I 2025-06-18 03:57:46,074] Trial 96 finished with value: 0.01154065749142319 and parameters: {'input_transform': 'min_max', 'target_transform': 'min_max'}. Best is trial 20 with value: 0.0048707767855376005.\n"
     ]
    },
    {
     "name": "stdout",
     "output_type": "stream",
     "text": [
      "Saved study after trial 97/100\n",
      "Early termination at epoch 75 with best validation metric 0.011586146109038964\n"
     ]
    },
    {
     "name": "stderr",
     "output_type": "stream",
     "text": [
      "[I 2025-06-18 04:20:48,211] Trial 97 finished with value: 0.011586146109038964 and parameters: {'input_transform': 'min_max', 'target_transform': 'min_max'}. Best is trial 20 with value: 0.0048707767855376005.\n"
     ]
    },
    {
     "name": "stdout",
     "output_type": "stream",
     "text": [
      "Saved study after trial 98/100\n",
      "Early termination at epoch 31 with best validation metric 0.011963141165324487\n"
     ]
    },
    {
     "name": "stderr",
     "output_type": "stream",
     "text": [
      "[I 2025-06-18 04:30:20,807] Trial 98 finished with value: 0.011963141165324487 and parameters: {'input_transform': 'z_score', 'target_transform': 'min_max'}. Best is trial 20 with value: 0.0048707767855376005.\n"
     ]
    },
    {
     "name": "stdout",
     "output_type": "stream",
     "text": [
      "Saved study after trial 99/100\n",
      "Early termination at epoch 94 with best validation metric 0.01224787556566298\n"
     ]
    },
    {
     "name": "stderr",
     "output_type": "stream",
     "text": [
      "[I 2025-06-18 04:59:12,154] Trial 99 finished with value: 0.01224787556566298 and parameters: {'input_transform': '8bit', 'target_transform': 'min_max'}. Best is trial 20 with value: 0.0048707767855376005.\n"
     ]
    },
    {
     "name": "stdout",
     "output_type": "stream",
     "text": [
      "Saved study after trial 100/100\n",
      "100 of Normalization Method Optimization for OrigDNA completed.\n",
      "Best trial for channel OrigDNA:\n",
      "  Validation Loss: 0.0048707767855376005\n",
      "  Hyperparameters: {'input_transform': 'min_max', 'target_transform': 'min_max'}\n",
      "Beginning optimization for channel: OrigER for io normalization methods\n",
      "Early termination at epoch 87 with best validation metric 0.017332591902231798\n"
     ]
    },
    {
     "name": "stderr",
     "output_type": "stream",
     "text": [
      "[I 2025-06-18 05:25:52,170] Trial 50 finished with value: 0.017332591902231798 and parameters: {'input_transform': '8bit', 'target_transform': 'min_max'}. Best is trial 16 with value: 0.004642733547370881.\n"
     ]
    },
    {
     "name": "stdout",
     "output_type": "stream",
     "text": [
      "Saved study after trial 51/100\n",
      "Early termination at epoch 70 with best validation metric 0.01786090392852202\n"
     ]
    },
    {
     "name": "stderr",
     "output_type": "stream",
     "text": [
      "[I 2025-06-18 05:47:20,092] Trial 51 finished with value: 0.01786090392852202 and parameters: {'input_transform': 'z_score', 'target_transform': 'min_max'}. Best is trial 16 with value: 0.004642733547370881.\n"
     ]
    },
    {
     "name": "stdout",
     "output_type": "stream",
     "text": [
      "Saved study after trial 52/100\n",
      "Early termination at epoch 54 with best validation metric 0.01746530906530097\n"
     ]
    },
    {
     "name": "stderr",
     "output_type": "stream",
     "text": [
      "[I 2025-06-18 06:03:55,110] Trial 52 finished with value: 0.01746530906530097 and parameters: {'input_transform': 'z_score', 'target_transform': 'min_max'}. Best is trial 16 with value: 0.004642733547370881.\n"
     ]
    },
    {
     "name": "stdout",
     "output_type": "stream",
     "text": [
      "Saved study after trial 53/100\n",
      "Early termination at epoch 62 with best validation metric 0.016314431792125106\n"
     ]
    },
    {
     "name": "stderr",
     "output_type": "stream",
     "text": [
      "[I 2025-06-18 06:22:55,498] Trial 53 finished with value: 0.016314431792125106 and parameters: {'input_transform': 'z_score', 'target_transform': 'min_max'}. Best is trial 16 with value: 0.004642733547370881.\n"
     ]
    },
    {
     "name": "stdout",
     "output_type": "stream",
     "text": [
      "Saved study after trial 54/100\n",
      "Early termination at epoch 58 with best validation metric 0.017537297680974007\n"
     ]
    },
    {
     "name": "stderr",
     "output_type": "stream",
     "text": [
      "[I 2025-06-18 06:40:41,903] Trial 54 finished with value: 0.017537297680974007 and parameters: {'input_transform': '8bit', 'target_transform': 'min_max'}. Best is trial 16 with value: 0.004642733547370881.\n"
     ]
    },
    {
     "name": "stdout",
     "output_type": "stream",
     "text": [
      "Saved study after trial 55/100\n",
      "Early termination at epoch 60 with best validation metric 0.016377270731027238\n"
     ]
    },
    {
     "name": "stderr",
     "output_type": "stream",
     "text": [
      "[I 2025-06-18 06:59:05,938] Trial 55 finished with value: 0.016377270731027238 and parameters: {'input_transform': 'min_max', 'target_transform': 'min_max'}. Best is trial 16 with value: 0.004642733547370881.\n"
     ]
    },
    {
     "name": "stdout",
     "output_type": "stream",
     "text": [
      "Saved study after trial 56/100\n",
      "Early termination at epoch 100 with best validation metric 0.01717258119606413\n"
     ]
    },
    {
     "name": "stderr",
     "output_type": "stream",
     "text": [
      "[I 2025-06-18 07:29:45,999] Trial 56 finished with value: 0.01717258119606413 and parameters: {'input_transform': 'z_score', 'target_transform': 'min_max'}. Best is trial 16 with value: 0.004642733547370881.\n"
     ]
    },
    {
     "name": "stdout",
     "output_type": "stream",
     "text": [
      "Saved study after trial 57/100\n",
      "Early termination at epoch 72 with best validation metric 0.017623330757487565\n"
     ]
    },
    {
     "name": "stderr",
     "output_type": "stream",
     "text": [
      "[I 2025-06-18 07:51:52,475] Trial 57 finished with value: 0.017623330757487565 and parameters: {'input_transform': 'z_score', 'target_transform': 'min_max'}. Best is trial 16 with value: 0.004642733547370881.\n"
     ]
    },
    {
     "name": "stdout",
     "output_type": "stream",
     "text": [
      "Saved study after trial 58/100\n",
      "Early termination at epoch 43 with best validation metric 4.557179793715477\n"
     ]
    },
    {
     "name": "stderr",
     "output_type": "stream",
     "text": [
      "[I 2025-06-18 08:05:04,037] Trial 58 finished with value: 4.557179793715477 and parameters: {'input_transform': 'z_score', 'target_transform': '8bit'}. Best is trial 16 with value: 0.004642733547370881.\n"
     ]
    },
    {
     "name": "stdout",
     "output_type": "stream",
     "text": [
      "Saved study after trial 59/100\n",
      "Early termination at epoch 110 with best validation metric 0.32003489322960377\n"
     ]
    },
    {
     "name": "stderr",
     "output_type": "stream",
     "text": [
      "[I 2025-06-18 08:38:44,153] Trial 59 finished with value: 0.32003489322960377 and parameters: {'input_transform': 'min_max', 'target_transform': 'z_score'}. Best is trial 16 with value: 0.004642733547370881.\n"
     ]
    },
    {
     "name": "stdout",
     "output_type": "stream",
     "text": [
      "Saved study after trial 60/100\n",
      "Early termination at epoch 64 with best validation metric 0.019427790044574067\n"
     ]
    },
    {
     "name": "stderr",
     "output_type": "stream",
     "text": [
      "[I 2025-06-18 08:58:20,019] Trial 60 finished with value: 0.019427790044574067 and parameters: {'input_transform': 'z_score', 'target_transform': 'min_max'}. Best is trial 16 with value: 0.004642733547370881.\n"
     ]
    },
    {
     "name": "stdout",
     "output_type": "stream",
     "text": [
      "Saved study after trial 61/100\n",
      "Early termination at epoch 45 with best validation metric 0.017164007876999676\n"
     ]
    },
    {
     "name": "stderr",
     "output_type": "stream",
     "text": [
      "[I 2025-06-18 09:12:07,716] Trial 61 finished with value: 0.017164007876999676 and parameters: {'input_transform': 'z_score', 'target_transform': 'min_max'}. Best is trial 16 with value: 0.004642733547370881.\n"
     ]
    },
    {
     "name": "stdout",
     "output_type": "stream",
     "text": [
      "Saved study after trial 62/100\n",
      "Early termination at epoch 43 with best validation metric 0.01754205537145026\n"
     ]
    },
    {
     "name": "stderr",
     "output_type": "stream",
     "text": [
      "[I 2025-06-18 09:25:19,279] Trial 62 finished with value: 0.01754205537145026 and parameters: {'input_transform': 'z_score', 'target_transform': 'min_max'}. Best is trial 16 with value: 0.004642733547370881.\n"
     ]
    },
    {
     "name": "stdout",
     "output_type": "stream",
     "text": [
      "Saved study after trial 63/100\n",
      "Early termination at epoch 79 with best validation metric 0.017185176780913025\n"
     ]
    },
    {
     "name": "stderr",
     "output_type": "stream",
     "text": [
      "[I 2025-06-18 09:49:30,398] Trial 63 finished with value: 0.017185176780913025 and parameters: {'input_transform': 'z_score', 'target_transform': 'min_max'}. Best is trial 16 with value: 0.004642733547370881.\n"
     ]
    },
    {
     "name": "stdout",
     "output_type": "stream",
     "text": [
      "Saved study after trial 64/100\n"
     ]
    },
    {
     "name": "stderr",
     "output_type": "stream",
     "text": [
      "[W 2025-06-18 09:56:40,246] Trial 64 failed with parameters: {'input_transform': 'z_score', 'target_transform': 'min_max'} because of the following error: KeyboardInterrupt().\n",
      "Traceback (most recent call last):\n",
      "  File \"/home/weishanli/anaconda3/envs/speckle_analysis/lib/python3.11/site-packages/optuna/study/_optimize.py\", line 197, in _run_trial\n",
      "    value_or_values = func(trial)\n",
      "                      ^^^^^^^^^^^\n",
      "  File \"/tmp/ipykernel_23237/989379415.py\", line 61, in <lambda>\n",
      "    study.optimize(lambda trial: objective(trial, pds, channel_name), n_trials=1)\n",
      "                                 ^^^^^^^^^^^^^^^^^^^^^^^^^^^^^^^^^^^\n",
      "  File \"/tmp/ipykernel_23237/1915596034.py\", line 86, in objective\n",
      "    trainer.train()\n",
      "  File \"/home/weishanli/Waylab/virtual_stain_flow/trainers/AbstractTrainer.py\", line 193, in train\n",
      "    train_loss = self.train_epoch()\n",
      "                 ^^^^^^^^^^^^^^^^^^\n",
      "  File \"/home/weishanli/Waylab/virtual_stain_flow/trainers/Trainer.py\", line 119, in train_epoch\n",
      "    batch_loss = self.train_step(inputs, targets)\n",
      "                 ^^^^^^^^^^^^^^^^^^^^^^^^^^^^^^^^\n",
      "  File \"/home/weishanli/Waylab/virtual_stain_flow/trainers/Trainer.py\", line 63, in train_step\n",
      "    total_loss = torch.tensor(0.0, device=self.device)\n",
      "                 ^^^^^^^^^^^^^^^^^^^^^^^^^^^^^^^^^^^^^\n",
      "KeyboardInterrupt\n",
      "[W 2025-06-18 09:56:40,261] Trial 64 failed with value None.\n"
     ]
    },
    {
     "ename": "KeyboardInterrupt",
     "evalue": "",
     "output_type": "error",
     "traceback": [
      "\u001b[0;31m---------------------------------------------------------------------------\u001b[0m",
      "\u001b[0;31mKeyboardInterrupt\u001b[0m                         Traceback (most recent call last)",
      "Cell \u001b[0;32mIn[7], line 61\u001b[0m\n\u001b[1;32m     59\u001b[0m \u001b[38;5;66;03m# Resume optimization and run up until N_TRIALS\u001b[39;00m\n\u001b[1;32m     60\u001b[0m \u001b[38;5;28;01mwhile\u001b[39;00m \u001b[38;5;28mlen\u001b[39m(study\u001b[38;5;241m.\u001b[39mtrials) \u001b[38;5;241m<\u001b[39m N_TRIALS:\n\u001b[0;32m---> 61\u001b[0m     study\u001b[38;5;241m.\u001b[39moptimize(\u001b[38;5;28;01mlambda\u001b[39;00m trial: objective(trial, pds, channel_name), n_trials\u001b[38;5;241m=\u001b[39m\u001b[38;5;241m1\u001b[39m)\n\u001b[1;32m     62\u001b[0m     joblib\u001b[38;5;241m.\u001b[39mdump(study, study_path)\n\u001b[1;32m     63\u001b[0m     \u001b[38;5;28mprint\u001b[39m(\u001b[38;5;124mf\u001b[39m\u001b[38;5;124m\"\u001b[39m\u001b[38;5;124mSaved study after trial \u001b[39m\u001b[38;5;132;01m{\u001b[39;00m\u001b[38;5;28mlen\u001b[39m(study\u001b[38;5;241m.\u001b[39mtrials)\u001b[38;5;132;01m}\u001b[39;00m\u001b[38;5;124m/\u001b[39m\u001b[38;5;132;01m{\u001b[39;00mN_TRIALS\u001b[38;5;132;01m}\u001b[39;00m\u001b[38;5;124m\"\u001b[39m)\n",
      "File \u001b[0;32m~/anaconda3/envs/speckle_analysis/lib/python3.11/site-packages/optuna/study/study.py:475\u001b[0m, in \u001b[0;36mStudy.optimize\u001b[0;34m(self, func, n_trials, timeout, n_jobs, catch, callbacks, gc_after_trial, show_progress_bar)\u001b[0m\n\u001b[1;32m    373\u001b[0m \u001b[38;5;28;01mdef\u001b[39;00m \u001b[38;5;21moptimize\u001b[39m(\n\u001b[1;32m    374\u001b[0m     \u001b[38;5;28mself\u001b[39m,\n\u001b[1;32m    375\u001b[0m     func: ObjectiveFuncType,\n\u001b[0;32m   (...)\u001b[0m\n\u001b[1;32m    382\u001b[0m     show_progress_bar: \u001b[38;5;28mbool\u001b[39m \u001b[38;5;241m=\u001b[39m \u001b[38;5;28;01mFalse\u001b[39;00m,\n\u001b[1;32m    383\u001b[0m ) \u001b[38;5;241m-\u001b[39m\u001b[38;5;241m>\u001b[39m \u001b[38;5;28;01mNone\u001b[39;00m:\n\u001b[1;32m    384\u001b[0m \u001b[38;5;250m    \u001b[39m\u001b[38;5;124;03m\"\"\"Optimize an objective function.\u001b[39;00m\n\u001b[1;32m    385\u001b[0m \n\u001b[1;32m    386\u001b[0m \u001b[38;5;124;03m    Optimization is done by choosing a suitable set of hyperparameter values from a given\u001b[39;00m\n\u001b[0;32m   (...)\u001b[0m\n\u001b[1;32m    473\u001b[0m \u001b[38;5;124;03m            If nested invocation of this method occurs.\u001b[39;00m\n\u001b[1;32m    474\u001b[0m \u001b[38;5;124;03m    \"\"\"\u001b[39;00m\n\u001b[0;32m--> 475\u001b[0m     _optimize(\n\u001b[1;32m    476\u001b[0m         study\u001b[38;5;241m=\u001b[39m\u001b[38;5;28mself\u001b[39m,\n\u001b[1;32m    477\u001b[0m         func\u001b[38;5;241m=\u001b[39mfunc,\n\u001b[1;32m    478\u001b[0m         n_trials\u001b[38;5;241m=\u001b[39mn_trials,\n\u001b[1;32m    479\u001b[0m         timeout\u001b[38;5;241m=\u001b[39mtimeout,\n\u001b[1;32m    480\u001b[0m         n_jobs\u001b[38;5;241m=\u001b[39mn_jobs,\n\u001b[1;32m    481\u001b[0m         catch\u001b[38;5;241m=\u001b[39m\u001b[38;5;28mtuple\u001b[39m(catch) \u001b[38;5;28;01mif\u001b[39;00m \u001b[38;5;28misinstance\u001b[39m(catch, Iterable) \u001b[38;5;28;01melse\u001b[39;00m (catch,),\n\u001b[1;32m    482\u001b[0m         callbacks\u001b[38;5;241m=\u001b[39mcallbacks,\n\u001b[1;32m    483\u001b[0m         gc_after_trial\u001b[38;5;241m=\u001b[39mgc_after_trial,\n\u001b[1;32m    484\u001b[0m         show_progress_bar\u001b[38;5;241m=\u001b[39mshow_progress_bar,\n\u001b[1;32m    485\u001b[0m     )\n",
      "File \u001b[0;32m~/anaconda3/envs/speckle_analysis/lib/python3.11/site-packages/optuna/study/_optimize.py:63\u001b[0m, in \u001b[0;36m_optimize\u001b[0;34m(study, func, n_trials, timeout, n_jobs, catch, callbacks, gc_after_trial, show_progress_bar)\u001b[0m\n\u001b[1;32m     61\u001b[0m \u001b[38;5;28;01mtry\u001b[39;00m:\n\u001b[1;32m     62\u001b[0m     \u001b[38;5;28;01mif\u001b[39;00m n_jobs \u001b[38;5;241m==\u001b[39m \u001b[38;5;241m1\u001b[39m:\n\u001b[0;32m---> 63\u001b[0m         _optimize_sequential(\n\u001b[1;32m     64\u001b[0m             study,\n\u001b[1;32m     65\u001b[0m             func,\n\u001b[1;32m     66\u001b[0m             n_trials,\n\u001b[1;32m     67\u001b[0m             timeout,\n\u001b[1;32m     68\u001b[0m             catch,\n\u001b[1;32m     69\u001b[0m             callbacks,\n\u001b[1;32m     70\u001b[0m             gc_after_trial,\n\u001b[1;32m     71\u001b[0m             reseed_sampler_rng\u001b[38;5;241m=\u001b[39m\u001b[38;5;28;01mFalse\u001b[39;00m,\n\u001b[1;32m     72\u001b[0m             time_start\u001b[38;5;241m=\u001b[39m\u001b[38;5;28;01mNone\u001b[39;00m,\n\u001b[1;32m     73\u001b[0m             progress_bar\u001b[38;5;241m=\u001b[39mprogress_bar,\n\u001b[1;32m     74\u001b[0m         )\n\u001b[1;32m     75\u001b[0m     \u001b[38;5;28;01melse\u001b[39;00m:\n\u001b[1;32m     76\u001b[0m         \u001b[38;5;28;01mif\u001b[39;00m n_jobs \u001b[38;5;241m==\u001b[39m \u001b[38;5;241m-\u001b[39m\u001b[38;5;241m1\u001b[39m:\n",
      "File \u001b[0;32m~/anaconda3/envs/speckle_analysis/lib/python3.11/site-packages/optuna/study/_optimize.py:160\u001b[0m, in \u001b[0;36m_optimize_sequential\u001b[0;34m(study, func, n_trials, timeout, catch, callbacks, gc_after_trial, reseed_sampler_rng, time_start, progress_bar)\u001b[0m\n\u001b[1;32m    157\u001b[0m         \u001b[38;5;28;01mbreak\u001b[39;00m\n\u001b[1;32m    159\u001b[0m \u001b[38;5;28;01mtry\u001b[39;00m:\n\u001b[0;32m--> 160\u001b[0m     frozen_trial \u001b[38;5;241m=\u001b[39m _run_trial(study, func, catch)\n\u001b[1;32m    161\u001b[0m \u001b[38;5;28;01mfinally\u001b[39;00m:\n\u001b[1;32m    162\u001b[0m     \u001b[38;5;66;03m# The following line mitigates memory problems that can be occurred in some\u001b[39;00m\n\u001b[1;32m    163\u001b[0m     \u001b[38;5;66;03m# environments (e.g., services that use computing containers such as GitHub Actions).\u001b[39;00m\n\u001b[1;32m    164\u001b[0m     \u001b[38;5;66;03m# Please refer to the following PR for further details:\u001b[39;00m\n\u001b[1;32m    165\u001b[0m     \u001b[38;5;66;03m# https://github.com/optuna/optuna/pull/325.\u001b[39;00m\n\u001b[1;32m    166\u001b[0m     \u001b[38;5;28;01mif\u001b[39;00m gc_after_trial:\n",
      "File \u001b[0;32m~/anaconda3/envs/speckle_analysis/lib/python3.11/site-packages/optuna/study/_optimize.py:248\u001b[0m, in \u001b[0;36m_run_trial\u001b[0;34m(study, func, catch)\u001b[0m\n\u001b[1;32m    241\u001b[0m         \u001b[38;5;28;01massert\u001b[39;00m \u001b[38;5;28;01mFalse\u001b[39;00m, \u001b[38;5;124m\"\u001b[39m\u001b[38;5;124mShould not reach.\u001b[39m\u001b[38;5;124m\"\u001b[39m\n\u001b[1;32m    243\u001b[0m \u001b[38;5;28;01mif\u001b[39;00m (\n\u001b[1;32m    244\u001b[0m     frozen_trial\u001b[38;5;241m.\u001b[39mstate \u001b[38;5;241m==\u001b[39m TrialState\u001b[38;5;241m.\u001b[39mFAIL\n\u001b[1;32m    245\u001b[0m     \u001b[38;5;129;01mand\u001b[39;00m func_err \u001b[38;5;129;01mis\u001b[39;00m \u001b[38;5;129;01mnot\u001b[39;00m \u001b[38;5;28;01mNone\u001b[39;00m\n\u001b[1;32m    246\u001b[0m     \u001b[38;5;129;01mand\u001b[39;00m \u001b[38;5;129;01mnot\u001b[39;00m \u001b[38;5;28misinstance\u001b[39m(func_err, catch)\n\u001b[1;32m    247\u001b[0m ):\n\u001b[0;32m--> 248\u001b[0m     \u001b[38;5;28;01mraise\u001b[39;00m func_err\n\u001b[1;32m    249\u001b[0m \u001b[38;5;28;01mreturn\u001b[39;00m frozen_trial\n",
      "File \u001b[0;32m~/anaconda3/envs/speckle_analysis/lib/python3.11/site-packages/optuna/study/_optimize.py:197\u001b[0m, in \u001b[0;36m_run_trial\u001b[0;34m(study, func, catch)\u001b[0m\n\u001b[1;32m    195\u001b[0m \u001b[38;5;28;01mwith\u001b[39;00m get_heartbeat_thread(trial\u001b[38;5;241m.\u001b[39m_trial_id, study\u001b[38;5;241m.\u001b[39m_storage):\n\u001b[1;32m    196\u001b[0m     \u001b[38;5;28;01mtry\u001b[39;00m:\n\u001b[0;32m--> 197\u001b[0m         value_or_values \u001b[38;5;241m=\u001b[39m func(trial)\n\u001b[1;32m    198\u001b[0m     \u001b[38;5;28;01mexcept\u001b[39;00m exceptions\u001b[38;5;241m.\u001b[39mTrialPruned \u001b[38;5;28;01mas\u001b[39;00m e:\n\u001b[1;32m    199\u001b[0m         \u001b[38;5;66;03m# TODO(mamu): Handle multi-objective cases.\u001b[39;00m\n\u001b[1;32m    200\u001b[0m         state \u001b[38;5;241m=\u001b[39m TrialState\u001b[38;5;241m.\u001b[39mPRUNED\n",
      "Cell \u001b[0;32mIn[7], line 61\u001b[0m, in \u001b[0;36m<lambda>\u001b[0;34m(trial)\u001b[0m\n\u001b[1;32m     59\u001b[0m \u001b[38;5;66;03m# Resume optimization and run up until N_TRIALS\u001b[39;00m\n\u001b[1;32m     60\u001b[0m \u001b[38;5;28;01mwhile\u001b[39;00m \u001b[38;5;28mlen\u001b[39m(study\u001b[38;5;241m.\u001b[39mtrials) \u001b[38;5;241m<\u001b[39m N_TRIALS:\n\u001b[0;32m---> 61\u001b[0m     study\u001b[38;5;241m.\u001b[39moptimize(\u001b[38;5;28;01mlambda\u001b[39;00m trial: objective(trial, pds, channel_name), n_trials\u001b[38;5;241m=\u001b[39m\u001b[38;5;241m1\u001b[39m)\n\u001b[1;32m     62\u001b[0m     joblib\u001b[38;5;241m.\u001b[39mdump(study, study_path)\n\u001b[1;32m     63\u001b[0m     \u001b[38;5;28mprint\u001b[39m(\u001b[38;5;124mf\u001b[39m\u001b[38;5;124m\"\u001b[39m\u001b[38;5;124mSaved study after trial \u001b[39m\u001b[38;5;132;01m{\u001b[39;00m\u001b[38;5;28mlen\u001b[39m(study\u001b[38;5;241m.\u001b[39mtrials)\u001b[38;5;132;01m}\u001b[39;00m\u001b[38;5;124m/\u001b[39m\u001b[38;5;132;01m{\u001b[39;00mN_TRIALS\u001b[38;5;132;01m}\u001b[39;00m\u001b[38;5;124m\"\u001b[39m)\n",
      "Cell \u001b[0;32mIn[6], line 86\u001b[0m, in \u001b[0;36mobjective\u001b[0;34m(trial, dataset, channel_name)\u001b[0m\n\u001b[1;32m     71\u001b[0m trainer \u001b[38;5;241m=\u001b[39m Trainer(\n\u001b[1;32m     72\u001b[0m     model \u001b[38;5;241m=\u001b[39m model,\n\u001b[1;32m     73\u001b[0m     optimizer \u001b[38;5;241m=\u001b[39m optimizer,\n\u001b[0;32m   (...)\u001b[0m\n\u001b[1;32m     82\u001b[0m     early_termination_metric\u001b[38;5;241m=\u001b[39m\u001b[38;5;124m'\u001b[39m\u001b[38;5;124mL1Loss\u001b[39m\u001b[38;5;124m'\u001b[39m\n\u001b[1;32m     83\u001b[0m )\n\u001b[1;32m     85\u001b[0m \u001b[38;5;66;03m# Train the model and log validation loss\u001b[39;00m\n\u001b[0;32m---> 86\u001b[0m trainer\u001b[38;5;241m.\u001b[39mtrain()\n\u001b[1;32m     87\u001b[0m val_loss \u001b[38;5;241m=\u001b[39m trainer\u001b[38;5;241m.\u001b[39mbest_loss\n\u001b[1;32m     89\u001b[0m \u001b[38;5;28;01mdel\u001b[39;00m model\n",
      "File \u001b[0;32m~/Waylab/virtual_stain_flow/trainers/AbstractTrainer.py:193\u001b[0m, in \u001b[0;36mAbstractTrainer.train\u001b[0;34m(self)\u001b[0m\n\u001b[1;32m    190\u001b[0m     metric\u001b[38;5;241m.\u001b[39mreset()\n\u001b[1;32m    192\u001b[0m \u001b[38;5;66;03m# Train the model for one epoch\u001b[39;00m\n\u001b[0;32m--> 193\u001b[0m train_loss \u001b[38;5;241m=\u001b[39m \u001b[38;5;28mself\u001b[39m\u001b[38;5;241m.\u001b[39mtrain_epoch()\n\u001b[1;32m    194\u001b[0m \u001b[38;5;28;01mfor\u001b[39;00m loss_name, loss \u001b[38;5;129;01min\u001b[39;00m train_loss\u001b[38;5;241m.\u001b[39mitems():\n\u001b[1;32m    195\u001b[0m     \u001b[38;5;28mself\u001b[39m\u001b[38;5;241m.\u001b[39m_train_losses[loss_name]\u001b[38;5;241m.\u001b[39mappend(loss)\n",
      "File \u001b[0;32m~/Waylab/virtual_stain_flow/trainers/Trainer.py:119\u001b[0m, in \u001b[0;36mTrainer.train_epoch\u001b[0;34m(self)\u001b[0m\n\u001b[1;32m    117\u001b[0m \u001b[38;5;66;03m# Iterate over the train_loader\u001b[39;00m\n\u001b[1;32m    118\u001b[0m \u001b[38;5;28;01mfor\u001b[39;00m inputs, targets \u001b[38;5;129;01min\u001b[39;00m \u001b[38;5;28mself\u001b[39m\u001b[38;5;241m.\u001b[39m_train_loader:\n\u001b[0;32m--> 119\u001b[0m     batch_loss \u001b[38;5;241m=\u001b[39m \u001b[38;5;28mself\u001b[39m\u001b[38;5;241m.\u001b[39mtrain_step(inputs, targets)\n\u001b[1;32m    120\u001b[0m     \u001b[38;5;28;01mfor\u001b[39;00m key, value \u001b[38;5;129;01min\u001b[39;00m batch_loss\u001b[38;5;241m.\u001b[39mitems():\n\u001b[1;32m    121\u001b[0m         losses[key]\u001b[38;5;241m.\u001b[39mappend(value)\n",
      "File \u001b[0;32m~/Waylab/virtual_stain_flow/trainers/Trainer.py:63\u001b[0m, in \u001b[0;36mTrainer.train_step\u001b[0;34m(self, inputs, targets)\u001b[0m\n\u001b[1;32m     61\u001b[0m \u001b[38;5;66;03m# Back propagate the loss\u001b[39;00m\n\u001b[1;32m     62\u001b[0m losses \u001b[38;5;241m=\u001b[39m {}\n\u001b[0;32m---> 63\u001b[0m total_loss \u001b[38;5;241m=\u001b[39m torch\u001b[38;5;241m.\u001b[39mtensor(\u001b[38;5;241m0.0\u001b[39m, device\u001b[38;5;241m=\u001b[39m\u001b[38;5;28mself\u001b[39m\u001b[38;5;241m.\u001b[39mdevice)\n\u001b[1;32m     64\u001b[0m \u001b[38;5;28;01mfor\u001b[39;00m loss \u001b[38;5;129;01min\u001b[39;00m \u001b[38;5;28mself\u001b[39m\u001b[38;5;241m.\u001b[39m_backprop_loss:\n\u001b[1;32m     65\u001b[0m     losses[\u001b[38;5;28mtype\u001b[39m(loss)\u001b[38;5;241m.\u001b[39m\u001b[38;5;18m__name__\u001b[39m] \u001b[38;5;241m=\u001b[39m loss(outputs, targets)\n",
      "\u001b[0;31mKeyboardInterrupt\u001b[0m: "
     ]
    }
   ],
   "source": [
    "N_TRIALS = 100\n",
    "\n",
    "## Loaddata for optimization\n",
    "loaddata_df = pd.read_csv(LOADDATA_FILE_PATH)\n",
    "sc_features = pd.DataFrame()\n",
    "\n",
    "## Retrieve relevant sc features by assemblying them from parquet files\n",
    "for plate in loaddata_df['Metadata_Plate'].unique():\n",
    "    sc_features_parquet = SC_FEATURES_DIR / f'{plate}_sc_normalized.parquet'\n",
    "    if not sc_features_parquet.exists():\n",
    "        print(f'{sc_features_parquet} does not exist, skipping...')\n",
    "        continue \n",
    "    else:\n",
    "        sc_features = pd.concat([\n",
    "            sc_features, \n",
    "            pd.read_parquet(\n",
    "                sc_features_parquet,\n",
    "                columns=['Metadata_Plate', 'Metadata_Well', 'Metadata_Site', 'Metadata_Cells_Location_Center_X', 'Metadata_Cells_Location_Center_Y']\n",
    "            )\n",
    "        ])\n",
    "\n",
    "## Create patch dataset\n",
    "pds = PatchDataset(\n",
    "        _loaddata_csv=loaddata_df,\n",
    "        _sc_feature=sc_features,\n",
    "        _input_channel_keys=INPUT_CHANNEL_NAMES,\n",
    "        _target_channel_keys=TARGET_CHANNEL_NAMES,\n",
    "        _input_transform=None,\n",
    "        _target_transform=None,\n",
    "        patch_size=PATCH_SIZE,\n",
    "        verbose=False,\n",
    "        patch_generation_method=\"random_cell\",\n",
    "        n_expected_patches_per_img=50,\n",
    "        patch_generation_random_seed=42\n",
    "    )\n",
    "\n",
    "for channel_name in TARGET_CHANNEL_NAMES:\n",
    "\n",
    "    ## Configure dataset channel\n",
    "    pds.set_input_channel_keys(INPUT_CHANNEL_NAMES)\n",
    "    pds.set_target_channel_keys(channel_name)\n",
    "    ## Caching of dataset is handled within the objective function due \n",
    "    ## to the need to change normalization methods for each trial\n",
    "\n",
    "    print(f\"Beginning optimization for channel: {channel_name} for io normalization methods\")\n",
    "\n",
    "    # Load the existing study\n",
    "    study_path = OPTUNA_JOBLIB_DIR / f\"FNet_optimize_{channel_name}_io_norm.joblib\"\n",
    "    if study_path.exists():\n",
    "        study = joblib.load(study_path)\n",
    "    else:\n",
    "        # Or create if not already existing\n",
    "        study = optuna.create_study(\n",
    "            direction=\"minimize\",\n",
    "            study_name=f\"FNet_optimize_{channel_name}_io_norm\",\n",
    "            sampler=optuna.samplers.TPESampler(seed=42)\n",
    "        )\n",
    "\n",
    "    # Resume optimization and run up until N_TRIALS\n",
    "    while len(study.trials) < N_TRIALS:\n",
    "        study.optimize(lambda trial: objective(trial, pds, channel_name), n_trials=1)\n",
    "        joblib.dump(study, study_path)\n",
    "        print(f\"Saved study after trial {len(study.trials)}/{N_TRIALS}\")\n",
    "    \n",
    "    print(f\"{N_TRIALS} of Normalization Method Optimization for {channel_name} completed.\")\n",
    "\n",
    "    # Print best trial results\n",
    "    print(f\"Best trial for channel {channel_name}:\")\n",
    "    print(f\"  Validation Loss: {study.best_trial.value}\")\n",
    "    print(f\"  Hyperparameters: {study.best_trial.params}\")"
   ]
  }
 ],
 "metadata": {
  "kernelspec": {
   "display_name": "speckle_analysis",
   "language": "python",
   "name": "python3"
  },
  "language_info": {
   "codemirror_mode": {
    "name": "ipython",
    "version": 3
   },
   "file_extension": ".py",
   "mimetype": "text/x-python",
   "name": "python",
   "nbconvert_exporter": "python",
   "pygments_lexer": "ipython3",
   "version": "3.11.11"
  }
 },
 "nbformat": 4,
 "nbformat_minor": 2
}
