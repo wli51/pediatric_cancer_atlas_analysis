{
 "cells": [
  {
   "cell_type": "markdown",
   "metadata": {},
   "source": [
    "## This notebook runs optimization experiments on different combination of input/target normalization image transforms using the FNet model architecture by fixing hyper parameters during training to understand the effect of normalization methods on model performance."
   ]
  },
  {
   "cell_type": "code",
   "execution_count": 1,
   "metadata": {},
   "outputs": [],
   "source": [
    "import pathlib\n",
    "import sys\n",
    "import subprocess\n",
    "import yaml\n",
    "import gc\n",
    "\n",
    "import pandas as pd\n",
    "import torch\n",
    "import torch.optim as optim\n",
    "import mlflow\n",
    "import optuna\n",
    "import joblib"
   ]
  },
  {
   "cell_type": "markdown",
   "metadata": {},
   "source": [
    "## Import global path/model setting variables from config\n",
    "First retrieves repo root directory, then imports the config.py from repo root\n",
    "All filepath checks are centrally handled within the config module"
   ]
  },
  {
   "cell_type": "code",
   "execution_count": 2,
   "metadata": {},
   "outputs": [],
   "source": [
    "def get_repo_root():\n",
    "    return subprocess.run(\n",
    "        [\"git\", \"rev-parse\", \"--show-toplevel\"],\n",
    "        stdout=subprocess.PIPE,\n",
    "        check=True,\n",
    "        text=True\n",
    "    ).stdout.strip()\n",
    "\n",
    "repo_root = get_repo_root()\n",
    "sys.path.append(repo_root)\n",
    "\n",
    "from config import (\n",
    "    SOFTWARE_PATH,\n",
    "    LOADDATA_FILE_PATH,\n",
    "    SC_FEATURES_DIR,\n",
    "    INPUT_CHANNEL_NAMES,\n",
    "    TARGET_CHANNEL_NAMES,\n",
    ")"
   ]
  },
  {
   "cell_type": "markdown",
   "metadata": {},
   "source": [
    "## Import virtual_stain_flow software "
   ]
  },
  {
   "cell_type": "code",
   "execution_count": 3,
   "metadata": {},
   "outputs": [
    {
     "name": "stderr",
     "output_type": "stream",
     "text": [
      "/home/weishanli/anaconda3/envs/speckle_analysis/lib/python3.11/site-packages/albumentations/__init__.py:28: UserWarning: A new version of Albumentations is available: '2.0.8' (you have '2.0.4'). Upgrade using: pip install -U albumentations. To disable automatic update checks, set the environment variable NO_ALBUMENTATIONS_UPDATE to 1.\n",
      "  check_for_updates()\n"
     ]
    }
   ],
   "source": [
    "sys.path.append(str(SOFTWARE_PATH))\n",
    "\n",
    "## Dataset\n",
    "from virtual_stain_flow.datasets.PatchDataset import PatchDataset\n",
    "from virtual_stain_flow.datasets.CachedDataset import CachedDataset\n",
    "\n",
    "## FNet training\n",
    "from virtual_stain_flow.models.fnet import FNet\n",
    "from virtual_stain_flow.trainers.Trainer import Trainer\n",
    "\n",
    "from virtual_stain_flow.transforms.MinMaxNormalize import MinMaxNormalize\n",
    "from virtual_stain_flow.transforms.PixelDepthTransform import PixelDepthTransform\n",
    "from virtual_stain_flow.transforms.ZScoreNormalize import ZScoreNormalize\n",
    "\n",
    "## Metrics\n",
    "from virtual_stain_flow.metrics.MetricsWrapper import MetricsWrapper\n",
    "from virtual_stain_flow.metrics.PSNR import PSNR\n",
    "from virtual_stain_flow.metrics.SSIM import SSIM\n",
    "\n",
    "## callback\n",
    "from virtual_stain_flow.callbacks.MlflowLogger import MlflowLogger"
   ]
  },
  {
   "cell_type": "markdown",
   "metadata": {},
   "source": [
    "## Define output paths and model training parameters"
   ]
  },
  {
   "cell_type": "code",
   "execution_count": 4,
   "metadata": {},
   "outputs": [],
   "source": [
    "## Output directories\n",
    "MLFLOW_DIR = pathlib.Path('.').absolute() / 'optuna_mlflow'\n",
    "MLFLOW_DIR.mkdir(parents=True, exist_ok=True)\n",
    "\n",
    "# dump directory for optuna studies\n",
    "OPTUNA_JOBLIB_DIR = pathlib.Path('.').absolute() / 'optuna_joblib'\n",
    "OPTUNA_JOBLIB_DIR.mkdir(parents=True, exist_ok=True)\n",
    "\n",
    "## Basic data generation, model convolutional depth, optimizer param and max epoch definition\n",
    "# Will be using these fixed values for the normalization method optimization\n",
    "PATCH_SIZE = 256\n",
    "CONV_DEPTH = 5\n",
    "LR = 1e-4\n",
    "BETAS = (0.5, 0.9)\n",
    "BATCH_SIZE = 16\n",
    "EPOCHS = 1_000\n",
    "PATIENCE = 20"
   ]
  },
  {
   "cell_type": "markdown",
   "metadata": {},
   "source": [
    "## Configure Normalization Transforms"
   ]
  },
  {
   "cell_type": "code",
   "execution_count": 5,
   "metadata": {},
   "outputs": [],
   "source": [
    "## Define transforms and parameters\n",
    "NORM_METHODS = {\n",
    "    \"z_score\": {\n",
    "        \"class\": ZScoreNormalize,\n",
    "        \"args\": {\"_mean\": None, \"_std\": None, \"_always_apply\": True, \"_p\": 1.0}\n",
    "    },\n",
    "    \"8bit\": {\n",
    "        \"class\": PixelDepthTransform,\n",
    "        \"args\": {\"src_bit_depth\": 16, \"target_bit_depth\": 8, \"_always_apply\": True, \"_p\": 1.0}\n",
    "    },\n",
    "    \"min_max\": {\n",
    "        \"class\": MinMaxNormalize,\n",
    "        \"args\": {\"_normalization_factor\": (2 ** 16) - 1, \"_always_apply\": True, \"_p\": 1.0}\n",
    "    }\n",
    "}\n",
    "\n",
    "## Define the model output activation to be used with each output normalization\n",
    "NORM_METHOD_ACTIVATION = {\n",
    "    \"z_score\": \"linear\",\n",
    "    \"8bit\": \"linear\",\n",
    "    \"min_max\": \"sigmoid\"\n",
    "}"
   ]
  },
  {
   "cell_type": "markdown",
   "metadata": {},
   "source": [
    "## Define optimization objective functions"
   ]
  },
  {
   "cell_type": "code",
   "execution_count": 6,
   "metadata": {},
   "outputs": [],
   "source": [
    "CACHE_DATA = True\n",
    "\n",
    "def free_gpu_memory():\n",
    "    gc.collect()\n",
    "    torch.cuda.empty_cache()\n",
    "\n",
    "def objective(trial, dataset, channel_name):\n",
    "\n",
    "    # Suggest an input and targettransform\n",
    "    input_transform = trial.suggest_categorical(\"input_transform\", list(NORM_METHODS.keys()))\n",
    "    target_transform = trial.suggest_categorical(\"target_transform\", list(NORM_METHODS.keys()))\n",
    "\n",
    "    ## Configure the dataset with normalization methods\n",
    "    dataset.set_input_transform(NORM_METHODS[input_transform][\"class\"](**NORM_METHODS[input_transform][\"args\"]))\n",
    "    dataset.set_target_transform(NORM_METHODS[target_transform][\"class\"](**NORM_METHODS[target_transform][\"args\"]))\n",
    "\n",
    "    ## Cache dataset\n",
    "    # Caching PatchDatasets (into RAM) can substantially improve training speed, mostly\n",
    "    # due to speeding up the data shuffling process that can be slow with dynamically\n",
    "    # cropping patches from large images. However, to really benefit from caching it is\n",
    "    # necessary to use a cache size that fits the entire dataset (or close to doing so).\n",
    "    # Consider not using the Cached Dataset if memory is limited. Training/optimization is \n",
    "    # completely functional with the dynamic PatchDataset.\n",
    "    if CACHE_DATA:\n",
    "        dataset = CachedDataset(\n",
    "                dataset=dataset,\n",
    "                prefill_cache=True\n",
    "            )\n",
    "    else:\n",
    "        # uses the dynamic PatchDataset\n",
    "        pass\n",
    "\n",
    "    ## Setup model and optimizer\n",
    "    model = FNet(depth=CONV_DEPTH, \n",
    "                 # output activation paired with target/output normalization\n",
    "                 output_activation=NORM_METHOD_ACTIVATION[target_transform])\n",
    "    optimizer = optim.Adam(model.parameters(), lr=LR, betas=BETAS)\n",
    "    \n",
    "    ## Metrics to be computed (and logged)\n",
    "    metric_fns = {\n",
    "        \"mse_loss\": MetricsWrapper(_metric_name='mse', module=torch.nn.MSELoss()),\n",
    "        \"ssim_loss\": SSIM(_metric_name=\"ssim\"),\n",
    "        \"psnr_loss\": PSNR(_metric_name=\"psnr\"),\n",
    "    }\n",
    "\n",
    "    ## Params to log with mlflow\n",
    "    params = {\n",
    "            \"lr\": LR,\n",
    "            \"beta0\": BETAS[0],\n",
    "            \"beta1\": BETAS[1],\n",
    "            \"depth\": CONV_DEPTH,\n",
    "            \"patch_size\": PATCH_SIZE,\n",
    "            \"batch_size\": BATCH_SIZE,\n",
    "            \"epochs\": EPOCHS,\n",
    "            \"patience\": PATIENCE,\n",
    "            \"input_norm\": input_transform,\n",
    "            \"target_norm\": target_transform,\n",
    "            \"channel_name\": channel_name,\n",
    "        }\n",
    "\n",
    "    ## mlflow logger callback\n",
    "    mlflow_logger_callback = MlflowLogger(\n",
    "        name='mlflow_logger',\n",
    "        mlflow_uri=MLFLOW_DIR / 'mlruns',\n",
    "        mlflow_experiment_name='FNet_optimize_io_norm',\n",
    "        mlflow_start_run_args={'run_name': f'FNet_optimize_io_norm_{channel_name}', 'nested': True},\n",
    "        mlflow_log_params_args=params\n",
    "    )\n",
    "    \n",
    "    ## Trainer\n",
    "    trainer = Trainer(\n",
    "        model = model,\n",
    "        optimizer = optimizer,\n",
    "        backprop_loss = torch.nn.L1Loss(), # MAE loss for backpropagation\n",
    "        dataset = dataset,\n",
    "        batch_size = BATCH_SIZE,\n",
    "        epochs = EPOCHS,\n",
    "        patience = PATIENCE,\n",
    "        callbacks=[mlflow_logger_callback],\n",
    "        metrics=metric_fns,\n",
    "        device = 'cuda',\n",
    "        early_termination_metric='L1Loss'\n",
    "    )\n",
    "\n",
    "    # Train the model and log validation loss\n",
    "    trainer.train()\n",
    "    val_loss = trainer.best_loss\n",
    "\n",
    "    del model\n",
    "    del optimizer\n",
    "    del metric_fns\n",
    "    del mlflow_logger_callback\n",
    "    del trainer\n",
    "    \n",
    "    free_gpu_memory()\n",
    "\n",
    "    return val_loss"
   ]
  },
  {
   "cell_type": "markdown",
   "metadata": {},
   "source": [
    "## Optimize for I/O normalizationm method per Channel"
   ]
  },
  {
   "cell_type": "code",
   "execution_count": 7,
   "metadata": {},
   "outputs": [
    {
     "name": "stdout",
     "output_type": "stream",
     "text": [
      "Beginning optimization for channel: OrigDNA for io normalization methods\n",
      "100 of Normalization Method Optimization for OrigDNA completed.\n",
      "Best trial for channel OrigDNA:\n",
      "  Validation Loss: 0.0048707767855376005\n",
      "  Hyperparameters: {'input_transform': 'min_max', 'target_transform': 'min_max'}\n",
      "Beginning optimization for channel: OrigER for io normalization methods\n",
      "Early termination at epoch 57 with best validation metric 0.017819137137848884\n"
     ]
    },
    {
     "name": "stderr",
     "output_type": "stream",
     "text": [
      "[I 2025-06-18 10:57:27,437] Trial 64 finished with value: 0.017819137137848884 and parameters: {'input_transform': 'z_score', 'target_transform': 'min_max'}. Best is trial 16 with value: 0.004642733547370881.\n"
     ]
    },
    {
     "name": "stdout",
     "output_type": "stream",
     "text": [
      "Saved study after trial 65/100\n",
      "Early termination at epoch 87 with best validation metric 0.018101172667229548\n"
     ]
    },
    {
     "name": "stderr",
     "output_type": "stream",
     "text": [
      "[I 2025-06-18 11:25:43,441] Trial 65 finished with value: 0.018101172667229548 and parameters: {'input_transform': 'z_score', 'target_transform': 'min_max'}. Best is trial 16 with value: 0.004642733547370881.\n"
     ]
    },
    {
     "name": "stdout",
     "output_type": "stream",
     "text": [
      "Saved study after trial 66/100\n",
      "Early termination at epoch 74 with best validation metric 0.01890036984696053\n"
     ]
    },
    {
     "name": "stderr",
     "output_type": "stream",
     "text": [
      "[I 2025-06-18 11:49:14,884] Trial 66 finished with value: 0.01890036984696053 and parameters: {'input_transform': 'z_score', 'target_transform': 'min_max'}. Best is trial 16 with value: 0.004642733547370881.\n"
     ]
    },
    {
     "name": "stdout",
     "output_type": "stream",
     "text": [
      "Saved study after trial 67/100\n",
      "Early termination at epoch 64 with best validation metric 0.016092076431959867\n"
     ]
    },
    {
     "name": "stderr",
     "output_type": "stream",
     "text": [
      "[I 2025-06-18 12:09:33,304] Trial 67 finished with value: 0.016092076431959867 and parameters: {'input_transform': '8bit', 'target_transform': 'min_max'}. Best is trial 16 with value: 0.004642733547370881.\n"
     ]
    },
    {
     "name": "stdout",
     "output_type": "stream",
     "text": [
      "Saved study after trial 68/100\n",
      "Early termination at epoch 83 with best validation metric 0.017654785653576255\n"
     ]
    },
    {
     "name": "stderr",
     "output_type": "stream",
     "text": [
      "[I 2025-06-18 12:36:30,788] Trial 68 finished with value: 0.017654785653576255 and parameters: {'input_transform': 'z_score', 'target_transform': 'min_max'}. Best is trial 16 with value: 0.004642733547370881.\n"
     ]
    },
    {
     "name": "stdout",
     "output_type": "stream",
     "text": [
      "Saved study after trial 69/100\n",
      "Early termination at epoch 47 with best validation metric 0.3305612178519368\n"
     ]
    },
    {
     "name": "stderr",
     "output_type": "stream",
     "text": [
      "[I 2025-06-18 12:51:45,337] Trial 69 finished with value: 0.3305612178519368 and parameters: {'input_transform': 'z_score', 'target_transform': 'z_score'}. Best is trial 16 with value: 0.004642733547370881.\n"
     ]
    },
    {
     "name": "stdout",
     "output_type": "stream",
     "text": [
      "Saved study after trial 70/100\n",
      "Early termination at epoch 111 with best validation metric 4.442249096930027\n"
     ]
    },
    {
     "name": "stderr",
     "output_type": "stream",
     "text": [
      "[I 2025-06-18 13:26:04,653] Trial 70 finished with value: 4.442249096930027 and parameters: {'input_transform': 'min_max', 'target_transform': '8bit'}. Best is trial 16 with value: 0.004642733547370881.\n"
     ]
    },
    {
     "name": "stdout",
     "output_type": "stream",
     "text": [
      "Saved study after trial 71/100\n",
      "Early termination at epoch 52 with best validation metric 0.01831823500106111\n"
     ]
    },
    {
     "name": "stderr",
     "output_type": "stream",
     "text": [
      "[I 2025-06-18 13:42:36,402] Trial 71 finished with value: 0.01831823500106111 and parameters: {'input_transform': '8bit', 'target_transform': 'min_max'}. Best is trial 16 with value: 0.004642733547370881.\n"
     ]
    },
    {
     "name": "stdout",
     "output_type": "stream",
     "text": [
      "Saved study after trial 72/100\n",
      "Early termination at epoch 64 with best validation metric 0.017663559992797673\n"
     ]
    },
    {
     "name": "stderr",
     "output_type": "stream",
     "text": [
      "[I 2025-06-18 14:03:53,291] Trial 72 finished with value: 0.017663559992797673 and parameters: {'input_transform': '8bit', 'target_transform': 'min_max'}. Best is trial 16 with value: 0.004642733547370881.\n"
     ]
    },
    {
     "name": "stdout",
     "output_type": "stream",
     "text": [
      "Saved study after trial 73/100\n",
      "Early termination at epoch 85 with best validation metric 0.016728046524804085\n"
     ]
    },
    {
     "name": "stderr",
     "output_type": "stream",
     "text": [
      "[I 2025-06-18 14:34:36,336] Trial 73 finished with value: 0.016728046524804085 and parameters: {'input_transform': '8bit', 'target_transform': 'min_max'}. Best is trial 16 with value: 0.004642733547370881.\n"
     ]
    },
    {
     "name": "stdout",
     "output_type": "stream",
     "text": [
      "Saved study after trial 74/100\n",
      "Early termination at epoch 74 with best validation metric 0.017628153815167025\n"
     ]
    },
    {
     "name": "stderr",
     "output_type": "stream",
     "text": [
      "[I 2025-06-18 15:02:00,099] Trial 74 finished with value: 0.017628153815167025 and parameters: {'input_transform': '8bit', 'target_transform': 'min_max'}. Best is trial 16 with value: 0.004642733547370881.\n"
     ]
    },
    {
     "name": "stdout",
     "output_type": "stream",
     "text": [
      "Saved study after trial 75/100\n",
      "Early termination at epoch 61 with best validation metric 0.017301685002166778\n"
     ]
    },
    {
     "name": "stderr",
     "output_type": "stream",
     "text": [
      "[I 2025-06-18 15:21:30,512] Trial 75 finished with value: 0.017301685002166778 and parameters: {'input_transform': '8bit', 'target_transform': 'min_max'}. Best is trial 16 with value: 0.004642733547370881.\n"
     ]
    },
    {
     "name": "stdout",
     "output_type": "stream",
     "text": [
      "Saved study after trial 76/100\n",
      "Early termination at epoch 64 with best validation metric 0.018224028026452288\n"
     ]
    },
    {
     "name": "stderr",
     "output_type": "stream",
     "text": [
      "[I 2025-06-18 15:41:58,429] Trial 76 finished with value: 0.018224028026452288 and parameters: {'input_transform': 'z_score', 'target_transform': 'min_max'}. Best is trial 16 with value: 0.004642733547370881.\n"
     ]
    },
    {
     "name": "stdout",
     "output_type": "stream",
     "text": [
      "Saved study after trial 77/100\n",
      "Early termination at epoch 56 with best validation metric 0.016533655929379165\n"
     ]
    },
    {
     "name": "stderr",
     "output_type": "stream",
     "text": [
      "[I 2025-06-18 15:59:53,282] Trial 77 finished with value: 0.016533655929379165 and parameters: {'input_transform': 'z_score', 'target_transform': 'min_max'}. Best is trial 16 with value: 0.004642733547370881.\n"
     ]
    },
    {
     "name": "stdout",
     "output_type": "stream",
     "text": [
      "Saved study after trial 78/100\n",
      "Early termination at epoch 66 with best validation metric 0.01717106273281388\n"
     ]
    },
    {
     "name": "stderr",
     "output_type": "stream",
     "text": [
      "[I 2025-06-18 16:20:59,520] Trial 78 finished with value: 0.01717106273281388 and parameters: {'input_transform': '8bit', 'target_transform': 'min_max'}. Best is trial 16 with value: 0.004642733547370881.\n"
     ]
    },
    {
     "name": "stdout",
     "output_type": "stream",
     "text": [
      "Saved study after trial 79/100\n",
      "Early termination at epoch 120 with best validation metric 0.018036880559520796\n"
     ]
    },
    {
     "name": "stderr",
     "output_type": "stream",
     "text": [
      "[I 2025-06-18 16:59:19,385] Trial 79 finished with value: 0.018036880559520796 and parameters: {'input_transform': 'z_score', 'target_transform': 'min_max'}. Best is trial 16 with value: 0.004642733547370881.\n"
     ]
    },
    {
     "name": "stdout",
     "output_type": "stream",
     "text": [
      "Saved study after trial 80/100\n",
      "Early termination at epoch 43 with best validation metric 0.017572528013261035\n"
     ]
    },
    {
     "name": "stderr",
     "output_type": "stream",
     "text": [
      "[I 2025-06-18 17:13:05,873] Trial 80 finished with value: 0.017572528013261035 and parameters: {'input_transform': 'z_score', 'target_transform': 'min_max'}. Best is trial 16 with value: 0.004642733547370881.\n"
     ]
    },
    {
     "name": "stdout",
     "output_type": "stream",
     "text": [
      "Saved study after trial 81/100\n",
      "Early termination at epoch 61 with best validation metric 0.017363545222906396\n"
     ]
    },
    {
     "name": "stderr",
     "output_type": "stream",
     "text": [
      "[I 2025-06-18 17:32:37,001] Trial 81 finished with value: 0.017363545222906396 and parameters: {'input_transform': 'z_score', 'target_transform': 'min_max'}. Best is trial 16 with value: 0.004642733547370881.\n"
     ]
    },
    {
     "name": "stdout",
     "output_type": "stream",
     "text": [
      "Saved study after trial 82/100\n",
      "Early termination at epoch 115 with best validation metric 0.01661565646645613\n"
     ]
    },
    {
     "name": "stderr",
     "output_type": "stream",
     "text": [
      "[I 2025-06-18 18:09:21,678] Trial 82 finished with value: 0.01661565646645613 and parameters: {'input_transform': 'z_score', 'target_transform': 'min_max'}. Best is trial 16 with value: 0.004642733547370881.\n"
     ]
    },
    {
     "name": "stdout",
     "output_type": "stream",
     "text": [
      "Saved study after trial 83/100\n",
      "Early termination at epoch 37 with best validation metric 0.018231120775453746\n"
     ]
    },
    {
     "name": "stderr",
     "output_type": "stream",
     "text": [
      "[I 2025-06-18 18:21:13,612] Trial 83 finished with value: 0.018231120775453746 and parameters: {'input_transform': 'z_score', 'target_transform': 'min_max'}. Best is trial 16 with value: 0.004642733547370881.\n"
     ]
    },
    {
     "name": "stdout",
     "output_type": "stream",
     "text": [
      "Saved study after trial 84/100\n",
      "Early termination at epoch 40 with best validation metric 0.017595671524759382\n"
     ]
    },
    {
     "name": "stderr",
     "output_type": "stream",
     "text": [
      "[I 2025-06-18 18:34:02,876] Trial 84 finished with value: 0.017595671524759382 and parameters: {'input_transform': 'z_score', 'target_transform': 'min_max'}. Best is trial 16 with value: 0.004642733547370881.\n"
     ]
    },
    {
     "name": "stdout",
     "output_type": "stream",
     "text": [
      "Saved study after trial 85/100\n",
      "Early termination at epoch 50 with best validation metric 0.018520922370953485\n"
     ]
    },
    {
     "name": "stderr",
     "output_type": "stream",
     "text": [
      "[I 2025-06-18 18:50:03,969] Trial 85 finished with value: 0.018520922370953485 and parameters: {'input_transform': 'z_score', 'target_transform': 'min_max'}. Best is trial 16 with value: 0.004642733547370881.\n"
     ]
    },
    {
     "name": "stdout",
     "output_type": "stream",
     "text": [
      "Saved study after trial 86/100\n",
      "Early termination at epoch 43 with best validation metric 4.459760792553425\n"
     ]
    },
    {
     "name": "stderr",
     "output_type": "stream",
     "text": [
      "[I 2025-06-18 19:03:50,596] Trial 86 finished with value: 4.459760792553425 and parameters: {'input_transform': '8bit', 'target_transform': '8bit'}. Best is trial 16 with value: 0.004642733547370881.\n"
     ]
    },
    {
     "name": "stdout",
     "output_type": "stream",
     "text": [
      "Saved study after trial 87/100\n",
      "Early termination at epoch 69 with best validation metric 0.33441284764558077\n"
     ]
    },
    {
     "name": "stderr",
     "output_type": "stream",
     "text": [
      "[I 2025-06-18 19:25:55,536] Trial 87 finished with value: 0.33441284764558077 and parameters: {'input_transform': 'z_score', 'target_transform': 'z_score'}. Best is trial 16 with value: 0.004642733547370881.\n"
     ]
    },
    {
     "name": "stdout",
     "output_type": "stream",
     "text": [
      "Saved study after trial 88/100\n",
      "Early termination at epoch 84 with best validation metric 0.016997889237245545\n"
     ]
    },
    {
     "name": "stderr",
     "output_type": "stream",
     "text": [
      "[I 2025-06-18 19:52:46,753] Trial 88 finished with value: 0.016997889237245545 and parameters: {'input_transform': 'z_score', 'target_transform': 'min_max'}. Best is trial 16 with value: 0.004642733547370881.\n"
     ]
    },
    {
     "name": "stdout",
     "output_type": "stream",
     "text": [
      "Saved study after trial 89/100\n",
      "Early termination at epoch 119 with best validation metric 0.017227496282430366\n"
     ]
    },
    {
     "name": "stderr",
     "output_type": "stream",
     "text": [
      "[I 2025-06-18 20:30:48,155] Trial 89 finished with value: 0.017227496282430366 and parameters: {'input_transform': 'min_max', 'target_transform': 'min_max'}. Best is trial 16 with value: 0.004642733547370881.\n"
     ]
    },
    {
     "name": "stdout",
     "output_type": "stream",
     "text": [
      "Saved study after trial 90/100\n",
      "Early termination at epoch 59 with best validation metric 0.01769528246950358\n"
     ]
    },
    {
     "name": "stderr",
     "output_type": "stream",
     "text": [
      "[I 2025-06-18 20:49:40,598] Trial 90 finished with value: 0.01769528246950358 and parameters: {'input_transform': 'z_score', 'target_transform': 'min_max'}. Best is trial 16 with value: 0.004642733547370881.\n"
     ]
    },
    {
     "name": "stdout",
     "output_type": "stream",
     "text": [
      "Saved study after trial 91/100\n",
      "Early termination at epoch 54 with best validation metric 0.017748587648384273\n"
     ]
    },
    {
     "name": "stderr",
     "output_type": "stream",
     "text": [
      "[I 2025-06-18 21:06:56,885] Trial 91 finished with value: 0.017748587648384273 and parameters: {'input_transform': 'min_max', 'target_transform': 'min_max'}. Best is trial 16 with value: 0.004642733547370881.\n"
     ]
    },
    {
     "name": "stdout",
     "output_type": "stream",
     "text": [
      "Saved study after trial 92/100\n",
      "Early termination at epoch 59 with best validation metric 0.017292344040470198\n"
     ]
    },
    {
     "name": "stderr",
     "output_type": "stream",
     "text": [
      "[I 2025-06-18 21:25:48,658] Trial 92 finished with value: 0.017292344040470198 and parameters: {'input_transform': 'min_max', 'target_transform': 'min_max'}. Best is trial 16 with value: 0.004642733547370881.\n"
     ]
    },
    {
     "name": "stdout",
     "output_type": "stream",
     "text": [
      "Saved study after trial 93/100\n",
      "Early termination at epoch 76 with best validation metric 0.017004242778057232\n"
     ]
    },
    {
     "name": "stderr",
     "output_type": "stream",
     "text": [
      "[I 2025-06-18 21:50:05,351] Trial 93 finished with value: 0.017004242778057232 and parameters: {'input_transform': 'min_max', 'target_transform': 'min_max'}. Best is trial 16 with value: 0.004642733547370881.\n"
     ]
    },
    {
     "name": "stdout",
     "output_type": "stream",
     "text": [
      "Saved study after trial 94/100\n",
      "Early termination at epoch 63 with best validation metric 0.017550572083564475\n"
     ]
    },
    {
     "name": "stderr",
     "output_type": "stream",
     "text": [
      "[I 2025-06-18 22:10:13,335] Trial 94 finished with value: 0.017550572083564475 and parameters: {'input_transform': 'min_max', 'target_transform': 'min_max'}. Best is trial 16 with value: 0.004642733547370881.\n"
     ]
    },
    {
     "name": "stdout",
     "output_type": "stream",
     "text": [
      "Saved study after trial 95/100\n",
      "Early termination at epoch 61 with best validation metric 0.017333643801975995\n"
     ]
    },
    {
     "name": "stderr",
     "output_type": "stream",
     "text": [
      "[I 2025-06-18 22:29:43,306] Trial 95 finished with value: 0.017333643801975995 and parameters: {'input_transform': 'z_score', 'target_transform': 'min_max'}. Best is trial 16 with value: 0.004642733547370881.\n"
     ]
    },
    {
     "name": "stdout",
     "output_type": "stream",
     "text": [
      "Saved study after trial 96/100\n",
      "Early termination at epoch 43 with best validation metric 0.01618932414567098\n"
     ]
    },
    {
     "name": "stderr",
     "output_type": "stream",
     "text": [
      "[I 2025-06-18 22:43:28,627] Trial 96 finished with value: 0.01618932414567098 and parameters: {'input_transform': '8bit', 'target_transform': 'min_max'}. Best is trial 16 with value: 0.004642733547370881.\n"
     ]
    },
    {
     "name": "stdout",
     "output_type": "stream",
     "text": [
      "Saved study after trial 97/100\n",
      "Early termination at epoch 64 with best validation metric 0.017845197988208383\n"
     ]
    },
    {
     "name": "stderr",
     "output_type": "stream",
     "text": [
      "[I 2025-06-18 23:03:55,864] Trial 97 finished with value: 0.017845197988208383 and parameters: {'input_transform': 'z_score', 'target_transform': 'min_max'}. Best is trial 16 with value: 0.004642733547370881.\n"
     ]
    },
    {
     "name": "stdout",
     "output_type": "stream",
     "text": [
      "Saved study after trial 98/100\n",
      "Early termination at epoch 51 with best validation metric 0.01710650185123086\n"
     ]
    },
    {
     "name": "stderr",
     "output_type": "stream",
     "text": [
      "[I 2025-06-18 23:20:14,057] Trial 98 finished with value: 0.01710650185123086 and parameters: {'input_transform': 'min_max', 'target_transform': 'min_max'}. Best is trial 16 with value: 0.004642733547370881.\n"
     ]
    },
    {
     "name": "stdout",
     "output_type": "stream",
     "text": [
      "Saved study after trial 99/100\n",
      "Early termination at epoch 76 with best validation metric 0.3183385329321027\n"
     ]
    },
    {
     "name": "stderr",
     "output_type": "stream",
     "text": [
      "[I 2025-06-18 23:44:30,428] Trial 99 finished with value: 0.3183385329321027 and parameters: {'input_transform': 'z_score', 'target_transform': 'z_score'}. Best is trial 16 with value: 0.004642733547370881.\n"
     ]
    },
    {
     "name": "stdout",
     "output_type": "stream",
     "text": [
      "Saved study after trial 100/100\n",
      "100 of Normalization Method Optimization for OrigER completed.\n",
      "Best trial for channel OrigER:\n",
      "  Validation Loss: 0.004642733547370881\n",
      "  Hyperparameters: {'input_transform': 'z_score', 'target_transform': 'min_max'}\n",
      "Beginning optimization for channel: OrigAGP for io normalization methods\n",
      "Early termination at epoch 52 with best validation metric 0.002165787089325022\n"
     ]
    },
    {
     "name": "stderr",
     "output_type": "stream",
     "text": [
      "[I 2025-06-19 00:01:09,900] Trial 50 finished with value: 0.002165787089325022 and parameters: {'input_transform': 'z_score', 'target_transform': 'min_max'}. Best is trial 32 with value: 0.0012983351480215788.\n"
     ]
    },
    {
     "name": "stdout",
     "output_type": "stream",
     "text": [
      "Saved study after trial 51/100\n",
      "Early termination at epoch 55 with best validation metric 0.00215530339119141\n"
     ]
    },
    {
     "name": "stderr",
     "output_type": "stream",
     "text": [
      "[I 2025-06-19 00:18:46,140] Trial 51 finished with value: 0.00215530339119141 and parameters: {'input_transform': 'z_score', 'target_transform': 'min_max'}. Best is trial 32 with value: 0.0012983351480215788.\n"
     ]
    },
    {
     "name": "stdout",
     "output_type": "stream",
     "text": [
      "Saved study after trial 52/100\n",
      "Early termination at epoch 68 with best validation metric 0.0022251855589274783\n"
     ]
    },
    {
     "name": "stderr",
     "output_type": "stream",
     "text": [
      "[I 2025-06-19 00:40:31,362] Trial 52 finished with value: 0.0022251855589274783 and parameters: {'input_transform': 'z_score', 'target_transform': 'min_max'}. Best is trial 32 with value: 0.0012983351480215788.\n"
     ]
    },
    {
     "name": "stdout",
     "output_type": "stream",
     "text": [
      "Saved study after trial 53/100\n",
      "Early termination at epoch 39 with best validation metric 0.0021562123474723194\n"
     ]
    },
    {
     "name": "stderr",
     "output_type": "stream",
     "text": [
      "[I 2025-06-19 00:53:01,600] Trial 53 finished with value: 0.0021562123474723194 and parameters: {'input_transform': 'z_score', 'target_transform': 'min_max'}. Best is trial 32 with value: 0.0012983351480215788.\n"
     ]
    },
    {
     "name": "stdout",
     "output_type": "stream",
     "text": [
      "Saved study after trial 54/100\n",
      "Early termination at epoch 47 with best validation metric 0.0021995931419951376\n"
     ]
    },
    {
     "name": "stderr",
     "output_type": "stream",
     "text": [
      "[I 2025-06-19 01:08:04,760] Trial 54 finished with value: 0.0021995931419951376 and parameters: {'input_transform': 'z_score', 'target_transform': 'min_max'}. Best is trial 32 with value: 0.0012983351480215788.\n"
     ]
    },
    {
     "name": "stdout",
     "output_type": "stream",
     "text": [
      "Saved study after trial 55/100\n",
      "Early termination at epoch 68 with best validation metric 0.002203310392360436\n"
     ]
    },
    {
     "name": "stderr",
     "output_type": "stream",
     "text": [
      "[I 2025-06-19 01:29:49,521] Trial 55 finished with value: 0.002203310392360436 and parameters: {'input_transform': 'z_score', 'target_transform': 'min_max'}. Best is trial 32 with value: 0.0012983351480215788.\n"
     ]
    },
    {
     "name": "stdout",
     "output_type": "stream",
     "text": [
      "Saved study after trial 56/100\n",
      "Early termination at epoch 58 with best validation metric 0.0021126372521393932\n"
     ]
    },
    {
     "name": "stderr",
     "output_type": "stream",
     "text": [
      "[I 2025-06-19 01:48:22,616] Trial 56 finished with value: 0.0021126372521393932 and parameters: {'input_transform': 'min_max', 'target_transform': 'min_max'}. Best is trial 32 with value: 0.0012983351480215788.\n"
     ]
    },
    {
     "name": "stdout",
     "output_type": "stream",
     "text": [
      "Saved study after trial 57/100\n",
      "Early termination at epoch 73 with best validation metric 0.5451345695182681\n"
     ]
    },
    {
     "name": "stderr",
     "output_type": "stream",
     "text": [
      "[I 2025-06-19 02:11:42,660] Trial 57 finished with value: 0.5451345695182681 and parameters: {'input_transform': 'z_score', 'target_transform': '8bit'}. Best is trial 32 with value: 0.0012983351480215788.\n"
     ]
    },
    {
     "name": "stdout",
     "output_type": "stream",
     "text": [
      "Saved study after trial 58/100\n",
      "Early termination at epoch 74 with best validation metric 0.0021969020635879133\n"
     ]
    },
    {
     "name": "stderr",
     "output_type": "stream",
     "text": [
      "[I 2025-06-19 02:35:21,982] Trial 58 finished with value: 0.0021969020635879133 and parameters: {'input_transform': 'z_score', 'target_transform': 'min_max'}. Best is trial 32 with value: 0.0012983351480215788.\n"
     ]
    },
    {
     "name": "stdout",
     "output_type": "stream",
     "text": [
      "Saved study after trial 59/100\n",
      "Early termination at epoch 79 with best validation metric 0.39123003277927637\n"
     ]
    },
    {
     "name": "stderr",
     "output_type": "stream",
     "text": [
      "[I 2025-06-19 03:00:36,901] Trial 59 finished with value: 0.39123003277927637 and parameters: {'input_transform': 'z_score', 'target_transform': 'z_score'}. Best is trial 32 with value: 0.0012983351480215788.\n"
     ]
    },
    {
     "name": "stdout",
     "output_type": "stream",
     "text": [
      "Saved study after trial 60/100\n",
      "Early termination at epoch 61 with best validation metric 0.002135396636731457\n"
     ]
    },
    {
     "name": "stderr",
     "output_type": "stream",
     "text": [
      "[I 2025-06-19 03:20:08,301] Trial 60 finished with value: 0.002135396636731457 and parameters: {'input_transform': 'z_score', 'target_transform': 'min_max'}. Best is trial 32 with value: 0.0012983351480215788.\n"
     ]
    },
    {
     "name": "stdout",
     "output_type": "stream",
     "text": [
      "Saved study after trial 61/100\n",
      "Early termination at epoch 65 with best validation metric 0.002180622574087465\n"
     ]
    },
    {
     "name": "stderr",
     "output_type": "stream",
     "text": [
      "[I 2025-06-19 03:40:55,793] Trial 61 finished with value: 0.002180622574087465 and parameters: {'input_transform': 'z_score', 'target_transform': 'min_max'}. Best is trial 32 with value: 0.0012983351480215788.\n"
     ]
    },
    {
     "name": "stdout",
     "output_type": "stream",
     "text": [
      "Saved study after trial 62/100\n",
      "Early termination at epoch 63 with best validation metric 0.002351681632717373\n"
     ]
    },
    {
     "name": "stderr",
     "output_type": "stream",
     "text": [
      "[I 2025-06-19 04:01:04,869] Trial 62 finished with value: 0.002351681632717373 and parameters: {'input_transform': 'z_score', 'target_transform': 'min_max'}. Best is trial 32 with value: 0.0012983351480215788.\n"
     ]
    },
    {
     "name": "stdout",
     "output_type": "stream",
     "text": [
      "Saved study after trial 63/100\n",
      "Early termination at epoch 82 with best validation metric 0.00212482356801047\n"
     ]
    },
    {
     "name": "stderr",
     "output_type": "stream",
     "text": [
      "[I 2025-06-19 04:27:18,010] Trial 63 finished with value: 0.00212482356801047 and parameters: {'input_transform': 'z_score', 'target_transform': 'min_max'}. Best is trial 32 with value: 0.0012983351480215788.\n"
     ]
    },
    {
     "name": "stdout",
     "output_type": "stream",
     "text": [
      "Saved study after trial 64/100\n",
      "Early termination at epoch 71 with best validation metric 0.0022169749790919013\n"
     ]
    },
    {
     "name": "stderr",
     "output_type": "stream",
     "text": [
      "[I 2025-06-19 04:49:59,764] Trial 64 finished with value: 0.0022169749790919013 and parameters: {'input_transform': 'z_score', 'target_transform': 'min_max'}. Best is trial 32 with value: 0.0012983351480215788.\n"
     ]
    },
    {
     "name": "stdout",
     "output_type": "stream",
     "text": [
      "Saved study after trial 65/100\n",
      "Early termination at epoch 61 with best validation metric 0.002154646805138327\n"
     ]
    },
    {
     "name": "stderr",
     "output_type": "stream",
     "text": [
      "[I 2025-06-19 05:09:30,280] Trial 65 finished with value: 0.002154646805138327 and parameters: {'input_transform': 'z_score', 'target_transform': 'min_max'}. Best is trial 32 with value: 0.0012983351480215788.\n"
     ]
    },
    {
     "name": "stdout",
     "output_type": "stream",
     "text": [
      "Saved study after trial 66/100\n",
      "Early termination at epoch 74 with best validation metric 0.002261795314552728\n"
     ]
    },
    {
     "name": "stderr",
     "output_type": "stream",
     "text": [
      "[I 2025-06-19 05:33:09,482] Trial 66 finished with value: 0.002261795314552728 and parameters: {'input_transform': 'z_score', 'target_transform': 'min_max'}. Best is trial 32 with value: 0.0012983351480215788.\n"
     ]
    },
    {
     "name": "stdout",
     "output_type": "stream",
     "text": [
      "Saved study after trial 67/100\n",
      "Early termination at epoch 144 with best validation metric 0.002392916336248163\n"
     ]
    },
    {
     "name": "stderr",
     "output_type": "stream",
     "text": [
      "[I 2025-06-19 06:19:05,002] Trial 67 finished with value: 0.002392916336248163 and parameters: {'input_transform': '8bit', 'target_transform': 'min_max'}. Best is trial 32 with value: 0.0012983351480215788.\n"
     ]
    },
    {
     "name": "stdout",
     "output_type": "stream",
     "text": [
      "Saved study after trial 68/100\n",
      "Early termination at epoch 71 with best validation metric 0.5587114002555609\n"
     ]
    },
    {
     "name": "stderr",
     "output_type": "stream",
     "text": [
      "[I 2025-06-19 06:41:46,524] Trial 68 finished with value: 0.5587114002555609 and parameters: {'input_transform': 'z_score', 'target_transform': '8bit'}. Best is trial 32 with value: 0.0012983351480215788.\n"
     ]
    },
    {
     "name": "stdout",
     "output_type": "stream",
     "text": [
      "Saved study after trial 69/100\n",
      "Early termination at epoch 49 with best validation metric 0.40185649786144495\n"
     ]
    },
    {
     "name": "stderr",
     "output_type": "stream",
     "text": [
      "[I 2025-06-19 06:57:27,686] Trial 69 finished with value: 0.40185649786144495 and parameters: {'input_transform': 'min_max', 'target_transform': 'z_score'}. Best is trial 32 with value: 0.0012983351480215788.\n"
     ]
    },
    {
     "name": "stdout",
     "output_type": "stream",
     "text": [
      "Saved study after trial 70/100\n",
      "Early termination at epoch 76 with best validation metric 0.002192998093960341\n"
     ]
    },
    {
     "name": "stderr",
     "output_type": "stream",
     "text": [
      "[I 2025-06-19 07:21:45,041] Trial 70 finished with value: 0.002192998093960341 and parameters: {'input_transform': 'z_score', 'target_transform': 'min_max'}. Best is trial 32 with value: 0.0012983351480215788.\n"
     ]
    },
    {
     "name": "stdout",
     "output_type": "stream",
     "text": [
      "Saved study after trial 71/100\n",
      "Early termination at epoch 58 with best validation metric 0.002174191537051229\n"
     ]
    },
    {
     "name": "stderr",
     "output_type": "stream",
     "text": [
      "[I 2025-06-19 07:40:18,587] Trial 71 finished with value: 0.002174191537051229 and parameters: {'input_transform': 'z_score', 'target_transform': 'min_max'}. Best is trial 32 with value: 0.0012983351480215788.\n"
     ]
    },
    {
     "name": "stdout",
     "output_type": "stream",
     "text": [
      "Saved study after trial 72/100\n",
      "Early termination at epoch 48 with best validation metric 0.002101440662954701\n"
     ]
    },
    {
     "name": "stderr",
     "output_type": "stream",
     "text": [
      "[I 2025-06-19 07:55:40,630] Trial 72 finished with value: 0.002101440662954701 and parameters: {'input_transform': 'z_score', 'target_transform': 'min_max'}. Best is trial 32 with value: 0.0012983351480215788.\n"
     ]
    },
    {
     "name": "stdout",
     "output_type": "stream",
     "text": [
      "Saved study after trial 73/100\n",
      "Early termination at epoch 65 with best validation metric 0.00209854811328114\n"
     ]
    },
    {
     "name": "stderr",
     "output_type": "stream",
     "text": [
      "[I 2025-06-19 08:16:27,476] Trial 73 finished with value: 0.00209854811328114 and parameters: {'input_transform': 'z_score', 'target_transform': 'min_max'}. Best is trial 32 with value: 0.0012983351480215788.\n"
     ]
    },
    {
     "name": "stdout",
     "output_type": "stream",
     "text": [
      "Saved study after trial 74/100\n",
      "Early termination at epoch 90 with best validation metric 0.0021157045011932496\n"
     ]
    },
    {
     "name": "stderr",
     "output_type": "stream",
     "text": [
      "[I 2025-06-19 08:45:12,285] Trial 74 finished with value: 0.0021157045011932496 and parameters: {'input_transform': 'z_score', 'target_transform': 'min_max'}. Best is trial 32 with value: 0.0012983351480215788.\n"
     ]
    },
    {
     "name": "stdout",
     "output_type": "stream",
     "text": [
      "Saved study after trial 75/100\n",
      "Early termination at epoch 49 with best validation metric 0.002180684208724415\n"
     ]
    },
    {
     "name": "stderr",
     "output_type": "stream",
     "text": [
      "[I 2025-06-19 09:00:53,526] Trial 75 finished with value: 0.002180684208724415 and parameters: {'input_transform': 'z_score', 'target_transform': 'min_max'}. Best is trial 32 with value: 0.0012983351480215788.\n"
     ]
    },
    {
     "name": "stdout",
     "output_type": "stream",
     "text": [
      "Saved study after trial 76/100\n",
      "Early termination at epoch 75 with best validation metric 0.0021308366231096443\n"
     ]
    },
    {
     "name": "stderr",
     "output_type": "stream",
     "text": [
      "[I 2025-06-19 09:24:51,399] Trial 76 finished with value: 0.0021308366231096443 and parameters: {'input_transform': 'z_score', 'target_transform': 'min_max'}. Best is trial 32 with value: 0.0012983351480215788.\n"
     ]
    },
    {
     "name": "stdout",
     "output_type": "stream",
     "text": [
      "Saved study after trial 77/100\n",
      "Early termination at epoch 57 with best validation metric 0.002171487813029671\n"
     ]
    },
    {
     "name": "stderr",
     "output_type": "stream",
     "text": [
      "[I 2025-06-19 09:43:05,888] Trial 77 finished with value: 0.002171487813029671 and parameters: {'input_transform': 'z_score', 'target_transform': 'min_max'}. Best is trial 32 with value: 0.0012983351480215788.\n"
     ]
    },
    {
     "name": "stdout",
     "output_type": "stream",
     "text": [
      "Saved study after trial 78/100\n",
      "Early termination at epoch 65 with best validation metric 0.002374319519731216\n"
     ]
    },
    {
     "name": "stderr",
     "output_type": "stream",
     "text": [
      "[I 2025-06-19 10:03:52,282] Trial 78 finished with value: 0.002374319519731216 and parameters: {'input_transform': '8bit', 'target_transform': 'min_max'}. Best is trial 32 with value: 0.0012983351480215788.\n"
     ]
    },
    {
     "name": "stdout",
     "output_type": "stream",
     "text": [
      "Saved study after trial 79/100\n",
      "Early termination at epoch 71 with best validation metric 0.0021963597391732037\n"
     ]
    },
    {
     "name": "stderr",
     "output_type": "stream",
     "text": [
      "[I 2025-06-19 10:30:09,895] Trial 79 finished with value: 0.0021963597391732037 and parameters: {'input_transform': 'z_score', 'target_transform': 'min_max'}. Best is trial 32 with value: 0.0012983351480215788.\n"
     ]
    },
    {
     "name": "stdout",
     "output_type": "stream",
     "text": [
      "Saved study after trial 80/100\n",
      "Early termination at epoch 46 with best validation metric 0.5910031469538808\n"
     ]
    },
    {
     "name": "stderr",
     "output_type": "stream",
     "text": [
      "[I 2025-06-19 10:45:11,937] Trial 80 finished with value: 0.5910031469538808 and parameters: {'input_transform': 'z_score', 'target_transform': '8bit'}. Best is trial 32 with value: 0.0012983351480215788.\n"
     ]
    },
    {
     "name": "stdout",
     "output_type": "stream",
     "text": [
      "Saved study after trial 81/100\n",
      "Early termination at epoch 73 with best validation metric 0.0021037279984739143\n"
     ]
    },
    {
     "name": "stderr",
     "output_type": "stream",
     "text": [
      "[I 2025-06-19 11:08:36,035] Trial 81 finished with value: 0.0021037279984739143 and parameters: {'input_transform': 'z_score', 'target_transform': 'min_max'}. Best is trial 32 with value: 0.0012983351480215788.\n"
     ]
    },
    {
     "name": "stdout",
     "output_type": "stream",
     "text": [
      "Saved study after trial 82/100\n",
      "Early termination at epoch 89 with best validation metric 0.002142942637874512\n"
     ]
    },
    {
     "name": "stderr",
     "output_type": "stream",
     "text": [
      "[I 2025-06-19 11:40:56,175] Trial 82 finished with value: 0.002142942637874512 and parameters: {'input_transform': 'z_score', 'target_transform': 'min_max'}. Best is trial 32 with value: 0.0012983351480215788.\n"
     ]
    },
    {
     "name": "stdout",
     "output_type": "stream",
     "text": [
      "Saved study after trial 83/100\n",
      "Early termination at epoch 73 with best validation metric 0.002207391840784112\n"
     ]
    },
    {
     "name": "stderr",
     "output_type": "stream",
     "text": [
      "[I 2025-06-19 12:06:04,307] Trial 83 finished with value: 0.002207391840784112 and parameters: {'input_transform': 'z_score', 'target_transform': 'min_max'}. Best is trial 32 with value: 0.0012983351480215788.\n"
     ]
    },
    {
     "name": "stdout",
     "output_type": "stream",
     "text": [
      "Saved study after trial 84/100\n",
      "Early termination at epoch 46 with best validation metric 0.00220607539449702\n"
     ]
    },
    {
     "name": "stderr",
     "output_type": "stream",
     "text": [
      "[I 2025-06-19 12:24:07,711] Trial 84 finished with value: 0.00220607539449702 and parameters: {'input_transform': 'z_score', 'target_transform': 'min_max'}. Best is trial 32 with value: 0.0012983351480215788.\n"
     ]
    },
    {
     "name": "stdout",
     "output_type": "stream",
     "text": [
      "Saved study after trial 85/100\n",
      "Early termination at epoch 52 with best validation metric 0.002194506439991528\n"
     ]
    },
    {
     "name": "stderr",
     "output_type": "stream",
     "text": [
      "[I 2025-06-19 12:40:53,287] Trial 85 finished with value: 0.002194506439991528 and parameters: {'input_transform': 'z_score', 'target_transform': 'min_max'}. Best is trial 32 with value: 0.0012983351480215788.\n"
     ]
    },
    {
     "name": "stdout",
     "output_type": "stream",
     "text": [
      "Saved study after trial 86/100\n",
      "Early termination at epoch 114 with best validation metric 0.002431078777590301\n"
     ]
    },
    {
     "name": "stderr",
     "output_type": "stream",
     "text": [
      "[I 2025-06-19 13:17:30,884] Trial 86 finished with value: 0.002431078777590301 and parameters: {'input_transform': 'min_max', 'target_transform': 'min_max'}. Best is trial 32 with value: 0.0012983351480215788.\n"
     ]
    },
    {
     "name": "stdout",
     "output_type": "stream",
     "text": [
      "Saved study after trial 87/100\n",
      "Early termination at epoch 61 with best validation metric 0.37897850945591927\n"
     ]
    },
    {
     "name": "stderr",
     "output_type": "stream",
     "text": [
      "[I 2025-06-19 13:37:09,706] Trial 87 finished with value: 0.37897850945591927 and parameters: {'input_transform': 'z_score', 'target_transform': 'z_score'}. Best is trial 32 with value: 0.0012983351480215788.\n"
     ]
    },
    {
     "name": "stdout",
     "output_type": "stream",
     "text": [
      "Saved study after trial 88/100\n",
      "Early termination at epoch 51 with best validation metric 0.002198520309320884\n"
     ]
    },
    {
     "name": "stderr",
     "output_type": "stream",
     "text": [
      "[I 2025-06-19 13:53:36,095] Trial 88 finished with value: 0.002198520309320884 and parameters: {'input_transform': 'z_score', 'target_transform': 'min_max'}. Best is trial 32 with value: 0.0012983351480215788.\n"
     ]
    },
    {
     "name": "stdout",
     "output_type": "stream",
     "text": [
      "Saved study after trial 89/100\n",
      "Early termination at epoch 45 with best validation metric 0.002163316592486808\n"
     ]
    },
    {
     "name": "stderr",
     "output_type": "stream",
     "text": [
      "[I 2025-06-19 14:08:07,111] Trial 89 finished with value: 0.002163316592486808 and parameters: {'input_transform': 'z_score', 'target_transform': 'min_max'}. Best is trial 32 with value: 0.0012983351480215788.\n"
     ]
    },
    {
     "name": "stdout",
     "output_type": "stream",
     "text": [
      "Saved study after trial 90/100\n",
      "Early termination at epoch 124 with best validation metric 0.0022096009051892906\n"
     ]
    },
    {
     "name": "stderr",
     "output_type": "stream",
     "text": [
      "[I 2025-06-19 14:49:01,390] Trial 90 finished with value: 0.0022096009051892906 and parameters: {'input_transform': 'z_score', 'target_transform': 'min_max'}. Best is trial 32 with value: 0.0012983351480215788.\n"
     ]
    },
    {
     "name": "stdout",
     "output_type": "stream",
     "text": [
      "Saved study after trial 91/100\n",
      "Early termination at epoch 81 with best validation metric 0.002083119430608349\n"
     ]
    },
    {
     "name": "stderr",
     "output_type": "stream",
     "text": [
      "[I 2025-06-19 15:19:02,960] Trial 91 finished with value: 0.002083119430608349 and parameters: {'input_transform': '8bit', 'target_transform': 'min_max'}. Best is trial 32 with value: 0.0012983351480215788.\n"
     ]
    },
    {
     "name": "stdout",
     "output_type": "stream",
     "text": [
      "Saved study after trial 92/100\n",
      "Early termination at epoch 64 with best validation metric 0.002301632546732435\n"
     ]
    },
    {
     "name": "stderr",
     "output_type": "stream",
     "text": [
      "[I 2025-06-19 15:39:53,493] Trial 92 finished with value: 0.002301632546732435 and parameters: {'input_transform': '8bit', 'target_transform': 'min_max'}. Best is trial 32 with value: 0.0012983351480215788.\n"
     ]
    },
    {
     "name": "stdout",
     "output_type": "stream",
     "text": [
      "Saved study after trial 93/100\n",
      "Early termination at epoch 61 with best validation metric 0.0021921958432358224\n"
     ]
    },
    {
     "name": "stderr",
     "output_type": "stream",
     "text": [
      "[I 2025-06-19 15:59:34,823] Trial 93 finished with value: 0.0021921958432358224 and parameters: {'input_transform': '8bit', 'target_transform': 'min_max'}. Best is trial 32 with value: 0.0012983351480215788.\n"
     ]
    },
    {
     "name": "stdout",
     "output_type": "stream",
     "text": [
      "Saved study after trial 94/100\n",
      "Early termination at epoch 58 with best validation metric 0.002119452434271807\n"
     ]
    },
    {
     "name": "stderr",
     "output_type": "stream",
     "text": [
      "[I 2025-06-19 16:18:18,458] Trial 94 finished with value: 0.002119452434271807 and parameters: {'input_transform': '8bit', 'target_transform': 'min_max'}. Best is trial 32 with value: 0.0012983351480215788.\n"
     ]
    },
    {
     "name": "stdout",
     "output_type": "stream",
     "text": [
      "Saved study after trial 95/100\n",
      "Early termination at epoch 52 with best validation metric 0.0022162486347951926\n"
     ]
    },
    {
     "name": "stderr",
     "output_type": "stream",
     "text": [
      "[I 2025-06-19 16:35:06,457] Trial 95 finished with value: 0.0022162486347951926 and parameters: {'input_transform': '8bit', 'target_transform': 'min_max'}. Best is trial 32 with value: 0.0012983351480215788.\n"
     ]
    },
    {
     "name": "stdout",
     "output_type": "stream",
     "text": [
      "Saved study after trial 96/100\n",
      "Early termination at epoch 65 with best validation metric 0.002196721947257174\n"
     ]
    },
    {
     "name": "stderr",
     "output_type": "stream",
     "text": [
      "[I 2025-06-19 16:56:06,381] Trial 96 finished with value: 0.002196721947257174 and parameters: {'input_transform': 'z_score', 'target_transform': 'min_max'}. Best is trial 32 with value: 0.0012983351480215788.\n"
     ]
    },
    {
     "name": "stdout",
     "output_type": "stream",
     "text": [
      "Saved study after trial 97/100\n",
      "Early termination at epoch 73 with best validation metric 0.0020844811806455255\n"
     ]
    },
    {
     "name": "stderr",
     "output_type": "stream",
     "text": [
      "[I 2025-06-19 17:19:40,375] Trial 97 finished with value: 0.0020844811806455255 and parameters: {'input_transform': '8bit', 'target_transform': 'min_max'}. Best is trial 32 with value: 0.0012983351480215788.\n"
     ]
    },
    {
     "name": "stdout",
     "output_type": "stream",
     "text": [
      "Saved study after trial 98/100\n",
      "Early termination at epoch 57 with best validation metric 0.5684794886037707\n"
     ]
    },
    {
     "name": "stderr",
     "output_type": "stream",
     "text": [
      "[I 2025-06-19 17:38:06,023] Trial 98 finished with value: 0.5684794886037707 and parameters: {'input_transform': 'z_score', 'target_transform': '8bit'}. Best is trial 32 with value: 0.0012983351480215788.\n"
     ]
    },
    {
     "name": "stdout",
     "output_type": "stream",
     "text": [
      "Saved study after trial 99/100\n",
      "Early termination at epoch 99 with best validation metric 0.002156814680347452\n"
     ]
    },
    {
     "name": "stderr",
     "output_type": "stream",
     "text": [
      "[I 2025-06-19 18:10:03,472] Trial 99 finished with value: 0.002156814680347452 and parameters: {'input_transform': 'z_score', 'target_transform': 'min_max'}. Best is trial 32 with value: 0.0012983351480215788.\n"
     ]
    },
    {
     "name": "stdout",
     "output_type": "stream",
     "text": [
      "Saved study after trial 100/100\n",
      "100 of Normalization Method Optimization for OrigAGP completed.\n",
      "Best trial for channel OrigAGP:\n",
      "  Validation Loss: 0.0012983351480215788\n",
      "  Hyperparameters: {'input_transform': 'z_score', 'target_transform': 'min_max'}\n",
      "Beginning optimization for channel: OrigMito for io normalization methods\n",
      "Early termination at epoch 118 with best validation metric 0.04781214368995279\n"
     ]
    },
    {
     "name": "stderr",
     "output_type": "stream",
     "text": [
      "[I 2025-06-19 18:48:06,786] Trial 50 finished with value: 0.04781214368995279 and parameters: {'input_transform': 'min_max', 'target_transform': 'min_max'}. Best is trial 45 with value: 0.026521524880081415.\n"
     ]
    },
    {
     "name": "stdout",
     "output_type": "stream",
     "text": [
      "Saved study after trial 51/100\n",
      "Early termination at epoch 38 with best validation metric 0.05152300908230245\n"
     ]
    },
    {
     "name": "stderr",
     "output_type": "stream",
     "text": [
      "[I 2025-06-19 19:00:23,908] Trial 51 finished with value: 0.05152300908230245 and parameters: {'input_transform': 'min_max', 'target_transform': 'min_max'}. Best is trial 45 with value: 0.026521524880081415.\n"
     ]
    },
    {
     "name": "stdout",
     "output_type": "stream",
     "text": [
      "Saved study after trial 52/100\n",
      "Early termination at epoch 114 with best validation metric 0.0506141425576061\n"
     ]
    },
    {
     "name": "stderr",
     "output_type": "stream",
     "text": [
      "[I 2025-06-19 19:37:09,634] Trial 52 finished with value: 0.0506141425576061 and parameters: {'input_transform': 'min_max', 'target_transform': 'min_max'}. Best is trial 45 with value: 0.026521524880081415.\n"
     ]
    },
    {
     "name": "stdout",
     "output_type": "stream",
     "text": [
      "Saved study after trial 53/100\n",
      "Early termination at epoch 42 with best validation metric 0.049174133338965476\n"
     ]
    },
    {
     "name": "stderr",
     "output_type": "stream",
     "text": [
      "[I 2025-06-19 19:50:43,928] Trial 53 finished with value: 0.049174133338965476 and parameters: {'input_transform': 'min_max', 'target_transform': 'min_max'}. Best is trial 45 with value: 0.026521524880081415.\n"
     ]
    },
    {
     "name": "stdout",
     "output_type": "stream",
     "text": [
      "Saved study after trial 54/100\n",
      "Early termination at epoch 58 with best validation metric 0.04842007881961763\n"
     ]
    },
    {
     "name": "stderr",
     "output_type": "stream",
     "text": [
      "[I 2025-06-19 20:09:27,556] Trial 54 finished with value: 0.04842007881961763 and parameters: {'input_transform': 'min_max', 'target_transform': 'min_max'}. Best is trial 45 with value: 0.026521524880081415.\n"
     ]
    },
    {
     "name": "stdout",
     "output_type": "stream",
     "text": [
      "Saved study after trial 55/100\n",
      "Early termination at epoch 49 with best validation metric 0.049510114011354744\n"
     ]
    },
    {
     "name": "stderr",
     "output_type": "stream",
     "text": [
      "[I 2025-06-19 20:25:16,429] Trial 55 finished with value: 0.049510114011354744 and parameters: {'input_transform': '8bit', 'target_transform': 'min_max'}. Best is trial 45 with value: 0.026521524880081415.\n"
     ]
    },
    {
     "name": "stdout",
     "output_type": "stream",
     "text": [
      "Saved study after trial 56/100\n",
      "Early termination at epoch 58 with best validation metric 0.04934656654950231\n"
     ]
    },
    {
     "name": "stderr",
     "output_type": "stream",
     "text": [
      "[I 2025-06-19 20:43:58,731] Trial 56 finished with value: 0.04934656654950231 and parameters: {'input_transform': 'min_max', 'target_transform': 'min_max'}. Best is trial 45 with value: 0.026521524880081415.\n"
     ]
    },
    {
     "name": "stdout",
     "output_type": "stream",
     "text": [
      "Saved study after trial 57/100\n",
      "Early termination at epoch 113 with best validation metric 12.234522461891174\n"
     ]
    },
    {
     "name": "stderr",
     "output_type": "stream",
     "text": [
      "[I 2025-06-19 21:20:19,052] Trial 57 finished with value: 12.234522461891174 and parameters: {'input_transform': 'min_max', 'target_transform': '8bit'}. Best is trial 45 with value: 0.026521524880081415.\n"
     ]
    },
    {
     "name": "stdout",
     "output_type": "stream",
     "text": [
      "Saved study after trial 58/100\n",
      "Early termination at epoch 69 with best validation metric 0.051939542521722615\n"
     ]
    },
    {
     "name": "stderr",
     "output_type": "stream",
     "text": [
      "[I 2025-06-19 21:42:31,914] Trial 58 finished with value: 0.051939542521722615 and parameters: {'input_transform': 'min_max', 'target_transform': 'min_max'}. Best is trial 45 with value: 0.026521524880081415.\n"
     ]
    },
    {
     "name": "stdout",
     "output_type": "stream",
     "text": [
      "Saved study after trial 59/100\n",
      "Early termination at epoch 33 with best validation metric 0.3832106441259384\n"
     ]
    },
    {
     "name": "stderr",
     "output_type": "stream",
     "text": [
      "[I 2025-06-19 21:53:10,756] Trial 59 finished with value: 0.3832106441259384 and parameters: {'input_transform': '8bit', 'target_transform': 'z_score'}. Best is trial 45 with value: 0.026521524880081415.\n"
     ]
    },
    {
     "name": "stdout",
     "output_type": "stream",
     "text": [
      "Saved study after trial 60/100\n",
      "Early termination at epoch 60 with best validation metric 0.04814713425002992\n"
     ]
    },
    {
     "name": "stderr",
     "output_type": "stream",
     "text": [
      "[I 2025-06-19 22:12:29,802] Trial 60 finished with value: 0.04814713425002992 and parameters: {'input_transform': 'min_max', 'target_transform': 'min_max'}. Best is trial 45 with value: 0.026521524880081415.\n"
     ]
    },
    {
     "name": "stdout",
     "output_type": "stream",
     "text": [
      "Saved study after trial 61/100\n",
      "Early termination at epoch 106 with best validation metric 0.04880464228335768\n"
     ]
    },
    {
     "name": "stderr",
     "output_type": "stream",
     "text": [
      "[I 2025-06-19 22:46:34,652] Trial 61 finished with value: 0.04880464228335768 and parameters: {'input_transform': 'z_score', 'target_transform': 'min_max'}. Best is trial 45 with value: 0.026521524880081415.\n"
     ]
    },
    {
     "name": "stdout",
     "output_type": "stream",
     "text": [
      "Saved study after trial 62/100\n",
      "Early termination at epoch 44 with best validation metric 0.04879797424655408\n"
     ]
    },
    {
     "name": "stderr",
     "output_type": "stream",
     "text": [
      "[I 2025-06-19 23:00:45,336] Trial 62 finished with value: 0.04879797424655408 and parameters: {'input_transform': 'z_score', 'target_transform': 'min_max'}. Best is trial 45 with value: 0.026521524880081415.\n"
     ]
    },
    {
     "name": "stdout",
     "output_type": "stream",
     "text": [
      "Saved study after trial 63/100\n",
      "Early termination at epoch 68 with best validation metric 0.04988678835798055\n"
     ]
    },
    {
     "name": "stderr",
     "output_type": "stream",
     "text": [
      "[I 2025-06-19 23:22:38,131] Trial 63 finished with value: 0.04988678835798055 and parameters: {'input_transform': 'z_score', 'target_transform': 'min_max'}. Best is trial 45 with value: 0.026521524880081415.\n"
     ]
    },
    {
     "name": "stdout",
     "output_type": "stream",
     "text": [
      "Saved study after trial 64/100\n",
      "Early termination at epoch 36 with best validation metric 0.04753627523314208\n"
     ]
    },
    {
     "name": "stderr",
     "output_type": "stream",
     "text": [
      "[I 2025-06-19 23:34:14,608] Trial 64 finished with value: 0.04753627523314208 and parameters: {'input_transform': 'z_score', 'target_transform': 'min_max'}. Best is trial 45 with value: 0.026521524880081415.\n"
     ]
    },
    {
     "name": "stdout",
     "output_type": "stream",
     "text": [
      "Saved study after trial 65/100\n",
      "Early termination at epoch 29 with best validation metric 0.04887880431488156\n"
     ]
    },
    {
     "name": "stderr",
     "output_type": "stream",
     "text": [
      "[I 2025-06-19 23:43:35,951] Trial 65 finished with value: 0.04887880431488156 and parameters: {'input_transform': 'z_score', 'target_transform': 'min_max'}. Best is trial 45 with value: 0.026521524880081415.\n"
     ]
    },
    {
     "name": "stdout",
     "output_type": "stream",
     "text": [
      "Saved study after trial 66/100\n",
      "Early termination at epoch 100 with best validation metric 0.04837475926615298\n"
     ]
    },
    {
     "name": "stderr",
     "output_type": "stream",
     "text": [
      "[I 2025-06-20 00:15:44,336] Trial 66 finished with value: 0.04837475926615298 and parameters: {'input_transform': 'z_score', 'target_transform': 'min_max'}. Best is trial 45 with value: 0.026521524880081415.\n"
     ]
    },
    {
     "name": "stdout",
     "output_type": "stream",
     "text": [
      "Saved study after trial 67/100\n",
      "Early termination at epoch 60 with best validation metric 0.04876336350571364\n"
     ]
    },
    {
     "name": "stderr",
     "output_type": "stream",
     "text": [
      "[I 2025-06-20 00:35:02,384] Trial 67 finished with value: 0.04876336350571364 and parameters: {'input_transform': 'min_max', 'target_transform': 'min_max'}. Best is trial 45 with value: 0.026521524880081415.\n"
     ]
    },
    {
     "name": "stdout",
     "output_type": "stream",
     "text": [
      "Saved study after trial 68/100\n",
      "Early termination at epoch 48 with best validation metric 0.04842546640429646\n"
     ]
    },
    {
     "name": "stderr",
     "output_type": "stream",
     "text": [
      "[I 2025-06-20 00:50:29,508] Trial 68 finished with value: 0.04842546640429646 and parameters: {'input_transform': 'z_score', 'target_transform': 'min_max'}. Best is trial 45 with value: 0.026521524880081415.\n"
     ]
    },
    {
     "name": "stdout",
     "output_type": "stream",
     "text": [
      "Saved study after trial 69/100\n",
      "Early termination at epoch 44 with best validation metric 0.37250395119190216\n"
     ]
    },
    {
     "name": "stderr",
     "output_type": "stream",
     "text": [
      "[I 2025-06-20 01:04:40,324] Trial 69 finished with value: 0.37250395119190216 and parameters: {'input_transform': 'z_score', 'target_transform': 'z_score'}. Best is trial 45 with value: 0.026521524880081415.\n"
     ]
    },
    {
     "name": "stdout",
     "output_type": "stream",
     "text": [
      "Saved study after trial 70/100\n",
      "Early termination at epoch 90 with best validation metric 11.95792043209076\n"
     ]
    },
    {
     "name": "stderr",
     "output_type": "stream",
     "text": [
      "[I 2025-06-20 01:33:34,165] Trial 70 finished with value: 11.95792043209076 and parameters: {'input_transform': 'min_max', 'target_transform': '8bit'}. Best is trial 45 with value: 0.026521524880081415.\n"
     ]
    },
    {
     "name": "stdout",
     "output_type": "stream",
     "text": [
      "Saved study after trial 71/100\n",
      "Early termination at epoch 87 with best validation metric 0.049291881383396685\n"
     ]
    },
    {
     "name": "stderr",
     "output_type": "stream",
     "text": [
      "[I 2025-06-20 02:01:31,906] Trial 71 finished with value: 0.049291881383396685 and parameters: {'input_transform': 'z_score', 'target_transform': 'min_max'}. Best is trial 45 with value: 0.026521524880081415.\n"
     ]
    },
    {
     "name": "stdout",
     "output_type": "stream",
     "text": [
      "Saved study after trial 72/100\n",
      "Early termination at epoch 63 with best validation metric 0.04571946186479181\n"
     ]
    },
    {
     "name": "stderr",
     "output_type": "stream",
     "text": [
      "[I 2025-06-20 02:21:49,106] Trial 72 finished with value: 0.04571946186479181 and parameters: {'input_transform': 'z_score', 'target_transform': 'min_max'}. Best is trial 45 with value: 0.026521524880081415.\n"
     ]
    },
    {
     "name": "stdout",
     "output_type": "stream",
     "text": [
      "Saved study after trial 73/100\n",
      "Early termination at epoch 66 with best validation metric 0.04869890259578824\n"
     ]
    },
    {
     "name": "stderr",
     "output_type": "stream",
     "text": [
      "[I 2025-06-20 02:43:02,935] Trial 73 finished with value: 0.04869890259578824 and parameters: {'input_transform': 'z_score', 'target_transform': 'min_max'}. Best is trial 45 with value: 0.026521524880081415.\n"
     ]
    },
    {
     "name": "stdout",
     "output_type": "stream",
     "text": [
      "Saved study after trial 74/100\n",
      "Early termination at epoch 40 with best validation metric 0.04897899879142642\n"
     ]
    },
    {
     "name": "stderr",
     "output_type": "stream",
     "text": [
      "[I 2025-06-20 02:55:55,926] Trial 74 finished with value: 0.04897899879142642 and parameters: {'input_transform': 'z_score', 'target_transform': 'min_max'}. Best is trial 45 with value: 0.026521524880081415.\n"
     ]
    },
    {
     "name": "stdout",
     "output_type": "stream",
     "text": [
      "Saved study after trial 75/100\n",
      "Early termination at epoch 42 with best validation metric 0.046878295310307294\n"
     ]
    },
    {
     "name": "stderr",
     "output_type": "stream",
     "text": [
      "[I 2025-06-20 03:09:27,353] Trial 75 finished with value: 0.046878295310307294 and parameters: {'input_transform': 'z_score', 'target_transform': 'min_max'}. Best is trial 45 with value: 0.026521524880081415.\n"
     ]
    },
    {
     "name": "stdout",
     "output_type": "stream",
     "text": [
      "Saved study after trial 76/100\n",
      "Early termination at epoch 71 with best validation metric 0.04737540625501424\n"
     ]
    },
    {
     "name": "stderr",
     "output_type": "stream",
     "text": [
      "[I 2025-06-20 03:32:16,504] Trial 76 finished with value: 0.04737540625501424 and parameters: {'input_transform': '8bit', 'target_transform': 'min_max'}. Best is trial 45 with value: 0.026521524880081415.\n"
     ]
    },
    {
     "name": "stdout",
     "output_type": "stream",
     "text": [
      "Saved study after trial 77/100\n",
      "Early termination at epoch 50 with best validation metric 0.05147054104600102\n"
     ]
    },
    {
     "name": "stderr",
     "output_type": "stream",
     "text": [
      "[I 2025-06-20 03:48:21,403] Trial 77 finished with value: 0.05147054104600102 and parameters: {'input_transform': 'z_score', 'target_transform': 'min_max'}. Best is trial 45 with value: 0.026521524880081415.\n"
     ]
    },
    {
     "name": "stdout",
     "output_type": "stream",
     "text": [
      "Saved study after trial 78/100\n",
      "Early termination at epoch 90 with best validation metric 0.048483530757948756\n"
     ]
    },
    {
     "name": "stderr",
     "output_type": "stream",
     "text": [
      "[I 2025-06-20 04:17:15,591] Trial 78 finished with value: 0.048483530757948756 and parameters: {'input_transform': 'z_score', 'target_transform': 'min_max'}. Best is trial 45 with value: 0.026521524880081415.\n"
     ]
    },
    {
     "name": "stdout",
     "output_type": "stream",
     "text": [
      "Saved study after trial 79/100\n",
      "Early termination at epoch 48 with best validation metric 0.04942919034510851\n"
     ]
    },
    {
     "name": "stderr",
     "output_type": "stream",
     "text": [
      "[I 2025-06-20 04:32:41,721] Trial 79 finished with value: 0.04942919034510851 and parameters: {'input_transform': 'min_max', 'target_transform': 'min_max'}. Best is trial 45 with value: 0.026521524880081415.\n"
     ]
    },
    {
     "name": "stdout",
     "output_type": "stream",
     "text": [
      "Saved study after trial 80/100\n",
      "Early termination at epoch 47 with best validation metric 0.04884642839897424\n"
     ]
    },
    {
     "name": "stderr",
     "output_type": "stream",
     "text": [
      "[I 2025-06-20 04:47:49,252] Trial 80 finished with value: 0.04884642839897424 and parameters: {'input_transform': 'z_score', 'target_transform': 'min_max'}. Best is trial 45 with value: 0.026521524880081415.\n"
     ]
    },
    {
     "name": "stdout",
     "output_type": "stream",
     "text": [
      "Saved study after trial 81/100\n",
      "Early termination at epoch 39 with best validation metric 0.0484564428916201\n"
     ]
    },
    {
     "name": "stderr",
     "output_type": "stream",
     "text": [
      "[I 2025-06-20 05:00:22,768] Trial 81 finished with value: 0.0484564428916201 and parameters: {'input_transform': 'z_score', 'target_transform': 'min_max'}. Best is trial 45 with value: 0.026521524880081415.\n"
     ]
    },
    {
     "name": "stdout",
     "output_type": "stream",
     "text": [
      "Saved study after trial 82/100\n",
      "Early termination at epoch 51 with best validation metric 0.04761500615859404\n"
     ]
    },
    {
     "name": "stderr",
     "output_type": "stream",
     "text": [
      "[I 2025-06-20 05:16:47,336] Trial 82 finished with value: 0.04761500615859404 and parameters: {'input_transform': 'z_score', 'target_transform': 'min_max'}. Best is trial 45 with value: 0.026521524880081415.\n"
     ]
    },
    {
     "name": "stdout",
     "output_type": "stream",
     "text": [
      "Saved study after trial 83/100\n",
      "Early termination at epoch 48 with best validation metric 0.05010011012200266\n"
     ]
    },
    {
     "name": "stderr",
     "output_type": "stream",
     "text": [
      "[I 2025-06-20 05:32:13,853] Trial 83 finished with value: 0.05010011012200266 and parameters: {'input_transform': 'z_score', 'target_transform': 'min_max'}. Best is trial 45 with value: 0.026521524880081415.\n"
     ]
    },
    {
     "name": "stdout",
     "output_type": "stream",
     "text": [
      "Saved study after trial 84/100\n",
      "Early termination at epoch 31 with best validation metric 0.05079582461621612\n"
     ]
    },
    {
     "name": "stderr",
     "output_type": "stream",
     "text": [
      "[I 2025-06-20 05:42:14,267] Trial 84 finished with value: 0.05079582461621612 and parameters: {'input_transform': 'z_score', 'target_transform': 'min_max'}. Best is trial 45 with value: 0.026521524880081415.\n"
     ]
    },
    {
     "name": "stdout",
     "output_type": "stream",
     "text": [
      "Saved study after trial 85/100\n",
      "Early termination at epoch 63 with best validation metric 0.046976514626294374\n"
     ]
    },
    {
     "name": "stderr",
     "output_type": "stream",
     "text": [
      "[I 2025-06-20 06:02:29,908] Trial 85 finished with value: 0.046976514626294374 and parameters: {'input_transform': 'min_max', 'target_transform': 'min_max'}. Best is trial 45 with value: 0.026521524880081415.\n"
     ]
    },
    {
     "name": "stdout",
     "output_type": "stream",
     "text": [
      "Saved study after trial 86/100\n",
      "Early termination at epoch 66 with best validation metric 12.81627669930458\n"
     ]
    },
    {
     "name": "stderr",
     "output_type": "stream",
     "text": [
      "[I 2025-06-20 06:23:42,854] Trial 86 finished with value: 12.81627669930458 and parameters: {'input_transform': 'z_score', 'target_transform': '8bit'}. Best is trial 45 with value: 0.026521524880081415.\n"
     ]
    },
    {
     "name": "stdout",
     "output_type": "stream",
     "text": [
      "Saved study after trial 87/100\n",
      "Early termination at epoch 83 with best validation metric 0.3755203802138567\n"
     ]
    },
    {
     "name": "stderr",
     "output_type": "stream",
     "text": [
      "[I 2025-06-20 06:50:23,274] Trial 87 finished with value: 0.3755203802138567 and parameters: {'input_transform': 'z_score', 'target_transform': 'z_score'}. Best is trial 45 with value: 0.026521524880081415.\n"
     ]
    },
    {
     "name": "stdout",
     "output_type": "stream",
     "text": [
      "Saved study after trial 88/100\n",
      "Early termination at epoch 105 with best validation metric 0.04751449904870242\n"
     ]
    },
    {
     "name": "stderr",
     "output_type": "stream",
     "text": [
      "[I 2025-06-20 07:24:06,950] Trial 88 finished with value: 0.04751449904870242 and parameters: {'input_transform': 'min_max', 'target_transform': 'min_max'}. Best is trial 45 with value: 0.026521524880081415.\n"
     ]
    },
    {
     "name": "stdout",
     "output_type": "stream",
     "text": [
      "Saved study after trial 89/100\n",
      "Early termination at epoch 45 with best validation metric 0.05024467362090945\n"
     ]
    },
    {
     "name": "stderr",
     "output_type": "stream",
     "text": [
      "[I 2025-06-20 07:38:36,656] Trial 89 finished with value: 0.05024467362090945 and parameters: {'input_transform': '8bit', 'target_transform': 'min_max'}. Best is trial 45 with value: 0.026521524880081415.\n"
     ]
    },
    {
     "name": "stdout",
     "output_type": "stream",
     "text": [
      "Saved study after trial 90/100\n",
      "Early termination at epoch 59 with best validation metric 0.04787986585870385\n"
     ]
    },
    {
     "name": "stderr",
     "output_type": "stream",
     "text": [
      "[I 2025-06-20 07:57:35,609] Trial 90 finished with value: 0.04787986585870385 and parameters: {'input_transform': 'z_score', 'target_transform': 'min_max'}. Best is trial 45 with value: 0.026521524880081415.\n"
     ]
    },
    {
     "name": "stdout",
     "output_type": "stream",
     "text": [
      "Saved study after trial 91/100\n",
      "Early termination at epoch 34 with best validation metric 0.048234893125481904\n"
     ]
    },
    {
     "name": "stderr",
     "output_type": "stream",
     "text": [
      "[I 2025-06-20 08:08:33,224] Trial 91 finished with value: 0.048234893125481904 and parameters: {'input_transform': 'z_score', 'target_transform': 'min_max'}. Best is trial 45 with value: 0.026521524880081415.\n"
     ]
    },
    {
     "name": "stdout",
     "output_type": "stream",
     "text": [
      "Saved study after trial 92/100\n",
      "Early termination at epoch 37 with best validation metric 0.049243679153732955\n"
     ]
    },
    {
     "name": "stderr",
     "output_type": "stream",
     "text": [
      "[I 2025-06-20 08:20:28,542] Trial 92 finished with value: 0.049243679153732955 and parameters: {'input_transform': 'z_score', 'target_transform': 'min_max'}. Best is trial 45 with value: 0.026521524880081415.\n"
     ]
    },
    {
     "name": "stdout",
     "output_type": "stream",
     "text": [
      "Saved study after trial 93/100\n",
      "Early termination at epoch 53 with best validation metric 0.04976694914512336\n"
     ]
    },
    {
     "name": "stderr",
     "output_type": "stream",
     "text": [
      "[I 2025-06-20 08:37:32,007] Trial 93 finished with value: 0.04976694914512336 and parameters: {'input_transform': 'z_score', 'target_transform': 'min_max'}. Best is trial 45 with value: 0.026521524880081415.\n"
     ]
    },
    {
     "name": "stdout",
     "output_type": "stream",
     "text": [
      "Saved study after trial 94/100\n",
      "Early termination at epoch 93 with best validation metric 0.04751421744003892\n"
     ]
    },
    {
     "name": "stderr",
     "output_type": "stream",
     "text": [
      "[I 2025-06-20 09:07:24,553] Trial 94 finished with value: 0.04751421744003892 and parameters: {'input_transform': 'min_max', 'target_transform': 'min_max'}. Best is trial 45 with value: 0.026521524880081415.\n"
     ]
    },
    {
     "name": "stdout",
     "output_type": "stream",
     "text": [
      "Saved study after trial 95/100\n",
      "Early termination at epoch 59 with best validation metric 0.04949733579996973\n"
     ]
    },
    {
     "name": "stderr",
     "output_type": "stream",
     "text": [
      "[I 2025-06-20 09:26:23,099] Trial 95 finished with value: 0.04949733579996973 and parameters: {'input_transform': 'z_score', 'target_transform': 'min_max'}. Best is trial 45 with value: 0.026521524880081415.\n"
     ]
    },
    {
     "name": "stdout",
     "output_type": "stream",
     "text": [
      "Saved study after trial 96/100\n",
      "Early termination at epoch 31 with best validation metric 0.04968366341199726\n"
     ]
    },
    {
     "name": "stderr",
     "output_type": "stream",
     "text": [
      "[I 2025-06-20 09:36:23,227] Trial 96 finished with value: 0.04968366341199726 and parameters: {'input_transform': 'z_score', 'target_transform': 'min_max'}. Best is trial 45 with value: 0.026521524880081415.\n"
     ]
    },
    {
     "name": "stdout",
     "output_type": "stream",
     "text": [
      "Saved study after trial 97/100\n",
      "Early termination at epoch 68 with best validation metric 0.05140046728774905\n"
     ]
    },
    {
     "name": "stderr",
     "output_type": "stream",
     "text": [
      "[I 2025-06-20 09:58:15,057] Trial 97 finished with value: 0.05140046728774905 and parameters: {'input_transform': 'min_max', 'target_transform': 'min_max'}. Best is trial 45 with value: 0.026521524880081415.\n"
     ]
    },
    {
     "name": "stdout",
     "output_type": "stream",
     "text": [
      "Saved study after trial 98/100\n",
      "Early termination at epoch 40 with best validation metric 0.04826421942561865\n"
     ]
    },
    {
     "name": "stderr",
     "output_type": "stream",
     "text": [
      "[I 2025-06-20 10:11:08,849] Trial 98 finished with value: 0.04826421942561865 and parameters: {'input_transform': 'z_score', 'target_transform': 'min_max'}. Best is trial 45 with value: 0.026521524880081415.\n"
     ]
    },
    {
     "name": "stdout",
     "output_type": "stream",
     "text": [
      "Saved study after trial 99/100\n",
      "Early termination at epoch 57 with best validation metric 0.38673267886042595\n"
     ]
    },
    {
     "name": "stderr",
     "output_type": "stream",
     "text": [
      "[I 2025-06-20 10:29:29,883] Trial 99 finished with value: 0.38673267886042595 and parameters: {'input_transform': 'min_max', 'target_transform': 'z_score'}. Best is trial 45 with value: 0.026521524880081415.\n"
     ]
    },
    {
     "name": "stdout",
     "output_type": "stream",
     "text": [
      "Saved study after trial 100/100\n",
      "100 of Normalization Method Optimization for OrigMito completed.\n",
      "Best trial for channel OrigMito:\n",
      "  Validation Loss: 0.026521524880081415\n",
      "  Hyperparameters: {'input_transform': 'min_max', 'target_transform': 'min_max'}\n",
      "Beginning optimization for channel: OrigRNA for io normalization methods\n",
      "Early termination at epoch 105 with best validation metric 0.013230172276962548\n"
     ]
    },
    {
     "name": "stderr",
     "output_type": "stream",
     "text": [
      "[I 2025-06-20 11:03:16,642] Trial 50 finished with value: 0.013230172276962548 and parameters: {'input_transform': 'min_max', 'target_transform': 'min_max'}. Best is trial 1 with value: 0.0049406999023631215.\n"
     ]
    },
    {
     "name": "stdout",
     "output_type": "stream",
     "text": [
      "Saved study after trial 51/100\n",
      "Early termination at epoch 70 with best validation metric 0.012774442468071356\n"
     ]
    },
    {
     "name": "stderr",
     "output_type": "stream",
     "text": [
      "[I 2025-06-20 11:25:49,376] Trial 51 finished with value: 0.012774442468071356 and parameters: {'input_transform': 'min_max', 'target_transform': 'min_max'}. Best is trial 1 with value: 0.0049406999023631215.\n"
     ]
    },
    {
     "name": "stdout",
     "output_type": "stream",
     "text": [
      "Saved study after trial 52/100\n",
      "Early termination at epoch 91 with best validation metric 0.012655395781621337\n"
     ]
    },
    {
     "name": "stderr",
     "output_type": "stream",
     "text": [
      "[I 2025-06-20 11:55:05,288] Trial 52 finished with value: 0.012655395781621337 and parameters: {'input_transform': 'min_max', 'target_transform': 'min_max'}. Best is trial 1 with value: 0.0049406999023631215.\n"
     ]
    },
    {
     "name": "stdout",
     "output_type": "stream",
     "text": [
      "Saved study after trial 53/100\n",
      "Early termination at epoch 59 with best validation metric 0.011744694813387468\n"
     ]
    },
    {
     "name": "stderr",
     "output_type": "stream",
     "text": [
      "[I 2025-06-20 12:14:05,718] Trial 53 finished with value: 0.011744694813387468 and parameters: {'input_transform': 'min_max', 'target_transform': 'min_max'}. Best is trial 1 with value: 0.0049406999023631215.\n"
     ]
    },
    {
     "name": "stdout",
     "output_type": "stream",
     "text": [
      "Saved study after trial 54/100\n",
      "Early termination at epoch 47 with best validation metric 0.011721906936145388\n"
     ]
    },
    {
     "name": "stderr",
     "output_type": "stream",
     "text": [
      "[I 2025-06-20 12:29:14,287] Trial 54 finished with value: 0.011721906936145388 and parameters: {'input_transform': 'min_max', 'target_transform': 'min_max'}. Best is trial 1 with value: 0.0049406999023631215.\n"
     ]
    },
    {
     "name": "stdout",
     "output_type": "stream",
     "text": [
      "Saved study after trial 55/100\n",
      "Early termination at epoch 44 with best validation metric 0.01361700460256543\n"
     ]
    },
    {
     "name": "stderr",
     "output_type": "stream",
     "text": [
      "[I 2025-06-20 12:43:25,411] Trial 55 finished with value: 0.01361700460256543 and parameters: {'input_transform': '8bit', 'target_transform': 'min_max'}. Best is trial 1 with value: 0.0049406999023631215.\n"
     ]
    },
    {
     "name": "stdout",
     "output_type": "stream",
     "text": [
      "Saved study after trial 56/100\n",
      "Early termination at epoch 52 with best validation metric 3.4068145528435707\n"
     ]
    },
    {
     "name": "stderr",
     "output_type": "stream",
     "text": [
      "[I 2025-06-20 13:00:10,279] Trial 56 finished with value: 3.4068145528435707 and parameters: {'input_transform': 'min_max', 'target_transform': '8bit'}. Best is trial 1 with value: 0.0049406999023631215.\n"
     ]
    },
    {
     "name": "stdout",
     "output_type": "stream",
     "text": [
      "Saved study after trial 57/100\n",
      "Early termination at epoch 63 with best validation metric 0.012443899235222489\n"
     ]
    },
    {
     "name": "stderr",
     "output_type": "stream",
     "text": [
      "[I 2025-06-20 13:20:28,951] Trial 57 finished with value: 0.012443899235222489 and parameters: {'input_transform': 'z_score', 'target_transform': 'min_max'}. Best is trial 1 with value: 0.0049406999023631215.\n"
     ]
    },
    {
     "name": "stdout",
     "output_type": "stream",
     "text": [
      "Saved study after trial 58/100\n",
      "Early termination at epoch 61 with best validation metric 0.33068944327533245\n"
     ]
    },
    {
     "name": "stderr",
     "output_type": "stream",
     "text": [
      "[I 2025-06-20 13:40:07,948] Trial 58 finished with value: 0.33068944327533245 and parameters: {'input_transform': 'min_max', 'target_transform': 'z_score'}. Best is trial 1 with value: 0.0049406999023631215.\n"
     ]
    },
    {
     "name": "stdout",
     "output_type": "stream",
     "text": [
      "Saved study after trial 59/100\n",
      "Early termination at epoch 57 with best validation metric 0.012087647584849037\n"
     ]
    },
    {
     "name": "stderr",
     "output_type": "stream",
     "text": [
      "[I 2025-06-20 13:58:30,821] Trial 59 finished with value: 0.012087647584849037 and parameters: {'input_transform': 'min_max', 'target_transform': 'min_max'}. Best is trial 1 with value: 0.0049406999023631215.\n"
     ]
    },
    {
     "name": "stdout",
     "output_type": "stream",
     "text": [
      "Saved study after trial 60/100\n",
      "Early termination at epoch 58 with best validation metric 0.01313243358163163\n"
     ]
    },
    {
     "name": "stderr",
     "output_type": "stream",
     "text": [
      "[I 2025-06-20 14:17:12,429] Trial 60 finished with value: 0.01313243358163163 and parameters: {'input_transform': '8bit', 'target_transform': 'min_max'}. Best is trial 1 with value: 0.0049406999023631215.\n"
     ]
    },
    {
     "name": "stdout",
     "output_type": "stream",
     "text": [
      "Saved study after trial 61/100\n",
      "Early termination at epoch 67 with best validation metric 0.01212147020851262\n"
     ]
    },
    {
     "name": "stderr",
     "output_type": "stream",
     "text": [
      "[I 2025-06-20 14:38:47,831] Trial 61 finished with value: 0.01212147020851262 and parameters: {'input_transform': 'min_max', 'target_transform': 'min_max'}. Best is trial 1 with value: 0.0049406999023631215.\n"
     ]
    },
    {
     "name": "stdout",
     "output_type": "stream",
     "text": [
      "Saved study after trial 62/100\n",
      "Early termination at epoch 59 with best validation metric 0.011890869966009632\n"
     ]
    },
    {
     "name": "stderr",
     "output_type": "stream",
     "text": [
      "[I 2025-06-20 14:57:49,664] Trial 62 finished with value: 0.011890869966009632 and parameters: {'input_transform': 'min_max', 'target_transform': 'min_max'}. Best is trial 1 with value: 0.0049406999023631215.\n"
     ]
    },
    {
     "name": "stdout",
     "output_type": "stream",
     "text": [
      "Saved study after trial 63/100\n",
      "Early termination at epoch 68 with best validation metric 0.014080113731324673\n"
     ]
    },
    {
     "name": "stderr",
     "output_type": "stream",
     "text": [
      "[I 2025-06-20 15:19:45,201] Trial 63 finished with value: 0.014080113731324673 and parameters: {'input_transform': 'min_max', 'target_transform': 'min_max'}. Best is trial 1 with value: 0.0049406999023631215.\n"
     ]
    },
    {
     "name": "stdout",
     "output_type": "stream",
     "text": [
      "Saved study after trial 64/100\n",
      "Early termination at epoch 51 with best validation metric 0.012854494765633717\n"
     ]
    },
    {
     "name": "stderr",
     "output_type": "stream",
     "text": [
      "[I 2025-06-20 15:36:12,654] Trial 64 finished with value: 0.012854494765633717 and parameters: {'input_transform': 'min_max', 'target_transform': 'min_max'}. Best is trial 1 with value: 0.0049406999023631215.\n"
     ]
    },
    {
     "name": "stdout",
     "output_type": "stream",
     "text": [
      "Saved study after trial 65/100\n",
      "Early termination at epoch 61 with best validation metric 0.012441458908142522\n"
     ]
    },
    {
     "name": "stderr",
     "output_type": "stream",
     "text": [
      "[I 2025-06-20 15:55:53,691] Trial 65 finished with value: 0.012441458908142522 and parameters: {'input_transform': 'min_max', 'target_transform': 'min_max'}. Best is trial 1 with value: 0.0049406999023631215.\n"
     ]
    },
    {
     "name": "stdout",
     "output_type": "stream",
     "text": [
      "Saved study after trial 66/100\n",
      "Early termination at epoch 59 with best validation metric 0.011863321997225285\n"
     ]
    },
    {
     "name": "stderr",
     "output_type": "stream",
     "text": [
      "[I 2025-06-20 16:14:56,517] Trial 66 finished with value: 0.011863321997225285 and parameters: {'input_transform': 'min_max', 'target_transform': 'min_max'}. Best is trial 1 with value: 0.0049406999023631215.\n"
     ]
    },
    {
     "name": "stdout",
     "output_type": "stream",
     "text": [
      "Saved study after trial 67/100\n",
      "Early termination at epoch 64 with best validation metric 0.01285360543988645\n"
     ]
    },
    {
     "name": "stderr",
     "output_type": "stream",
     "text": [
      "[I 2025-06-20 16:35:36,417] Trial 67 finished with value: 0.01285360543988645 and parameters: {'input_transform': 'min_max', 'target_transform': 'min_max'}. Best is trial 1 with value: 0.0049406999023631215.\n"
     ]
    },
    {
     "name": "stdout",
     "output_type": "stream",
     "text": [
      "Saved study after trial 68/100\n",
      "Early termination at epoch 67 with best validation metric 3.2835649624466896\n"
     ]
    },
    {
     "name": "stderr",
     "output_type": "stream",
     "text": [
      "[I 2025-06-20 16:57:14,051] Trial 68 finished with value: 3.2835649624466896 and parameters: {'input_transform': '8bit', 'target_transform': '8bit'}. Best is trial 1 with value: 0.0049406999023631215.\n"
     ]
    },
    {
     "name": "stdout",
     "output_type": "stream",
     "text": [
      "Saved study after trial 69/100\n",
      "Early termination at epoch 54 with best validation metric 0.3390173716470599\n"
     ]
    },
    {
     "name": "stderr",
     "output_type": "stream",
     "text": [
      "[I 2025-06-20 17:14:41,695] Trial 69 finished with value: 0.3390173716470599 and parameters: {'input_transform': 'min_max', 'target_transform': 'z_score'}. Best is trial 1 with value: 0.0049406999023631215.\n"
     ]
    },
    {
     "name": "stdout",
     "output_type": "stream",
     "text": [
      "Saved study after trial 70/100\n",
      "Early termination at epoch 65 with best validation metric 0.012105817630072124\n"
     ]
    },
    {
     "name": "stderr",
     "output_type": "stream",
     "text": [
      "[I 2025-06-20 17:35:41,791] Trial 70 finished with value: 0.012105817630072124 and parameters: {'input_transform': 'z_score', 'target_transform': 'min_max'}. Best is trial 1 with value: 0.0049406999023631215.\n"
     ]
    },
    {
     "name": "stdout",
     "output_type": "stream",
     "text": [
      "Saved study after trial 71/100\n",
      "Early termination at epoch 73 with best validation metric 0.012912271544337273\n"
     ]
    },
    {
     "name": "stderr",
     "output_type": "stream",
     "text": [
      "[I 2025-06-20 17:59:15,814] Trial 71 finished with value: 0.012912271544337273 and parameters: {'input_transform': 'min_max', 'target_transform': 'min_max'}. Best is trial 1 with value: 0.0049406999023631215.\n"
     ]
    },
    {
     "name": "stdout",
     "output_type": "stream",
     "text": [
      "Saved study after trial 72/100\n",
      "Early termination at epoch 100 with best validation metric 0.013210842953412794\n"
     ]
    },
    {
     "name": "stderr",
     "output_type": "stream",
     "text": [
      "[I 2025-06-20 18:31:32,508] Trial 72 finished with value: 0.013210842953412794 and parameters: {'input_transform': 'min_max', 'target_transform': 'min_max'}. Best is trial 1 with value: 0.0049406999023631215.\n"
     ]
    },
    {
     "name": "stdout",
     "output_type": "stream",
     "text": [
      "Saved study after trial 73/100\n",
      "Early termination at epoch 72 with best validation metric 0.011946177881327458\n"
     ]
    },
    {
     "name": "stderr",
     "output_type": "stream",
     "text": [
      "[I 2025-06-20 18:54:48,691] Trial 73 finished with value: 0.011946177881327458 and parameters: {'input_transform': 'min_max', 'target_transform': 'min_max'}. Best is trial 1 with value: 0.0049406999023631215.\n"
     ]
    },
    {
     "name": "stdout",
     "output_type": "stream",
     "text": [
      "Saved study after trial 74/100\n",
      "Early termination at epoch 65 with best validation metric 0.013066678162431344\n"
     ]
    },
    {
     "name": "stderr",
     "output_type": "stream",
     "text": [
      "[I 2025-06-20 19:15:48,911] Trial 74 finished with value: 0.013066678162431344 and parameters: {'input_transform': 'min_max', 'target_transform': 'min_max'}. Best is trial 1 with value: 0.0049406999023631215.\n"
     ]
    },
    {
     "name": "stdout",
     "output_type": "stream",
     "text": [
      "Saved study after trial 75/100\n",
      "Early termination at epoch 72 with best validation metric 0.012497015384724364\n"
     ]
    },
    {
     "name": "stderr",
     "output_type": "stream",
     "text": [
      "[I 2025-06-20 19:39:04,692] Trial 75 finished with value: 0.012497015384724364 and parameters: {'input_transform': 'min_max', 'target_transform': 'min_max'}. Best is trial 1 with value: 0.0049406999023631215.\n"
     ]
    },
    {
     "name": "stdout",
     "output_type": "stream",
     "text": [
      "Saved study after trial 76/100\n",
      "Early termination at epoch 86 with best validation metric 0.011862226368975826\n"
     ]
    },
    {
     "name": "stderr",
     "output_type": "stream",
     "text": [
      "[I 2025-06-20 20:06:50,690] Trial 76 finished with value: 0.011862226368975826 and parameters: {'input_transform': '8bit', 'target_transform': 'min_max'}. Best is trial 1 with value: 0.0049406999023631215.\n"
     ]
    },
    {
     "name": "stdout",
     "output_type": "stream",
     "text": [
      "Saved study after trial 77/100\n",
      "Early termination at epoch 86 with best validation metric 0.013284645567182451\n"
     ]
    },
    {
     "name": "stderr",
     "output_type": "stream",
     "text": [
      "[I 2025-06-20 20:34:35,395] Trial 77 finished with value: 0.013284645567182451 and parameters: {'input_transform': 'min_max', 'target_transform': 'min_max'}. Best is trial 1 with value: 0.0049406999023631215.\n"
     ]
    },
    {
     "name": "stdout",
     "output_type": "stream",
     "text": [
      "Saved study after trial 78/100\n",
      "Early termination at epoch 48 with best validation metric 0.013877704332116991\n"
     ]
    },
    {
     "name": "stderr",
     "output_type": "stream",
     "text": [
      "[I 2025-06-20 20:50:05,497] Trial 78 finished with value: 0.013877704332116991 and parameters: {'input_transform': 'min_max', 'target_transform': 'min_max'}. Best is trial 1 with value: 0.0049406999023631215.\n"
     ]
    },
    {
     "name": "stdout",
     "output_type": "stream",
     "text": [
      "Saved study after trial 79/100\n",
      "Early termination at epoch 60 with best validation metric 3.2190012969076633\n"
     ]
    },
    {
     "name": "stderr",
     "output_type": "stream",
     "text": [
      "[I 2025-06-20 21:09:26,553] Trial 79 finished with value: 3.2190012969076633 and parameters: {'input_transform': 'min_max', 'target_transform': '8bit'}. Best is trial 1 with value: 0.0049406999023631215.\n"
     ]
    },
    {
     "name": "stdout",
     "output_type": "stream",
     "text": [
      "Saved study after trial 80/100\n",
      "Early termination at epoch 68 with best validation metric 0.012380051950458437\n"
     ]
    },
    {
     "name": "stderr",
     "output_type": "stream",
     "text": [
      "[I 2025-06-20 21:31:21,642] Trial 80 finished with value: 0.012380051950458437 and parameters: {'input_transform': '8bit', 'target_transform': 'min_max'}. Best is trial 1 with value: 0.0049406999023631215.\n"
     ]
    },
    {
     "name": "stdout",
     "output_type": "stream",
     "text": [
      "Saved study after trial 81/100\n",
      "Early termination at epoch 77 with best validation metric 0.0123679940297734\n"
     ]
    },
    {
     "name": "stderr",
     "output_type": "stream",
     "text": [
      "[I 2025-06-20 21:56:09,579] Trial 81 finished with value: 0.0123679940297734 and parameters: {'input_transform': 'min_max', 'target_transform': 'min_max'}. Best is trial 1 with value: 0.0049406999023631215.\n"
     ]
    },
    {
     "name": "stdout",
     "output_type": "stream",
     "text": [
      "Saved study after trial 82/100\n",
      "Early termination at epoch 65 with best validation metric 0.011879250727361068\n"
     ]
    },
    {
     "name": "stderr",
     "output_type": "stream",
     "text": [
      "[I 2025-06-20 22:17:05,760] Trial 82 finished with value: 0.011879250727361068 and parameters: {'input_transform': 'min_max', 'target_transform': 'min_max'}. Best is trial 1 with value: 0.0049406999023631215.\n"
     ]
    },
    {
     "name": "stdout",
     "output_type": "stream",
     "text": [
      "Saved study after trial 83/100\n",
      "Early termination at epoch 66 with best validation metric 0.013041868020081893\n"
     ]
    },
    {
     "name": "stderr",
     "output_type": "stream",
     "text": [
      "[I 2025-06-20 22:38:20,766] Trial 83 finished with value: 0.013041868020081893 and parameters: {'input_transform': 'min_max', 'target_transform': 'min_max'}. Best is trial 1 with value: 0.0049406999023631215.\n"
     ]
    },
    {
     "name": "stdout",
     "output_type": "stream",
     "text": [
      "Saved study after trial 84/100\n",
      "Early termination at epoch 48 with best validation metric 0.012253419874468818\n"
     ]
    },
    {
     "name": "stderr",
     "output_type": "stream",
     "text": [
      "[I 2025-06-20 22:53:49,713] Trial 84 finished with value: 0.012253419874468818 and parameters: {'input_transform': 'min_max', 'target_transform': 'min_max'}. Best is trial 1 with value: 0.0049406999023631215.\n"
     ]
    },
    {
     "name": "stdout",
     "output_type": "stream",
     "text": [
      "Saved study after trial 85/100\n",
      "Early termination at epoch 48 with best validation metric 0.01273598984698765\n"
     ]
    },
    {
     "name": "stderr",
     "output_type": "stream",
     "text": [
      "[I 2025-06-20 23:09:18,112] Trial 85 finished with value: 0.01273598984698765 and parameters: {'input_transform': 'min_max', 'target_transform': 'min_max'}. Best is trial 1 with value: 0.0049406999023631215.\n"
     ]
    },
    {
     "name": "stdout",
     "output_type": "stream",
     "text": [
      "Saved study after trial 86/100\n",
      "Early termination at epoch 94 with best validation metric 0.3327557509765029\n"
     ]
    },
    {
     "name": "stderr",
     "output_type": "stream",
     "text": [
      "[I 2025-06-20 23:39:32,299] Trial 86 finished with value: 0.3327557509765029 and parameters: {'input_transform': 'z_score', 'target_transform': 'z_score'}. Best is trial 1 with value: 0.0049406999023631215.\n"
     ]
    },
    {
     "name": "stdout",
     "output_type": "stream",
     "text": [
      "Saved study after trial 87/100\n",
      "Early termination at epoch 52 with best validation metric 0.0123834318947047\n"
     ]
    },
    {
     "name": "stderr",
     "output_type": "stream",
     "text": [
      "[I 2025-06-20 23:56:17,610] Trial 87 finished with value: 0.0123834318947047 and parameters: {'input_transform': 'min_max', 'target_transform': 'min_max'}. Best is trial 1 with value: 0.0049406999023631215.\n"
     ]
    },
    {
     "name": "stdout",
     "output_type": "stream",
     "text": [
      "Saved study after trial 88/100\n",
      "Early termination at epoch 113 with best validation metric 0.012470935311284848\n"
     ]
    },
    {
     "name": "stderr",
     "output_type": "stream",
     "text": [
      "[I 2025-06-21 00:32:38,155] Trial 88 finished with value: 0.012470935311284848 and parameters: {'input_transform': 'min_max', 'target_transform': 'min_max'}. Best is trial 1 with value: 0.0049406999023631215.\n"
     ]
    },
    {
     "name": "stdout",
     "output_type": "stream",
     "text": [
      "Saved study after trial 89/100\n",
      "Early termination at epoch 53 with best validation metric 0.012831269443267956\n"
     ]
    },
    {
     "name": "stderr",
     "output_type": "stream",
     "text": [
      "[I 2025-06-21 00:49:42,229] Trial 89 finished with value: 0.012831269443267956 and parameters: {'input_transform': 'min_max', 'target_transform': 'min_max'}. Best is trial 1 with value: 0.0049406999023631215.\n"
     ]
    },
    {
     "name": "stdout",
     "output_type": "stream",
     "text": [
      "Saved study after trial 90/100\n",
      "Early termination at epoch 64 with best validation metric 0.013162544055376202\n"
     ]
    },
    {
     "name": "stderr",
     "output_type": "stream",
     "text": [
      "[I 2025-06-21 01:10:18,211] Trial 90 finished with value: 0.013162544055376202 and parameters: {'input_transform': '8bit', 'target_transform': 'min_max'}. Best is trial 1 with value: 0.0049406999023631215.\n"
     ]
    },
    {
     "name": "stdout",
     "output_type": "stream",
     "text": [
      "Saved study after trial 91/100\n",
      "Early termination at epoch 56 with best validation metric 0.01244343793950975\n"
     ]
    },
    {
     "name": "stderr",
     "output_type": "stream",
     "text": [
      "[I 2025-06-21 01:28:20,265] Trial 91 finished with value: 0.01244343793950975 and parameters: {'input_transform': 'min_max', 'target_transform': 'min_max'}. Best is trial 1 with value: 0.0049406999023631215.\n"
     ]
    },
    {
     "name": "stdout",
     "output_type": "stream",
     "text": [
      "Saved study after trial 92/100\n",
      "Early termination at epoch 88 with best validation metric 0.012621120549738407\n"
     ]
    },
    {
     "name": "stderr",
     "output_type": "stream",
     "text": [
      "[I 2025-06-21 01:56:38,188] Trial 92 finished with value: 0.012621120549738407 and parameters: {'input_transform': 'min_max', 'target_transform': 'min_max'}. Best is trial 1 with value: 0.0049406999023631215.\n"
     ]
    },
    {
     "name": "stdout",
     "output_type": "stream",
     "text": [
      "Saved study after trial 93/100\n",
      "Early termination at epoch 64 with best validation metric 0.012914020218886435\n"
     ]
    },
    {
     "name": "stderr",
     "output_type": "stream",
     "text": [
      "[I 2025-06-21 02:17:13,881] Trial 93 finished with value: 0.012914020218886435 and parameters: {'input_transform': 'min_max', 'target_transform': 'min_max'}. Best is trial 1 with value: 0.0049406999023631215.\n"
     ]
    },
    {
     "name": "stdout",
     "output_type": "stream",
     "text": [
      "Saved study after trial 94/100\n",
      "Early termination at epoch 59 with best validation metric 0.01204564655199647\n"
     ]
    },
    {
     "name": "stderr",
     "output_type": "stream",
     "text": [
      "[I 2025-06-21 02:36:13,303] Trial 94 finished with value: 0.01204564655199647 and parameters: {'input_transform': 'min_max', 'target_transform': 'min_max'}. Best is trial 1 with value: 0.0049406999023631215.\n"
     ]
    },
    {
     "name": "stdout",
     "output_type": "stream",
     "text": [
      "Saved study after trial 95/100\n",
      "Early termination at epoch 66 with best validation metric 0.012710808456176892\n"
     ]
    },
    {
     "name": "stderr",
     "output_type": "stream",
     "text": [
      "[I 2025-06-21 02:57:26,969] Trial 95 finished with value: 0.012710808456176892 and parameters: {'input_transform': 'min_max', 'target_transform': 'min_max'}. Best is trial 1 with value: 0.0049406999023631215.\n"
     ]
    },
    {
     "name": "stdout",
     "output_type": "stream",
     "text": [
      "Saved study after trial 96/100\n",
      "Early termination at epoch 75 with best validation metric 0.012226297258166596\n"
     ]
    },
    {
     "name": "stderr",
     "output_type": "stream",
     "text": [
      "[I 2025-06-21 03:21:34,042] Trial 96 finished with value: 0.012226297258166596 and parameters: {'input_transform': 'min_max', 'target_transform': 'min_max'}. Best is trial 1 with value: 0.0049406999023631215.\n"
     ]
    },
    {
     "name": "stdout",
     "output_type": "stream",
     "text": [
      "Saved study after trial 97/100\n",
      "Early termination at epoch 41 with best validation metric 0.012171387585112825\n"
     ]
    },
    {
     "name": "stderr",
     "output_type": "stream",
     "text": [
      "[I 2025-06-21 03:34:46,504] Trial 97 finished with value: 0.012171387585112825 and parameters: {'input_transform': 'min_max', 'target_transform': 'min_max'}. Best is trial 1 with value: 0.0049406999023631215.\n"
     ]
    },
    {
     "name": "stdout",
     "output_type": "stream",
     "text": [
      "Saved study after trial 98/100\n",
      "Early termination at epoch 61 with best validation metric 3.2137459814548492\n"
     ]
    },
    {
     "name": "stderr",
     "output_type": "stream",
     "text": [
      "[I 2025-06-21 03:54:23,913] Trial 98 finished with value: 3.2137459814548492 and parameters: {'input_transform': 'min_max', 'target_transform': '8bit'}. Best is trial 1 with value: 0.0049406999023631215.\n"
     ]
    },
    {
     "name": "stdout",
     "output_type": "stream",
     "text": [
      "Saved study after trial 99/100\n",
      "Early termination at epoch 75 with best validation metric 0.33686976600438356\n"
     ]
    },
    {
     "name": "stderr",
     "output_type": "stream",
     "text": [
      "[I 2025-06-21 04:18:30,200] Trial 99 finished with value: 0.33686976600438356 and parameters: {'input_transform': 'z_score', 'target_transform': 'z_score'}. Best is trial 1 with value: 0.0049406999023631215.\n"
     ]
    },
    {
     "name": "stdout",
     "output_type": "stream",
     "text": [
      "Saved study after trial 100/100\n",
      "100 of Normalization Method Optimization for OrigRNA completed.\n",
      "Best trial for channel OrigRNA:\n",
      "  Validation Loss: 0.0049406999023631215\n",
      "  Hyperparameters: {'input_transform': '8bit', 'target_transform': 'min_max'}\n"
     ]
    }
   ],
   "source": [
    "N_TRIALS = 100\n",
    "\n",
    "## Loaddata for optimization\n",
    "loaddata_df = pd.read_csv(LOADDATA_FILE_PATH)\n",
    "sc_features = pd.DataFrame()\n",
    "\n",
    "## Retrieve relevant sc features by assemblying them from parquet files\n",
    "for plate in loaddata_df['Metadata_Plate'].unique():\n",
    "    sc_features_parquet = SC_FEATURES_DIR / f'{plate}_sc_normalized.parquet'\n",
    "    if not sc_features_parquet.exists():\n",
    "        print(f'{sc_features_parquet} does not exist, skipping...')\n",
    "        continue \n",
    "    else:\n",
    "        sc_features = pd.concat([\n",
    "            sc_features, \n",
    "            pd.read_parquet(\n",
    "                sc_features_parquet,\n",
    "                columns=['Metadata_Plate', 'Metadata_Well', 'Metadata_Site', 'Metadata_Cells_Location_Center_X', 'Metadata_Cells_Location_Center_Y']\n",
    "            )\n",
    "        ])\n",
    "\n",
    "## Create patch dataset\n",
    "pds = PatchDataset(\n",
    "        _loaddata_csv=loaddata_df,\n",
    "        _sc_feature=sc_features,\n",
    "        _input_channel_keys=INPUT_CHANNEL_NAMES,\n",
    "        _target_channel_keys=TARGET_CHANNEL_NAMES,\n",
    "        _input_transform=None,\n",
    "        _target_transform=None,\n",
    "        patch_size=PATCH_SIZE,\n",
    "        verbose=False,\n",
    "        patch_generation_method=\"random_cell\",\n",
    "        n_expected_patches_per_img=50,\n",
    "        patch_generation_random_seed=42\n",
    "    )\n",
    "\n",
    "for channel_name in TARGET_CHANNEL_NAMES:\n",
    "\n",
    "    ## Configure dataset channel\n",
    "    pds.set_input_channel_keys(INPUT_CHANNEL_NAMES)\n",
    "    pds.set_target_channel_keys(channel_name)\n",
    "    ## Caching of dataset is handled within the objective function due \n",
    "    ## to the need to change normalization methods for each trial\n",
    "\n",
    "    print(f\"Beginning optimization for channel: {channel_name} for io normalization methods\")\n",
    "\n",
    "    # Load the existing study\n",
    "    study_path = OPTUNA_JOBLIB_DIR / f\"FNet_optimize_{channel_name}_io_norm.joblib\"\n",
    "    if study_path.exists():\n",
    "        study = joblib.load(study_path)\n",
    "    else:\n",
    "        # Or create if not already existing\n",
    "        study = optuna.create_study(\n",
    "            direction=\"minimize\",\n",
    "            study_name=f\"FNet_optimize_{channel_name}_io_norm\",\n",
    "            sampler=optuna.samplers.TPESampler(seed=42)\n",
    "        )\n",
    "\n",
    "    # Resume optimization and run up until N_TRIALS\n",
    "    while len(study.trials) < N_TRIALS:\n",
    "        study.optimize(lambda trial: objective(trial, pds, channel_name), n_trials=1)\n",
    "        joblib.dump(study, study_path)\n",
    "        print(f\"Saved study after trial {len(study.trials)}/{N_TRIALS}\")\n",
    "    \n",
    "    print(f\"{N_TRIALS} of Normalization Method Optimization for {channel_name} completed.\")\n",
    "\n",
    "    # Print best trial results\n",
    "    print(f\"Best trial for channel {channel_name}:\")\n",
    "    print(f\"  Validation Loss: {study.best_trial.value}\")\n",
    "    print(f\"  Hyperparameters: {study.best_trial.params}\")"
   ]
  }
 ],
 "metadata": {
  "kernelspec": {
   "display_name": "speckle_analysis",
   "language": "python",
   "name": "python3"
  },
  "language_info": {
   "codemirror_mode": {
    "name": "ipython",
    "version": 3
   },
   "file_extension": ".py",
   "mimetype": "text/x-python",
   "name": "python",
   "nbconvert_exporter": "python",
   "pygments_lexer": "ipython3",
   "version": "3.11.11"
  }
 },
 "nbformat": 4,
 "nbformat_minor": 2
}
