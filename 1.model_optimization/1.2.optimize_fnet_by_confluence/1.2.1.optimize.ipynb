{
 "cells": [
  {
   "cell_type": "markdown",
   "metadata": {},
   "source": [
    "# This notebook ..."
   ]
  },
  {
   "cell_type": "code",
   "execution_count": 1,
   "metadata": {},
   "outputs": [],
   "source": [
    "import pathlib\n",
    "import sys\n",
    "import yaml\n",
    "\n",
    "import pandas as pd\n",
    "\n",
    "import torch\n",
    "import torch.optim as optim\n",
    "import mlflow\n",
    "import optuna\n",
    "import joblib"
   ]
  },
  {
   "cell_type": "markdown",
   "metadata": {},
   "source": [
    "## Read config"
   ]
  },
  {
   "cell_type": "code",
   "execution_count": 2,
   "metadata": {},
   "outputs": [],
   "source": [
    "with open(pathlib.Path('.').absolute().parent.parent / \"config.yml\", \"r\") as file:\n",
    "    config = yaml.safe_load(file)"
   ]
  },
  {
   "cell_type": "code",
   "execution_count": 3,
   "metadata": {},
   "outputs": [
    {
     "name": "stdout",
     "output_type": "stream",
     "text": [
      "/home/weishanli/Waylab/pediatric_cancer_atlas_analysis\n"
     ]
    }
   ],
   "source": [
    "sys.path.append(config['paths']['software_path'])\n",
    "print(str(pathlib.Path('.').absolute().parent.parent))\n",
    "\n",
    "## Dataset\n",
    "from virtual_stain_flow.datasets.PatchDataset import PatchDataset\n",
    "from virtual_stain_flow.datasets.CachedDataset import CachedDataset\n",
    "\n",
    "## FNet training\n",
    "from virtual_stain_flow.models.fnet import FNet\n",
    "from virtual_stain_flow.trainers.Trainer import Trainer\n",
    "\n",
    "## wGaN training\n",
    "from virtual_stain_flow.models.unet import UNet\n",
    "from virtual_stain_flow.models.discriminator import GlobalDiscriminator\n",
    "from virtual_stain_flow.trainers.WGaNTrainer import WGaNTrainer\n",
    "\n",
    "## wGaN losses\n",
    "from virtual_stain_flow.losses.GradientPenaltyLoss import GradientPenaltyLoss\n",
    "from virtual_stain_flow.losses.DiscriminatorLoss import DiscriminatorLoss\n",
    "from virtual_stain_flow.losses.GeneratorLoss import GeneratorLoss\n",
    "\n",
    "from virtual_stain_flow.transforms.MinMaxNormalize import MinMaxNormalize\n",
    "from virtual_stain_flow.transforms.PixelDepthTransform import PixelDepthTransform\n",
    "\n",
    "## Metrics\n",
    "from virtual_stain_flow.metrics.MetricsWrapper import MetricsWrapper\n",
    "from virtual_stain_flow.metrics.PSNR import PSNR\n",
    "from virtual_stain_flow.metrics.SSIM import SSIM\n",
    "\n",
    "## callback\n",
    "from virtual_stain_flow.callbacks.MlflowLogger import MlflowLogger\n",
    "from virtual_stain_flow.callbacks.IntermediatePlot import IntermediatePatchPlot"
   ]
  },
  {
   "cell_type": "markdown",
   "metadata": {},
   "source": [
    "## Define paths and other train configs"
   ]
  },
  {
   "cell_type": "code",
   "execution_count": 4,
   "metadata": {},
   "outputs": [],
   "source": [
    "## Loaddata for train\n",
    "LOADDATA_FILE_PATH = pathlib.Path('.').absolute().parent.parent \\\n",
    "    / '0.data_preprocessing' / 'data_split_loaddata' / 'loaddata_train.csv'\n",
    "assert LOADDATA_FILE_PATH.exists()\n",
    "SC_FEATURES_DIR = pathlib.Path(config['paths']['sc_features_path'])\n",
    "\n",
    "## Output directories\n",
    "MLFLOW_DIR = pathlib.Path('.').absolute() / 'optuna_mlflow'\n",
    "MLFLOW_DIR.mkdir(parents=True, exist_ok=True)\n",
    "\n",
    "OPTUNA_JOBLIB_DIR = pathlib.Path('.').absolute() / 'optuna_joblib'\n",
    "OPTUNA_JOBLIB_DIR.mkdir(parents=True, exist_ok=True)\n",
    "\n",
    "## Basic data generation, model convolutional depth and max epoch definition\n",
    "PATCH_SIZE = 256\n",
    "DEPTH = 5\n",
    "EPOCHS = 1_000\n",
    "\n",
    "## Channels for input and target are read from config\n",
    "INPUT_CHANNEL_NAMES = config['data']['input_channel_keys']\n",
    "TARGET_CHANNEL_NAMES = config['data']['target_channel_keys']\n",
    "\n",
    "## Defines how the train data will be divided to train models of different confluence levels\n",
    "DATA_GROUPING = {\n",
    "    'high_confluence': {\n",
    "        'seeding_density': [12_000, 8_000]\n",
    "    },\n",
    "    'low_confluence': {\n",
    "        'seeding_density': [4_000, 2_000, 1_000]\n",
    "    }\n",
    "}"
   ]
  },
  {
   "cell_type": "markdown",
   "metadata": {},
   "source": [
    "## Define optimization parameters and objectives"
   ]
  },
  {
   "cell_type": "code",
   "execution_count": 5,
   "metadata": {},
   "outputs": [],
   "source": [
    "import gc\n",
    "def free_gpu_memory():\n",
    "    gc.collect()\n",
    "    torch.cuda.empty_cache()\n",
    "\n",
    "def objective(trial, dataset, channel_name, confluence_group_name):\n",
    "    \n",
    "    ## Suggest hyperparameters\n",
    "    lr = trial.suggest_float(\"lr\", 1e-5, 1e-2, log=True) # adam optimizer learning rate\n",
    "    beta0 = trial.suggest_float('beta0', 0.5, 0.9) # adam optimizer beta 0\n",
    "    beta1 = trial.suggest_float('beta1', 0.9, 0.999) # adam optimizer beta 1\n",
    "    betas = (beta0, beta1)\n",
    "\n",
    "    batch_size = trial.suggest_int('batch_size', 16, 64, step=16)\n",
    "    patience = trial.suggest_int('patience', 5, 20) # early stop patience\n",
    "\n",
    "    conv_depth = trial.suggest_int('conv_depth', 3, 5) # convolutional depth for fnet model\n",
    "\n",
    "    ## Setup model and optimizer\n",
    "    model = FNet(depth=conv_depth)\n",
    "    optimizer = optim.Adam(model.parameters(), lr=lr, betas=betas)\n",
    "    \n",
    "    ## Metrics to be computed (and logged)\n",
    "    metric_fns = {\n",
    "        \"mse_loss\": MetricsWrapper(_metric_name='mse', module=torch.nn.MSELoss()),\n",
    "        \"ssim_loss\": SSIM(_metric_name=\"ssim\"),\n",
    "        \"psnr_loss\": PSNR(_metric_name=\"psnr\"),\n",
    "    }\n",
    "\n",
    "    ## Params to log with mlflow\n",
    "    params = {\n",
    "            \"lr\": lr,\n",
    "            \"beta0\": beta0,\n",
    "            \"beta1\": beta1,\n",
    "            \"depth\": conv_depth,\n",
    "            \"patch_size\": PATCH_SIZE,\n",
    "            \"batch_size\": batch_size,\n",
    "            \"epochs\": EPOCHS,\n",
    "            \"patience\": patience,\n",
    "            \"channel_name\": channel_name,\n",
    "        }\n",
    "\n",
    "    ## mlflow logger callback\n",
    "    mlflow_logger_callback = MlflowLogger(\n",
    "        name='mlflow_logger',\n",
    "        mlflow_uri=MLFLOW_DIR / 'mlruns',\n",
    "        mlflow_experiment_name=f'FNet_optimize_{confluence_group_name}',\n",
    "        mlflow_start_run_args={'run_name': f'FNet_optimize_{confluence_group_name}_{channel_name}', 'nested': True},\n",
    "        mlflow_log_params_args=params\n",
    "    )\n",
    "    \n",
    "    ## Trainer\n",
    "    trainer = Trainer(\n",
    "        model = model,\n",
    "        optimizer = optimizer,\n",
    "        backprop_loss = torch.nn.L1Loss(), # MAE loss for backpropagation\n",
    "        dataset = dataset,\n",
    "        batch_size = batch_size,\n",
    "        epochs = EPOCHS,\n",
    "        patience = patience,\n",
    "        callbacks=[mlflow_logger_callback],\n",
    "        metrics=metric_fns,\n",
    "        device = 'cuda',\n",
    "        early_termination_metric='L1Loss'\n",
    "    )\n",
    "\n",
    "    # Train the model and log validation loss\n",
    "    trainer.train()\n",
    "    val_loss = trainer.best_loss\n",
    "\n",
    "    del model\n",
    "    del optimizer\n",
    "    del metric_fns\n",
    "    del mlflow_logger_callback\n",
    "    del trainer\n",
    "    \n",
    "    free_gpu_memory()\n",
    "\n",
    "    return val_loss"
   ]
  },
  {
   "cell_type": "code",
   "execution_count": null,
   "metadata": {},
   "outputs": [
    {
     "name": "stderr",
     "output_type": "stream",
     "text": [
      "[I 2025-02-19 16:57:46,573] A new study created in memory with name: FNet_optimize_OrigDNA_high_confluence\n"
     ]
    },
    {
     "name": "stdout",
     "output_type": "stream",
     "text": [
      "Continuing optimization for channel: OrigDNA for high_confluence\n"
     ]
    },
    {
     "name": "stderr",
     "output_type": "stream",
     "text": [
      "2025/02/19 16:57:46 INFO mlflow.tracking.fluent: Experiment with name 'FNet_optimize_high_confluence' does not exist. Creating a new experiment.\n"
     ]
    },
    {
     "name": "stdout",
     "output_type": "stream",
     "text": [
      "Early termination at epoch 123 with best validation metric 0.014454161748290062\n"
     ]
    },
    {
     "name": "stderr",
     "output_type": "stream",
     "text": [
      "[I 2025-02-19 16:59:11,065] Trial 0 finished with value: 0.014454161748290062 and parameters: {'lr': 0.0001329291894316216, 'beta0': 0.8802857225639664, 'beta1': 0.9724674002393291, 'batch_size': 48, 'patience': 7, 'conv_depth': 3}. Best is trial 0 with value: 0.014454161748290062.\n"
     ]
    },
    {
     "name": "stdout",
     "output_type": "stream",
     "text": [
      "Early termination at epoch 6 with best validation metric 0.5065159797668457\n"
     ]
    },
    {
     "name": "stderr",
     "output_type": "stream",
     "text": [
      "[I 2025-02-19 16:59:16,283] Trial 1 finished with value: 0.5065159797668457 and parameters: {'lr': 1.493656855461762e-05, 'beta0': 0.846470458309974, 'beta1': 0.9595103861625777, 'batch_size': 48, 'patience': 5, 'conv_depth': 5}. Best is trial 0 with value: 0.014454161748290062.\n"
     ]
    },
    {
     "name": "stdout",
     "output_type": "stream",
     "text": [
      "Early termination at epoch 12 with best validation metric 0.02101070899516344\n"
     ]
    },
    {
     "name": "stderr",
     "output_type": "stream",
     "text": [
      "[I 2025-02-19 16:59:25,285] Trial 2 finished with value: 0.02101070899516344 and parameters: {'lr': 0.00314288089084011, 'beta0': 0.5849356442713105, 'beta1': 0.918000671753503, 'batch_size': 16, 'patience': 9, 'conv_depth': 4}. Best is trial 0 with value: 0.014454161748290062.\n"
     ]
    },
    {
     "name": "stdout",
     "output_type": "stream",
     "text": [
      "Early termination at epoch 56 with best validation metric 0.010364015121012926\n"
     ]
    },
    {
     "name": "stderr",
     "output_type": "stream",
     "text": [
      "[I 2025-02-19 17:00:05,928] Trial 3 finished with value: 0.010364015121012926 and parameters: {'lr': 0.00019762189340280086, 'beta0': 0.6164916560792167, 'beta1': 0.9605734365775156, 'batch_size': 16, 'patience': 9, 'conv_depth': 4}. Best is trial 3 with value: 0.010364015121012926.\n"
     ]
    },
    {
     "name": "stdout",
     "output_type": "stream",
     "text": [
      "Early termination at epoch 112 with best validation metric 0.011310026049613953\n"
     ]
    },
    {
     "name": "stderr",
     "output_type": "stream",
     "text": [
      "[I 2025-02-19 17:01:18,970] Trial 4 finished with value: 0.011310026049613953 and parameters: {'lr': 0.00023345864076016249, 'beta0': 0.8140703845572055, 'beta1': 0.9197677044336776, 'batch_size': 48, 'patience': 14, 'conv_depth': 3}. Best is trial 3 with value: 0.010364015121012926.\n"
     ]
    }
   ],
   "source": [
    "# loaddata_df = pd.read_csv(LOADDATA_FILE_PATH)\n",
    "\n",
    "# for confluence_group_name, conditions in DATA_GROUPING.items():\n",
    "\n",
    "#     ## Load dataset\n",
    "#     loaddata_condition_df = loaddata_df.copy()\n",
    "#     for condition, values in conditions.items():\n",
    "#         loaddata_condition_df = loaddata_condition_df[\n",
    "#             loaddata_condition_df[condition].isin(values)\n",
    "#         ]\n",
    "\n",
    "#     sc_features = pd.DataFrame()\n",
    "#     for plate in loaddata_condition_df['Metadata_Plate'].unique():\n",
    "#         sc_features_parquet = SC_FEATURES_DIR / f'{plate}_sc_normalized.parquet'\n",
    "#         if not sc_features_parquet.exists():\n",
    "#             print(f'{sc_features_parquet} does not exist, skipping...')\n",
    "#             continue \n",
    "#         else:\n",
    "#             sc_features = pd.concat([\n",
    "#                 sc_features, \n",
    "#                 pd.read_parquet(\n",
    "#                     sc_features_parquet,\n",
    "#                     columns=['Metadata_Plate', 'Metadata_Well', 'Metadata_Site', 'Metadata_Cells_Location_Center_X', 'Metadata_Cells_Location_Center_Y']\n",
    "#                 )\n",
    "#             ])\n",
    "\n",
    "#     ## Create patch dataset\n",
    "#     pds = PatchDataset(\n",
    "#         _loaddata_csv=loaddata_condition_df,\n",
    "#         _sc_feature=sc_features,\n",
    "#         _input_channel_keys=INPUT_CHANNEL_NAMES,\n",
    "#         _target_channel_keys=TARGET_CHANNEL_NAMES,\n",
    "#         _input_transform=PixelDepthTransform(src_bit_depth=16, target_bit_depth=8, _always_apply=True),\n",
    "#         _target_transform=MinMaxNormalize(_normalization_factor=(2 ** 16) - 1, _always_apply=True),\n",
    "#         patch_size=PATCH_SIZE,\n",
    "#         verbose=False,\n",
    "#         patch_generation_method=\"random_cell\",\n",
    "#         patch_generation_random_seed=42\n",
    "#     )\n",
    "\n",
    "#     for channel_name in TARGET_CHANNEL_NAMES:\n",
    "\n",
    "#         ## Cache dataset of channel\n",
    "#         pds.set_input_channel_keys(INPUT_CHANNEL_NAMES)\n",
    "#         pds.set_target_channel_keys(channel_name)\n",
    "#         cds = CachedDataset(\n",
    "#             dataset=pds,\n",
    "#             prefill_cache=True\n",
    "#         )\n",
    "\n",
    "#         print(f\"Continuing optimization for channel: {channel_name} for {confluence_group_name}\")\n",
    "\n",
    "#         # Load the existing study for the current channel\n",
    "#         study_path = OPTUNA_JOBLIB_DIR / f\"FNet_optimize_{channel_name}_{confluence_group_name}.joblib\"\n",
    "#         if study_path.exists():\n",
    "#             study = joblib.load(study_path)\n",
    "#         else:\n",
    "#             study = optuna.create_study(\n",
    "#                 direction=\"minimize\",\n",
    "#                 study_name=f\"FNet_optimize_{channel_name}_{confluence_group_name}\",\n",
    "#                 sampler=optuna.samplers.TPESampler(seed=42)\n",
    "#             )\n",
    "\n",
    "#         # Optimize the objective function for the current channel\n",
    "#         study.optimize(lambda trial: objective(trial, cds, channel_name, confluence_group_name), n_trials=50)\n",
    "\n",
    "#         # Save the updated study for the current channel\n",
    "#         joblib.dump(study, study_path)\n",
    "\n",
    "#         # Print best trial results\n",
    "#         print(f\"Best trial for channel {channel_name}:\")\n",
    "#         print(f\"  Validation Loss: {study.best_trial.value}\")\n",
    "#         print(f\"  Hyperparameters: {study.best_trial.params}\")"
   ]
  },
  {
   "cell_type": "code",
   "execution_count": 6,
   "metadata": {},
   "outputs": [
    {
     "name": "stdout",
     "output_type": "stream",
     "text": [
      "Continuing optimization for channel: OrigDNA for low_confluence\n",
      "Skipping optimization due to existing joblib...\n",
      "Continuing optimization for channel: OrigER for low_confluence\n",
      "Skipping optimization due to existing joblib...\n"
     ]
    },
    {
     "name": "stderr",
     "output_type": "stream",
     "text": [
      "[I 2025-02-20 10:00:57,491] A new study created in memory with name: FNet_optimize_OrigAGP_low_confluence\n"
     ]
    },
    {
     "name": "stdout",
     "output_type": "stream",
     "text": [
      "Continuing optimization for channel: OrigAGP for low_confluence\n",
      "Early termination at epoch 8 with best validation metric 0.31552654504776\n"
     ]
    },
    {
     "name": "stderr",
     "output_type": "stream",
     "text": [
      "[I 2025-02-20 10:01:06,909] Trial 0 finished with value: 0.31552654504776 and parameters: {'lr': 0.0001329291894316216, 'beta0': 0.8802857225639664, 'beta1': 0.9724674002393291, 'batch_size': 48, 'patience': 7, 'conv_depth': 3}. Best is trial 0 with value: 0.31552654504776.\n"
     ]
    },
    {
     "name": "stdout",
     "output_type": "stream",
     "text": [
      "Early termination at epoch 6 with best validation metric 0.4338683784008026\n"
     ]
    },
    {
     "name": "stderr",
     "output_type": "stream",
     "text": [
      "[I 2025-02-20 10:01:15,047] Trial 1 finished with value: 0.4338683784008026 and parameters: {'lr': 1.493656855461762e-05, 'beta0': 0.846470458309974, 'beta1': 0.9595103861625777, 'batch_size': 48, 'patience': 5, 'conv_depth': 5}. Best is trial 0 with value: 0.31552654504776.\n"
     ]
    },
    {
     "name": "stdout",
     "output_type": "stream",
     "text": [
      "Early termination at epoch 13 with best validation metric 0.005511026208599408\n"
     ]
    },
    {
     "name": "stderr",
     "output_type": "stream",
     "text": [
      "[I 2025-02-20 10:01:30,593] Trial 2 finished with value: 0.005511026208599408 and parameters: {'lr': 0.00314288089084011, 'beta0': 0.5849356442713105, 'beta1': 0.918000671753503, 'batch_size': 16, 'patience': 9, 'conv_depth': 4}. Best is trial 2 with value: 0.005511026208599408.\n"
     ]
    },
    {
     "name": "stdout",
     "output_type": "stream",
     "text": [
      "Early termination at epoch 48 with best validation metric 0.002269703894853592\n"
     ]
    },
    {
     "name": "stderr",
     "output_type": "stream",
     "text": [
      "[I 2025-02-20 10:02:26,727] Trial 3 finished with value: 0.002269703894853592 and parameters: {'lr': 0.00019762189340280086, 'beta0': 0.6164916560792167, 'beta1': 0.9605734365775156, 'batch_size': 16, 'patience': 9, 'conv_depth': 4}. Best is trial 3 with value: 0.002269703894853592.\n"
     ]
    },
    {
     "name": "stdout",
     "output_type": "stream",
     "text": [
      "Early termination at epoch 92 with best validation metric 0.0018819078104570508\n"
     ]
    },
    {
     "name": "stderr",
     "output_type": "stream",
     "text": [
      "[I 2025-02-20 10:04:05,390] Trial 4 finished with value: 0.0018819078104570508 and parameters: {'lr': 0.00023345864076016249, 'beta0': 0.8140703845572055, 'beta1': 0.9197677044336776, 'batch_size': 48, 'patience': 14, 'conv_depth': 3}. Best is trial 4 with value: 0.0018819078104570508.\n"
     ]
    },
    {
     "name": "stdout",
     "output_type": "stream",
     "text": [
      "Early termination at epoch 68 with best validation metric 0.0025724268052726984\n"
     ]
    },
    {
     "name": "stderr",
     "output_type": "stream",
     "text": [
      "[I 2025-02-20 10:05:31,359] Trial 5 finished with value: 0.0025724268052726984 and parameters: {'lr': 0.0006647135865318024, 'beta0': 0.5682096494749166, 'beta1': 0.9064401077055427, 'batch_size': 64, 'patience': 20, 'conv_depth': 5}. Best is trial 4 with value: 0.0018819078104570508.\n"
     ]
    },
    {
     "name": "stdout",
     "output_type": "stream",
     "text": [
      "Early termination at epoch 105 with best validation metric 0.0021477534901350737\n"
     ]
    },
    {
     "name": "stderr",
     "output_type": "stream",
     "text": [
      "[I 2025-02-20 10:07:35,475] Trial 6 finished with value: 0.0021477534901350737 and parameters: {'lr': 8.200518402245828e-05, 'beta0': 0.5390688456025535, 'beta1': 0.9677390696247036, 'batch_size': 32, 'patience': 6, 'conv_depth': 4}. Best is trial 4 with value: 0.0018819078104570508.\n"
     ]
    },
    {
     "name": "stdout",
     "output_type": "stream",
     "text": [
      "Early termination at epoch 721 with best validation metric 0.002090462716296315\n"
     ]
    },
    {
     "name": "stderr",
     "output_type": "stream",
     "text": [
      "[I 2025-02-20 10:21:34,825] Trial 7 finished with value: 0.002090462716296315 and parameters: {'lr': 1.2681352169084594e-05, 'beta0': 0.8637281608315128, 'beta1': 0.9256192181784016, 'batch_size': 48, 'patience': 9, 'conv_depth': 4}. Best is trial 4 with value: 0.0018819078104570508.\n"
     ]
    },
    {
     "name": "stdout",
     "output_type": "stream",
     "text": [
      "Early termination at epoch 70 with best validation metric 0.004007298965007067\n"
     ]
    },
    {
     "name": "stderr",
     "output_type": "stream",
     "text": [
      "[I 2025-02-20 10:23:23,107] Trial 8 finished with value: 0.004007298965007067 and parameters: {'lr': 0.00043664735929796326, 'beta0': 0.5739417822102109, 'beta1': 0.9959888781486913, 'batch_size': 64, 'patience': 20, 'conv_depth': 5}. Best is trial 4 with value: 0.0018819078104570508.\n"
     ]
    },
    {
     "name": "stdout",
     "output_type": "stream",
     "text": [
      "Early termination at epoch 11 with best validation metric 0.0063027553260326385\n"
     ]
    },
    {
     "name": "stderr",
     "output_type": "stream",
     "text": [
      "[I 2025-02-20 10:23:43,018] Trial 9 finished with value: 0.0063027553260326385 and parameters: {'lr': 0.0006218704727769079, 'beta0': 0.8687496940092467, 'beta1': 0.90876075770314, 'batch_size': 16, 'patience': 5, 'conv_depth': 3}. Best is trial 4 with value: 0.0018819078104570508.\n"
     ]
    },
    {
     "name": "stdout",
     "output_type": "stream",
     "text": [
      "Early termination at epoch 56 with best validation metric 0.0044104899279773235\n"
     ]
    },
    {
     "name": "stderr",
     "output_type": "stream",
     "text": [
      "[I 2025-02-20 10:25:34,846] Trial 10 finished with value: 0.0044104899279773235 and parameters: {'lr': 0.0068455702672729195, 'beta0': 0.7699188271527112, 'beta1': 0.9365041484993887, 'batch_size': 32, 'patience': 15, 'conv_depth': 3}. Best is trial 4 with value: 0.0018819078104570508.\n"
     ]
    },
    {
     "name": "stdout",
     "output_type": "stream",
     "text": [
      "Early termination at epoch 817 with best validation metric 0.0024207904934883118\n"
     ]
    },
    {
     "name": "stderr",
     "output_type": "stream",
     "text": [
      "[I 2025-02-20 10:39:49,889] Trial 11 finished with value: 0.0024207904934883118 and parameters: {'lr': 1.1137414908293493e-05, 'beta0': 0.7725473264058734, 'beta1': 0.9331447224461004, 'batch_size': 48, 'patience': 13, 'conv_depth': 3}. Best is trial 4 with value: 0.0018819078104570508.\n"
     ]
    },
    {
     "name": "stdout",
     "output_type": "stream",
     "text": [
      "Early termination at epoch 237 with best validation metric 0.002343773376196623\n"
     ]
    },
    {
     "name": "stderr",
     "output_type": "stream",
     "text": [
      "[I 2025-02-20 10:44:12,165] Trial 12 finished with value: 0.002343773376196623 and parameters: {'lr': 3.862599263360698e-05, 'beta0': 0.7893676314932451, 'beta1': 0.9280745668154814, 'batch_size': 48, 'patience': 16, 'conv_depth': 4}. Best is trial 4 with value: 0.0018819078104570508.\n"
     ]
    },
    {
     "name": "stdout",
     "output_type": "stream",
     "text": [
      "Early termination at epoch 25 with best validation metric 0.005710016470402479\n"
     ]
    },
    {
     "name": "stderr",
     "output_type": "stream",
     "text": [
      "[I 2025-02-20 10:44:36,841] Trial 13 finished with value: 0.005710016470402479 and parameters: {'lr': 0.0018685504430837508, 'beta0': 0.6862401576604796, 'beta1': 0.9440170919081857, 'batch_size': 64, 'patience': 11, 'conv_depth': 3}. Best is trial 4 with value: 0.0018819078104570508.\n"
     ]
    },
    {
     "name": "stdout",
     "output_type": "stream",
     "text": [
      "Early termination at epoch 315 with best validation metric 0.0016418180894106627\n"
     ]
    },
    {
     "name": "stderr",
     "output_type": "stream",
     "text": [
      "[I 2025-02-20 10:50:16,455] Trial 14 finished with value: 0.0016418180894106627 and parameters: {'lr': 2.187826668204124e-05, 'beta0': 0.8127891577697635, 'beta1': 0.9206015151270639, 'batch_size': 32, 'patience': 13, 'conv_depth': 4}. Best is trial 14 with value: 0.0016418180894106627.\n"
     ]
    },
    {
     "name": "stdout",
     "output_type": "stream",
     "text": [
      "Early termination at epoch 151 with best validation metric 0.002093102259095758\n"
     ]
    },
    {
     "name": "stderr",
     "output_type": "stream",
     "text": [
      "[I 2025-02-20 10:52:59,511] Trial 15 finished with value: 0.002093102259095758 and parameters: {'lr': 4.641626276372274e-05, 'beta0': 0.713907592453293, 'beta1': 0.9025293999862438, 'batch_size': 32, 'patience': 16, 'conv_depth': 4}. Best is trial 14 with value: 0.0016418180894106627.\n"
     ]
    },
    {
     "name": "stdout",
     "output_type": "stream",
     "text": [
      "Early termination at epoch 220 with best validation metric 0.00244318088516593\n"
     ]
    },
    {
     "name": "stderr",
     "output_type": "stream",
     "text": [
      "[I 2025-02-20 10:56:34,528] Trial 16 finished with value: 0.00244318088516593 and parameters: {'lr': 2.9686604307577388e-05, 'beta0': 0.8148512436171704, 'beta1': 0.9183407141990244, 'batch_size': 32, 'patience': 13, 'conv_depth': 3}. Best is trial 14 with value: 0.0016418180894106627.\n"
     ]
    },
    {
     "name": "stdout",
     "output_type": "stream",
     "text": [
      "Early termination at epoch 42 with best validation metric 0.0031071974663063884\n"
     ]
    },
    {
     "name": "stderr",
     "output_type": "stream",
     "text": [
      "[I 2025-02-20 10:57:24,451] Trial 17 finished with value: 0.0031071974663063884 and parameters: {'lr': 0.001428906059184356, 'beta0': 0.7165320000000102, 'beta1': 0.9467598742050529, 'batch_size': 32, 'patience': 18, 'conv_depth': 5}. Best is trial 14 with value: 0.0016418180894106627.\n"
     ]
    },
    {
     "name": "stdout",
     "output_type": "stream",
     "text": [
      "Early termination at epoch 102 with best validation metric 0.002052794909104705\n"
     ]
    },
    {
     "name": "stderr",
     "output_type": "stream",
     "text": [
      "[I 2025-02-20 10:59:09,399] Trial 18 finished with value: 0.002052794909104705 and parameters: {'lr': 0.000171969486864035, 'beta0': 0.6794192227560304, 'beta1': 0.916669765074062, 'batch_size': 48, 'patience': 12, 'conv_depth': 3}. Best is trial 14 with value: 0.0016418180894106627.\n"
     ]
    },
    {
     "name": "stdout",
     "output_type": "stream",
     "text": [
      "Early termination at epoch 142 with best validation metric 0.001821979065425694\n"
     ]
    },
    {
     "name": "stderr",
     "output_type": "stream",
     "text": [
      "[I 2025-02-20 11:01:54,427] Trial 19 finished with value: 0.001821979065425694 and parameters: {'lr': 9.112084128938676e-05, 'beta0': 0.81545937566899, 'beta1': 0.9883476352971433, 'batch_size': 32, 'patience': 15, 'conv_depth': 4}. Best is trial 14 with value: 0.0016418180894106627.\n"
     ]
    },
    {
     "name": "stdout",
     "output_type": "stream",
     "text": [
      "Early termination at epoch 106 with best validation metric 0.0016813872304434578\n"
     ]
    },
    {
     "name": "stderr",
     "output_type": "stream",
     "text": [
      "[I 2025-02-20 11:03:59,116] Trial 20 finished with value: 0.0016813872304434578 and parameters: {'lr': 8.493806034096675e-05, 'beta0': 0.7563309571570939, 'beta1': 0.9891212688415175, 'batch_size': 16, 'patience': 18, 'conv_depth': 4}. Best is trial 14 with value: 0.0016418180894106627.\n"
     ]
    },
    {
     "name": "stdout",
     "output_type": "stream",
     "text": [
      "Early termination at epoch 156 with best validation metric 0.0019945533325274787\n"
     ]
    },
    {
     "name": "stderr",
     "output_type": "stream",
     "text": [
      "[I 2025-02-20 11:07:00,085] Trial 21 finished with value: 0.0019945533325274787 and parameters: {'lr': 7.739264615816169e-05, 'beta0': 0.7389055825602425, 'beta1': 0.994462304741443, 'batch_size': 16, 'patience': 18, 'conv_depth': 4}. Best is trial 14 with value: 0.0016418180894106627.\n"
     ]
    },
    {
     "name": "stdout",
     "output_type": "stream",
     "text": [
      "Early termination at epoch 219 with best validation metric 0.0018947538919746876\n"
     ]
    },
    {
     "name": "stderr",
     "output_type": "stream",
     "text": [
      "[I 2025-02-20 11:11:15,442] Trial 22 finished with value: 0.0018947538919746876 and parameters: {'lr': 2.722054875542357e-05, 'beta0': 0.8183471047574293, 'beta1': 0.9850643795530096, 'batch_size': 16, 'patience': 18, 'conv_depth': 4}. Best is trial 14 with value: 0.0016418180894106627.\n"
     ]
    },
    {
     "name": "stdout",
     "output_type": "stream",
     "text": [
      "Early termination at epoch 148 with best validation metric 0.00205986259970814\n"
     ]
    },
    {
     "name": "stderr",
     "output_type": "stream",
     "text": [
      "[I 2025-02-20 11:14:05,040] Trial 23 finished with value: 0.00205986259970814 and parameters: {'lr': 8.901145960036969e-05, 'beta0': 0.7483761812315373, 'beta1': 0.9833303491125899, 'batch_size': 32, 'patience': 17, 'conv_depth': 4}. Best is trial 14 with value: 0.0016418180894106627.\n"
     ]
    },
    {
     "name": "stdout",
     "output_type": "stream",
     "text": [
      "Early termination at epoch 223 with best validation metric 0.0021486508194357157\n"
     ]
    },
    {
     "name": "stderr",
     "output_type": "stream",
     "text": [
      "[I 2025-02-20 11:18:21,005] Trial 24 finished with value: 0.0021486508194357157 and parameters: {'lr': 2.2027799064725606e-05, 'beta0': 0.6640881690357239, 'beta1': 0.9821191438660452, 'batch_size': 16, 'patience': 15, 'conv_depth': 4}. Best is trial 14 with value: 0.0016418180894106627.\n"
     ]
    },
    {
     "name": "stdout",
     "output_type": "stream",
     "text": [
      "Early termination at epoch 133 with best validation metric 0.0020092722261324525\n"
     ]
    },
    {
     "name": "stderr",
     "output_type": "stream",
     "text": [
      "[I 2025-02-20 11:20:56,315] Trial 25 finished with value: 0.0020092722261324525 and parameters: {'lr': 5.849382897911002e-05, 'beta0': 0.8967837972089149, 'beta1': 0.9721910839661869, 'batch_size': 32, 'patience': 11, 'conv_depth': 4}. Best is trial 14 with value: 0.0016418180894106627.\n"
     ]
    },
    {
     "name": "stdout",
     "output_type": "stream",
     "text": [
      "Early termination at epoch 87 with best validation metric 0.0025001431349664927\n"
     ]
    },
    {
     "name": "stderr",
     "output_type": "stream",
     "text": [
      "[I 2025-02-20 11:22:49,428] Trial 26 finished with value: 0.0025001431349664927 and parameters: {'lr': 0.0003261423259451245, 'beta0': 0.644997559831217, 'beta1': 0.9889572688019962, 'batch_size': 32, 'patience': 14, 'conv_depth': 5}. Best is trial 14 with value: 0.0016418180894106627.\n"
     ]
    },
    {
     "name": "stdout",
     "output_type": "stream",
     "text": [
      "Early termination at epoch 224 with best validation metric 0.001812838832847774\n"
     ]
    },
    {
     "name": "stderr",
     "output_type": "stream",
     "text": [
      "[I 2025-02-20 11:27:14,926] Trial 27 finished with value: 0.001812838832847774 and parameters: {'lr': 2.426978785869224e-05, 'beta0': 0.8403865873612665, 'beta1': 0.9525860540187855, 'batch_size': 16, 'patience': 19, 'conv_depth': 4}. Best is trial 14 with value: 0.0016418180894106627.\n"
     ]
    },
    {
     "name": "stdout",
     "output_type": "stream",
     "text": [
      "Early termination at epoch 249 with best validation metric 0.0017619994857038062\n"
     ]
    },
    {
     "name": "stderr",
     "output_type": "stream",
     "text": [
      "[I 2025-02-20 11:32:42,727] Trial 28 finished with value: 0.0017619994857038062 and parameters: {'lr': 1.8302618092310785e-05, 'beta0': 0.7826836358518542, 'beta1': 0.9552111176574917, 'batch_size': 16, 'patience': 19, 'conv_depth': 5}. Best is trial 14 with value: 0.0016418180894106627.\n"
     ]
    },
    {
     "name": "stdout",
     "output_type": "stream",
     "text": [
      "Early termination at epoch 226 with best validation metric 0.0018097328720614314\n"
     ]
    },
    {
     "name": "stderr",
     "output_type": "stream",
     "text": [
      "[I 2025-02-20 11:37:37,812] Trial 29 finished with value: 0.0018097328720614314 and parameters: {'lr': 1.853057400187455e-05, 'beta0': 0.7485161614734076, 'beta1': 0.9777836751007786, 'batch_size': 16, 'patience': 19, 'conv_depth': 5}. Best is trial 14 with value: 0.0016418180894106627.\n"
     ]
    },
    {
     "name": "stdout",
     "output_type": "stream",
     "text": [
      "Early termination at epoch 102 with best validation metric 0.002282402478158474\n"
     ]
    },
    {
     "name": "stderr",
     "output_type": "stream",
     "text": [
      "[I 2025-02-20 11:39:50,472] Trial 30 finished with value: 0.002282402478158474 and parameters: {'lr': 4.2770723672236934e-05, 'beta0': 0.7840875024689595, 'beta1': 0.9563352173066533, 'batch_size': 16, 'patience': 17, 'conv_depth': 5}. Best is trial 14 with value: 0.0016418180894106627.\n"
     ]
    },
    {
     "name": "stdout",
     "output_type": "stream",
     "text": [
      "Early termination at epoch 232 with best validation metric 0.0022622795465091863\n"
     ]
    },
    {
     "name": "stderr",
     "output_type": "stream",
     "text": [
      "[I 2025-02-20 11:44:51,289] Trial 31 finished with value: 0.0022622795465091863 and parameters: {'lr': 1.6796081256646373e-05, 'beta0': 0.7419962849763104, 'beta1': 0.9761320250229145, 'batch_size': 16, 'patience': 19, 'conv_depth': 5}. Best is trial 14 with value: 0.0016418180894106627.\n"
     ]
    },
    {
     "name": "stdout",
     "output_type": "stream",
     "text": [
      "Early termination at epoch 216 with best validation metric 0.0021519711784397564\n"
     ]
    },
    {
     "name": "stderr",
     "output_type": "stream",
     "text": [
      "[I 2025-02-20 11:49:33,440] Trial 32 finished with value: 0.0021519711784397564 and parameters: {'lr': 1.7356744393685464e-05, 'beta0': 0.7558757383334392, 'beta1': 0.9664702380047888, 'batch_size': 16, 'patience': 20, 'conv_depth': 5}. Best is trial 14 with value: 0.0016418180894106627.\n"
     ]
    },
    {
     "name": "stdout",
     "output_type": "stream",
     "text": [
      "Early termination at epoch 170 with best validation metric 0.0016909843543544412\n"
     ]
    },
    {
     "name": "stderr",
     "output_type": "stream",
     "text": [
      "[I 2025-02-20 11:53:15,845] Trial 33 finished with value: 0.0016909843543544412 and parameters: {'lr': 0.00012323261300877262, 'beta0': 0.7112152957974449, 'beta1': 0.9757268459224363, 'batch_size': 16, 'patience': 19, 'conv_depth': 5}. Best is trial 14 with value: 0.0016418180894106627.\n"
     ]
    },
    {
     "name": "stdout",
     "output_type": "stream",
     "text": [
      "Early termination at epoch 88 with best validation metric 0.0018556059803813696\n"
     ]
    },
    {
     "name": "stderr",
     "output_type": "stream",
     "text": [
      "[I 2025-02-20 11:55:11,133] Trial 34 finished with value: 0.0018556059803813696 and parameters: {'lr': 0.00011679377374004808, 'beta0': 0.7128851231562829, 'beta1': 0.9651129492023751, 'batch_size': 16, 'patience': 17, 'conv_depth': 5}. Best is trial 14 with value: 0.0016418180894106627.\n"
     ]
    },
    {
     "name": "stdout",
     "output_type": "stream",
     "text": [
      "Early termination at epoch 69 with best validation metric 0.0022818949849655232\n"
     ]
    },
    {
     "name": "stderr",
     "output_type": "stream",
     "text": [
      "[I 2025-02-20 11:56:42,772] Trial 35 finished with value: 0.0022818949849655232 and parameters: {'lr': 0.00014261809207046308, 'beta0': 0.8390997896749632, 'beta1': 0.9402514070228026, 'batch_size': 16, 'patience': 8, 'conv_depth': 5}. Best is trial 14 with value: 0.0016418180894106627.\n"
     ]
    },
    {
     "name": "stdout",
     "output_type": "stream",
     "text": [
      "Early termination at epoch 171 with best validation metric 0.0018819176669542987\n"
     ]
    },
    {
     "name": "stderr",
     "output_type": "stream",
     "text": [
      "[I 2025-02-20 12:00:27,755] Trial 36 finished with value: 0.0018819176669542987 and parameters: {'lr': 5.381442180251019e-05, 'beta0': 0.793107694238255, 'beta1': 0.9572731406185142, 'batch_size': 16, 'patience': 19, 'conv_depth': 5}. Best is trial 14 with value: 0.0016418180894106627.\n",
      "[W 2025-02-20 12:01:36,183] Trial 37 failed with parameters: {'lr': 1.0491515051214714e-05, 'beta0': 0.6239931546649639, 'beta1': 0.9727399654147662, 'batch_size': 16, 'patience': 16, 'conv_depth': 4} because of the following error: Exception(\"'/home/weishanli/Waylab/pediatric_cancer_atlas_analysis/1.model_optimization/1.2.optimize_fnet_by_confluence/optuna_mlflow/mlruns' does not exist.\").\n",
      "Traceback (most recent call last):\n",
      "  File \"/home/weishanli/anaconda3/envs/speckle_analysis/lib/python3.11/site-packages/optuna/study/_optimize.py\", line 197, in _run_trial\n",
      "    value_or_values = func(trial)\n",
      "                      ^^^^^^^^^^^\n",
      "  File \"/tmp/ipykernel_3099078/2534935189.py\", line 76, in <lambda>\n",
      "    study.optimize(lambda trial: objective(trial, cds, channel_name, confluence_group_name), n_trials=50)\n",
      "                                 ^^^^^^^^^^^^^^^^^^^^^^^^^^^^^^^^^^^^^^^^^^^^^^^^^^^^^^^^^^\n",
      "  File \"/tmp/ipykernel_3099078/681897524.py\", line 68, in objective\n",
      "    trainer.train()\n",
      "  File \"/home/weishanli/Waylab/virtual_stain_flow/trainers/AbstractTrainer.py\", line 209, in train\n",
      "    callback.on_epoch_end()\n",
      "  File \"/home/weishanli/Waylab/virtual_stain_flow/callbacks/MlflowLogger.py\", line 77, in on_epoch_end\n",
      "    value = None\n",
      "  File \"/home/weishanli/anaconda3/envs/speckle_analysis/lib/python3.11/site-packages/mlflow/tracking/fluent.py\", line 923, in log_metric\n",
      "    return MlflowClient().log_metric(\n",
      "           ^^^^^^^^^^^^^^^^^^^^^^^^^^\n",
      "  File \"/home/weishanli/anaconda3/envs/speckle_analysis/lib/python3.11/site-packages/mlflow/tracking/client.py\", line 1526, in log_metric\n",
      "    return self._tracking_client.log_metric(\n",
      "           ^^^^^^^^^^^^^^^^^^^^^^^^^^^^^^^^^\n",
      "  File \"/home/weishanli/anaconda3/envs/speckle_analysis/lib/python3.11/site-packages/mlflow/tracking/_tracking_service/client.py\", line 583, in log_metric\n",
      "    self.store.log_metric(run_id, metric)\n",
      "  File \"/home/weishanli/anaconda3/envs/speckle_analysis/lib/python3.11/site-packages/mlflow/store/tracking/file_store.py\", line 978, in log_metric\n",
      "    run_info = self._get_run_info(run_id)\n",
      "               ^^^^^^^^^^^^^^^^^^^^^^^^^^\n",
      "  File \"/home/weishanli/anaconda3/envs/speckle_analysis/lib/python3.11/site-packages/mlflow/store/tracking/file_store.py\", line 717, in _get_run_info\n",
      "    exp_id, run_dir = self._find_run_root(run_uuid)\n",
      "                      ^^^^^^^^^^^^^^^^^^^^^^^^^^^^^\n",
      "  File \"/home/weishanli/anaconda3/envs/speckle_analysis/lib/python3.11/site-packages/mlflow/store/tracking/file_store.py\", line 615, in _find_run_root\n",
      "    self._check_root_dir()\n",
      "  File \"/home/weishanli/anaconda3/envs/speckle_analysis/lib/python3.11/site-packages/mlflow/store/tracking/file_store.py\", line 211, in _check_root_dir\n",
      "    raise Exception(f\"'{self.root_directory}' does not exist.\")\n",
      "Exception: '/home/weishanli/Waylab/pediatric_cancer_atlas_analysis/1.model_optimization/1.2.optimize_fnet_by_confluence/optuna_mlflow/mlruns' does not exist.\n",
      "[W 2025-02-20 12:01:36,185] Trial 37 failed with value None.\n"
     ]
    },
    {
     "ename": "Exception",
     "evalue": "'/home/weishanli/Waylab/pediatric_cancer_atlas_analysis/1.model_optimization/1.2.optimize_fnet_by_confluence/optuna_mlflow/mlruns' does not exist.",
     "output_type": "error",
     "traceback": [
      "\u001b[0;31m---------------------------------------------------------------------------\u001b[0m",
      "\u001b[0;31mException\u001b[0m                                 Traceback (most recent call last)",
      "Cell \u001b[0;32mIn[6], line 76\u001b[0m\n\u001b[1;32m     69\u001b[0m     study \u001b[38;5;241m=\u001b[39m optuna\u001b[38;5;241m.\u001b[39mcreate_study(\n\u001b[1;32m     70\u001b[0m         direction\u001b[38;5;241m=\u001b[39m\u001b[38;5;124m\"\u001b[39m\u001b[38;5;124mminimize\u001b[39m\u001b[38;5;124m\"\u001b[39m,\n\u001b[1;32m     71\u001b[0m         study_name\u001b[38;5;241m=\u001b[39m\u001b[38;5;124mf\u001b[39m\u001b[38;5;124m\"\u001b[39m\u001b[38;5;124mFNet_optimize_\u001b[39m\u001b[38;5;132;01m{\u001b[39;00mchannel_name\u001b[38;5;132;01m}\u001b[39;00m\u001b[38;5;124m_\u001b[39m\u001b[38;5;132;01m{\u001b[39;00mconfluence_group_name\u001b[38;5;132;01m}\u001b[39;00m\u001b[38;5;124m\"\u001b[39m,\n\u001b[1;32m     72\u001b[0m         sampler\u001b[38;5;241m=\u001b[39moptuna\u001b[38;5;241m.\u001b[39msamplers\u001b[38;5;241m.\u001b[39mTPESampler(seed\u001b[38;5;241m=\u001b[39m\u001b[38;5;241m42\u001b[39m)\n\u001b[1;32m     73\u001b[0m     )\n\u001b[1;32m     75\u001b[0m \u001b[38;5;66;03m# Optimize the objective function for the current channel\u001b[39;00m\n\u001b[0;32m---> 76\u001b[0m study\u001b[38;5;241m.\u001b[39moptimize(\u001b[38;5;28;01mlambda\u001b[39;00m trial: objective(trial, cds, channel_name, confluence_group_name), n_trials\u001b[38;5;241m=\u001b[39m\u001b[38;5;241m50\u001b[39m)\n\u001b[1;32m     78\u001b[0m \u001b[38;5;66;03m# Save the updated study for the current channel\u001b[39;00m\n\u001b[1;32m     79\u001b[0m joblib\u001b[38;5;241m.\u001b[39mdump(study, study_path)\n",
      "File \u001b[0;32m~/anaconda3/envs/speckle_analysis/lib/python3.11/site-packages/optuna/study/study.py:475\u001b[0m, in \u001b[0;36mStudy.optimize\u001b[0;34m(self, func, n_trials, timeout, n_jobs, catch, callbacks, gc_after_trial, show_progress_bar)\u001b[0m\n\u001b[1;32m    373\u001b[0m \u001b[38;5;28;01mdef\u001b[39;00m \u001b[38;5;21moptimize\u001b[39m(\n\u001b[1;32m    374\u001b[0m     \u001b[38;5;28mself\u001b[39m,\n\u001b[1;32m    375\u001b[0m     func: ObjectiveFuncType,\n\u001b[0;32m   (...)\u001b[0m\n\u001b[1;32m    382\u001b[0m     show_progress_bar: \u001b[38;5;28mbool\u001b[39m \u001b[38;5;241m=\u001b[39m \u001b[38;5;28;01mFalse\u001b[39;00m,\n\u001b[1;32m    383\u001b[0m ) \u001b[38;5;241m-\u001b[39m\u001b[38;5;241m>\u001b[39m \u001b[38;5;28;01mNone\u001b[39;00m:\n\u001b[1;32m    384\u001b[0m \u001b[38;5;250m    \u001b[39m\u001b[38;5;124;03m\"\"\"Optimize an objective function.\u001b[39;00m\n\u001b[1;32m    385\u001b[0m \n\u001b[1;32m    386\u001b[0m \u001b[38;5;124;03m    Optimization is done by choosing a suitable set of hyperparameter values from a given\u001b[39;00m\n\u001b[0;32m   (...)\u001b[0m\n\u001b[1;32m    473\u001b[0m \u001b[38;5;124;03m            If nested invocation of this method occurs.\u001b[39;00m\n\u001b[1;32m    474\u001b[0m \u001b[38;5;124;03m    \"\"\"\u001b[39;00m\n\u001b[0;32m--> 475\u001b[0m     _optimize(\n\u001b[1;32m    476\u001b[0m         study\u001b[38;5;241m=\u001b[39m\u001b[38;5;28mself\u001b[39m,\n\u001b[1;32m    477\u001b[0m         func\u001b[38;5;241m=\u001b[39mfunc,\n\u001b[1;32m    478\u001b[0m         n_trials\u001b[38;5;241m=\u001b[39mn_trials,\n\u001b[1;32m    479\u001b[0m         timeout\u001b[38;5;241m=\u001b[39mtimeout,\n\u001b[1;32m    480\u001b[0m         n_jobs\u001b[38;5;241m=\u001b[39mn_jobs,\n\u001b[1;32m    481\u001b[0m         catch\u001b[38;5;241m=\u001b[39m\u001b[38;5;28mtuple\u001b[39m(catch) \u001b[38;5;28;01mif\u001b[39;00m \u001b[38;5;28misinstance\u001b[39m(catch, Iterable) \u001b[38;5;28;01melse\u001b[39;00m (catch,),\n\u001b[1;32m    482\u001b[0m         callbacks\u001b[38;5;241m=\u001b[39mcallbacks,\n\u001b[1;32m    483\u001b[0m         gc_after_trial\u001b[38;5;241m=\u001b[39mgc_after_trial,\n\u001b[1;32m    484\u001b[0m         show_progress_bar\u001b[38;5;241m=\u001b[39mshow_progress_bar,\n\u001b[1;32m    485\u001b[0m     )\n",
      "File \u001b[0;32m~/anaconda3/envs/speckle_analysis/lib/python3.11/site-packages/optuna/study/_optimize.py:63\u001b[0m, in \u001b[0;36m_optimize\u001b[0;34m(study, func, n_trials, timeout, n_jobs, catch, callbacks, gc_after_trial, show_progress_bar)\u001b[0m\n\u001b[1;32m     61\u001b[0m \u001b[38;5;28;01mtry\u001b[39;00m:\n\u001b[1;32m     62\u001b[0m     \u001b[38;5;28;01mif\u001b[39;00m n_jobs \u001b[38;5;241m==\u001b[39m \u001b[38;5;241m1\u001b[39m:\n\u001b[0;32m---> 63\u001b[0m         _optimize_sequential(\n\u001b[1;32m     64\u001b[0m             study,\n\u001b[1;32m     65\u001b[0m             func,\n\u001b[1;32m     66\u001b[0m             n_trials,\n\u001b[1;32m     67\u001b[0m             timeout,\n\u001b[1;32m     68\u001b[0m             catch,\n\u001b[1;32m     69\u001b[0m             callbacks,\n\u001b[1;32m     70\u001b[0m             gc_after_trial,\n\u001b[1;32m     71\u001b[0m             reseed_sampler_rng\u001b[38;5;241m=\u001b[39m\u001b[38;5;28;01mFalse\u001b[39;00m,\n\u001b[1;32m     72\u001b[0m             time_start\u001b[38;5;241m=\u001b[39m\u001b[38;5;28;01mNone\u001b[39;00m,\n\u001b[1;32m     73\u001b[0m             progress_bar\u001b[38;5;241m=\u001b[39mprogress_bar,\n\u001b[1;32m     74\u001b[0m         )\n\u001b[1;32m     75\u001b[0m     \u001b[38;5;28;01melse\u001b[39;00m:\n\u001b[1;32m     76\u001b[0m         \u001b[38;5;28;01mif\u001b[39;00m n_jobs \u001b[38;5;241m==\u001b[39m \u001b[38;5;241m-\u001b[39m\u001b[38;5;241m1\u001b[39m:\n",
      "File \u001b[0;32m~/anaconda3/envs/speckle_analysis/lib/python3.11/site-packages/optuna/study/_optimize.py:160\u001b[0m, in \u001b[0;36m_optimize_sequential\u001b[0;34m(study, func, n_trials, timeout, catch, callbacks, gc_after_trial, reseed_sampler_rng, time_start, progress_bar)\u001b[0m\n\u001b[1;32m    157\u001b[0m         \u001b[38;5;28;01mbreak\u001b[39;00m\n\u001b[1;32m    159\u001b[0m \u001b[38;5;28;01mtry\u001b[39;00m:\n\u001b[0;32m--> 160\u001b[0m     frozen_trial \u001b[38;5;241m=\u001b[39m _run_trial(study, func, catch)\n\u001b[1;32m    161\u001b[0m \u001b[38;5;28;01mfinally\u001b[39;00m:\n\u001b[1;32m    162\u001b[0m     \u001b[38;5;66;03m# The following line mitigates memory problems that can be occurred in some\u001b[39;00m\n\u001b[1;32m    163\u001b[0m     \u001b[38;5;66;03m# environments (e.g., services that use computing containers such as GitHub Actions).\u001b[39;00m\n\u001b[1;32m    164\u001b[0m     \u001b[38;5;66;03m# Please refer to the following PR for further details:\u001b[39;00m\n\u001b[1;32m    165\u001b[0m     \u001b[38;5;66;03m# https://github.com/optuna/optuna/pull/325.\u001b[39;00m\n\u001b[1;32m    166\u001b[0m     \u001b[38;5;28;01mif\u001b[39;00m gc_after_trial:\n",
      "File \u001b[0;32m~/anaconda3/envs/speckle_analysis/lib/python3.11/site-packages/optuna/study/_optimize.py:248\u001b[0m, in \u001b[0;36m_run_trial\u001b[0;34m(study, func, catch)\u001b[0m\n\u001b[1;32m    241\u001b[0m         \u001b[38;5;28;01massert\u001b[39;00m \u001b[38;5;28;01mFalse\u001b[39;00m, \u001b[38;5;124m\"\u001b[39m\u001b[38;5;124mShould not reach.\u001b[39m\u001b[38;5;124m\"\u001b[39m\n\u001b[1;32m    243\u001b[0m \u001b[38;5;28;01mif\u001b[39;00m (\n\u001b[1;32m    244\u001b[0m     frozen_trial\u001b[38;5;241m.\u001b[39mstate \u001b[38;5;241m==\u001b[39m TrialState\u001b[38;5;241m.\u001b[39mFAIL\n\u001b[1;32m    245\u001b[0m     \u001b[38;5;129;01mand\u001b[39;00m func_err \u001b[38;5;129;01mis\u001b[39;00m \u001b[38;5;129;01mnot\u001b[39;00m \u001b[38;5;28;01mNone\u001b[39;00m\n\u001b[1;32m    246\u001b[0m     \u001b[38;5;129;01mand\u001b[39;00m \u001b[38;5;129;01mnot\u001b[39;00m \u001b[38;5;28misinstance\u001b[39m(func_err, catch)\n\u001b[1;32m    247\u001b[0m ):\n\u001b[0;32m--> 248\u001b[0m     \u001b[38;5;28;01mraise\u001b[39;00m func_err\n\u001b[1;32m    249\u001b[0m \u001b[38;5;28;01mreturn\u001b[39;00m frozen_trial\n",
      "File \u001b[0;32m~/anaconda3/envs/speckle_analysis/lib/python3.11/site-packages/optuna/study/_optimize.py:197\u001b[0m, in \u001b[0;36m_run_trial\u001b[0;34m(study, func, catch)\u001b[0m\n\u001b[1;32m    195\u001b[0m \u001b[38;5;28;01mwith\u001b[39;00m get_heartbeat_thread(trial\u001b[38;5;241m.\u001b[39m_trial_id, study\u001b[38;5;241m.\u001b[39m_storage):\n\u001b[1;32m    196\u001b[0m     \u001b[38;5;28;01mtry\u001b[39;00m:\n\u001b[0;32m--> 197\u001b[0m         value_or_values \u001b[38;5;241m=\u001b[39m func(trial)\n\u001b[1;32m    198\u001b[0m     \u001b[38;5;28;01mexcept\u001b[39;00m exceptions\u001b[38;5;241m.\u001b[39mTrialPruned \u001b[38;5;28;01mas\u001b[39;00m e:\n\u001b[1;32m    199\u001b[0m         \u001b[38;5;66;03m# TODO(mamu): Handle multi-objective cases.\u001b[39;00m\n\u001b[1;32m    200\u001b[0m         state \u001b[38;5;241m=\u001b[39m TrialState\u001b[38;5;241m.\u001b[39mPRUNED\n",
      "Cell \u001b[0;32mIn[6], line 76\u001b[0m, in \u001b[0;36m<lambda>\u001b[0;34m(trial)\u001b[0m\n\u001b[1;32m     69\u001b[0m     study \u001b[38;5;241m=\u001b[39m optuna\u001b[38;5;241m.\u001b[39mcreate_study(\n\u001b[1;32m     70\u001b[0m         direction\u001b[38;5;241m=\u001b[39m\u001b[38;5;124m\"\u001b[39m\u001b[38;5;124mminimize\u001b[39m\u001b[38;5;124m\"\u001b[39m,\n\u001b[1;32m     71\u001b[0m         study_name\u001b[38;5;241m=\u001b[39m\u001b[38;5;124mf\u001b[39m\u001b[38;5;124m\"\u001b[39m\u001b[38;5;124mFNet_optimize_\u001b[39m\u001b[38;5;132;01m{\u001b[39;00mchannel_name\u001b[38;5;132;01m}\u001b[39;00m\u001b[38;5;124m_\u001b[39m\u001b[38;5;132;01m{\u001b[39;00mconfluence_group_name\u001b[38;5;132;01m}\u001b[39;00m\u001b[38;5;124m\"\u001b[39m,\n\u001b[1;32m     72\u001b[0m         sampler\u001b[38;5;241m=\u001b[39moptuna\u001b[38;5;241m.\u001b[39msamplers\u001b[38;5;241m.\u001b[39mTPESampler(seed\u001b[38;5;241m=\u001b[39m\u001b[38;5;241m42\u001b[39m)\n\u001b[1;32m     73\u001b[0m     )\n\u001b[1;32m     75\u001b[0m \u001b[38;5;66;03m# Optimize the objective function for the current channel\u001b[39;00m\n\u001b[0;32m---> 76\u001b[0m study\u001b[38;5;241m.\u001b[39moptimize(\u001b[38;5;28;01mlambda\u001b[39;00m trial: objective(trial, cds, channel_name, confluence_group_name), n_trials\u001b[38;5;241m=\u001b[39m\u001b[38;5;241m50\u001b[39m)\n\u001b[1;32m     78\u001b[0m \u001b[38;5;66;03m# Save the updated study for the current channel\u001b[39;00m\n\u001b[1;32m     79\u001b[0m joblib\u001b[38;5;241m.\u001b[39mdump(study, study_path)\n",
      "Cell \u001b[0;32mIn[5], line 68\u001b[0m, in \u001b[0;36mobjective\u001b[0;34m(trial, dataset, channel_name, confluence_group_name)\u001b[0m\n\u001b[1;32m     53\u001b[0m trainer \u001b[38;5;241m=\u001b[39m Trainer(\n\u001b[1;32m     54\u001b[0m     model \u001b[38;5;241m=\u001b[39m model,\n\u001b[1;32m     55\u001b[0m     optimizer \u001b[38;5;241m=\u001b[39m optimizer,\n\u001b[0;32m   (...)\u001b[0m\n\u001b[1;32m     64\u001b[0m     early_termination_metric\u001b[38;5;241m=\u001b[39m\u001b[38;5;124m'\u001b[39m\u001b[38;5;124mL1Loss\u001b[39m\u001b[38;5;124m'\u001b[39m\n\u001b[1;32m     65\u001b[0m )\n\u001b[1;32m     67\u001b[0m \u001b[38;5;66;03m# Train the model and log validation loss\u001b[39;00m\n\u001b[0;32m---> 68\u001b[0m trainer\u001b[38;5;241m.\u001b[39mtrain()\n\u001b[1;32m     69\u001b[0m val_loss \u001b[38;5;241m=\u001b[39m trainer\u001b[38;5;241m.\u001b[39mbest_loss\n\u001b[1;32m     71\u001b[0m \u001b[38;5;28;01mdel\u001b[39;00m model\n",
      "File \u001b[0;32m~/Waylab/virtual_stain_flow/trainers/AbstractTrainer.py:209\u001b[0m, in \u001b[0;36mAbstractTrainer.train\u001b[0;34m(self)\u001b[0m\n\u001b[1;32m    207\u001b[0m \u001b[38;5;66;03m# Invoke callback on epoch_end\u001b[39;00m\n\u001b[1;32m    208\u001b[0m \u001b[38;5;28;01mfor\u001b[39;00m callback \u001b[38;5;129;01min\u001b[39;00m \u001b[38;5;28mself\u001b[39m\u001b[38;5;241m.\u001b[39mcallbacks:\n\u001b[0;32m--> 209\u001b[0m     callback\u001b[38;5;241m.\u001b[39mon_epoch_end()\n\u001b[1;32m    211\u001b[0m \u001b[38;5;66;03m# Update early stopping\u001b[39;00m\n\u001b[1;32m    212\u001b[0m \u001b[38;5;28;01mif\u001b[39;00m \u001b[38;5;28mself\u001b[39m\u001b[38;5;241m.\u001b[39m_early_termination_metric \u001b[38;5;129;01mis\u001b[39;00m \u001b[38;5;28;01mNone\u001b[39;00m:\n\u001b[1;32m    213\u001b[0m     \u001b[38;5;66;03m# use the first loss function value as early stopping metric\u001b[39;00m\n",
      "File \u001b[0;32m~/Waylab/virtual_stain_flow/callbacks/MlflowLogger.py:77\u001b[0m, in \u001b[0;36mon_epoch_end\u001b[0;34m(self)\u001b[0m\n\u001b[1;32m     75\u001b[0m     value \u001b[38;5;241m=\u001b[39m values[\u001b[38;5;241m-\u001b[39m\u001b[38;5;241m1\u001b[39m]\n\u001b[1;32m     76\u001b[0m \u001b[38;5;28;01melse\u001b[39;00m:\n\u001b[0;32m---> 77\u001b[0m     value \u001b[38;5;241m=\u001b[39m \u001b[38;5;28;01mNone\u001b[39;00m\n\u001b[1;32m     78\u001b[0m mlflow\u001b[38;5;241m.\u001b[39mlog_metric(key, value, step\u001b[38;5;241m=\u001b[39m\u001b[38;5;28mself\u001b[39m\u001b[38;5;241m.\u001b[39mtrainer\u001b[38;5;241m.\u001b[39mepoch)\n",
      "File \u001b[0;32m~/anaconda3/envs/speckle_analysis/lib/python3.11/site-packages/mlflow/tracking/fluent.py:923\u001b[0m, in \u001b[0;36mlog_metric\u001b[0;34m(key, value, step, synchronous, timestamp, run_id)\u001b[0m\n\u001b[1;32m    921\u001b[0m run_id \u001b[38;5;241m=\u001b[39m run_id \u001b[38;5;129;01mor\u001b[39;00m _get_or_start_run()\u001b[38;5;241m.\u001b[39minfo\u001b[38;5;241m.\u001b[39mrun_id\n\u001b[1;32m    922\u001b[0m synchronous \u001b[38;5;241m=\u001b[39m synchronous \u001b[38;5;28;01mif\u001b[39;00m synchronous \u001b[38;5;129;01mis\u001b[39;00m \u001b[38;5;129;01mnot\u001b[39;00m \u001b[38;5;28;01mNone\u001b[39;00m \u001b[38;5;28;01melse\u001b[39;00m \u001b[38;5;129;01mnot\u001b[39;00m MLFLOW_ENABLE_ASYNC_LOGGING\u001b[38;5;241m.\u001b[39mget()\n\u001b[0;32m--> 923\u001b[0m \u001b[38;5;28;01mreturn\u001b[39;00m MlflowClient()\u001b[38;5;241m.\u001b[39mlog_metric(\n\u001b[1;32m    924\u001b[0m     run_id,\n\u001b[1;32m    925\u001b[0m     key,\n\u001b[1;32m    926\u001b[0m     value,\n\u001b[1;32m    927\u001b[0m     timestamp \u001b[38;5;129;01mor\u001b[39;00m get_current_time_millis(),\n\u001b[1;32m    928\u001b[0m     step \u001b[38;5;129;01mor\u001b[39;00m \u001b[38;5;241m0\u001b[39m,\n\u001b[1;32m    929\u001b[0m     synchronous\u001b[38;5;241m=\u001b[39msynchronous,\n\u001b[1;32m    930\u001b[0m )\n",
      "File \u001b[0;32m~/anaconda3/envs/speckle_analysis/lib/python3.11/site-packages/mlflow/tracking/client.py:1526\u001b[0m, in \u001b[0;36mMlflowClient.log_metric\u001b[0;34m(self, run_id, key, value, timestamp, step, synchronous)\u001b[0m\n\u001b[1;32m   1453\u001b[0m \u001b[38;5;250m\u001b[39m\u001b[38;5;124;03m\"\"\"\u001b[39;00m\n\u001b[1;32m   1454\u001b[0m \u001b[38;5;124;03mLog a metric against the run ID.\u001b[39;00m\n\u001b[1;32m   1455\u001b[0m \n\u001b[0;32m   (...)\u001b[0m\n\u001b[1;32m   1521\u001b[0m \u001b[38;5;124;03m    status: FINISHED\u001b[39;00m\n\u001b[1;32m   1522\u001b[0m \u001b[38;5;124;03m\"\"\"\u001b[39;00m\n\u001b[1;32m   1523\u001b[0m synchronous \u001b[38;5;241m=\u001b[39m (\n\u001b[1;32m   1524\u001b[0m     synchronous \u001b[38;5;28;01mif\u001b[39;00m synchronous \u001b[38;5;129;01mis\u001b[39;00m \u001b[38;5;129;01mnot\u001b[39;00m \u001b[38;5;28;01mNone\u001b[39;00m \u001b[38;5;28;01melse\u001b[39;00m \u001b[38;5;129;01mnot\u001b[39;00m MLFLOW_ENABLE_ASYNC_LOGGING\u001b[38;5;241m.\u001b[39mget()\n\u001b[1;32m   1525\u001b[0m )\n\u001b[0;32m-> 1526\u001b[0m \u001b[38;5;28;01mreturn\u001b[39;00m \u001b[38;5;28mself\u001b[39m\u001b[38;5;241m.\u001b[39m_tracking_client\u001b[38;5;241m.\u001b[39mlog_metric(\n\u001b[1;32m   1527\u001b[0m     run_id, key, value, timestamp, step, synchronous\u001b[38;5;241m=\u001b[39msynchronous\n\u001b[1;32m   1528\u001b[0m )\n",
      "File \u001b[0;32m~/anaconda3/envs/speckle_analysis/lib/python3.11/site-packages/mlflow/tracking/_tracking_service/client.py:583\u001b[0m, in \u001b[0;36mTrackingServiceClient.log_metric\u001b[0;34m(self, run_id, key, value, timestamp, step, synchronous)\u001b[0m\n\u001b[1;32m    581\u001b[0m metric \u001b[38;5;241m=\u001b[39m Metric(key, metric_value, timestamp, step)\n\u001b[1;32m    582\u001b[0m \u001b[38;5;28;01mif\u001b[39;00m synchronous:\n\u001b[0;32m--> 583\u001b[0m     \u001b[38;5;28mself\u001b[39m\u001b[38;5;241m.\u001b[39mstore\u001b[38;5;241m.\u001b[39mlog_metric(run_id, metric)\n\u001b[1;32m    584\u001b[0m \u001b[38;5;28;01melse\u001b[39;00m:\n\u001b[1;32m    585\u001b[0m     \u001b[38;5;28;01mreturn\u001b[39;00m \u001b[38;5;28mself\u001b[39m\u001b[38;5;241m.\u001b[39mstore\u001b[38;5;241m.\u001b[39mlog_metric_async(run_id, metric)\n",
      "File \u001b[0;32m~/anaconda3/envs/speckle_analysis/lib/python3.11/site-packages/mlflow/store/tracking/file_store.py:978\u001b[0m, in \u001b[0;36mFileStore.log_metric\u001b[0;34m(self, run_id, metric)\u001b[0m\n\u001b[1;32m    976\u001b[0m _validate_run_id(run_id)\n\u001b[1;32m    977\u001b[0m _validate_metric(metric\u001b[38;5;241m.\u001b[39mkey, metric\u001b[38;5;241m.\u001b[39mvalue, metric\u001b[38;5;241m.\u001b[39mtimestamp, metric\u001b[38;5;241m.\u001b[39mstep)\n\u001b[0;32m--> 978\u001b[0m run_info \u001b[38;5;241m=\u001b[39m \u001b[38;5;28mself\u001b[39m\u001b[38;5;241m.\u001b[39m_get_run_info(run_id)\n\u001b[1;32m    979\u001b[0m check_run_is_active(run_info)\n\u001b[1;32m    980\u001b[0m \u001b[38;5;28mself\u001b[39m\u001b[38;5;241m.\u001b[39m_log_run_metric(run_info, metric)\n",
      "File \u001b[0;32m~/anaconda3/envs/speckle_analysis/lib/python3.11/site-packages/mlflow/store/tracking/file_store.py:717\u001b[0m, in \u001b[0;36mFileStore._get_run_info\u001b[0;34m(self, run_uuid)\u001b[0m\n\u001b[1;32m    713\u001b[0m \u001b[38;5;28;01mdef\u001b[39;00m \u001b[38;5;21m_get_run_info\u001b[39m(\u001b[38;5;28mself\u001b[39m, run_uuid):\n\u001b[1;32m    714\u001b[0m \u001b[38;5;250m    \u001b[39m\u001b[38;5;124;03m\"\"\"\u001b[39;00m\n\u001b[1;32m    715\u001b[0m \u001b[38;5;124;03m    Note: Will get both active and deleted runs.\u001b[39;00m\n\u001b[1;32m    716\u001b[0m \u001b[38;5;124;03m    \"\"\"\u001b[39;00m\n\u001b[0;32m--> 717\u001b[0m     exp_id, run_dir \u001b[38;5;241m=\u001b[39m \u001b[38;5;28mself\u001b[39m\u001b[38;5;241m.\u001b[39m_find_run_root(run_uuid)\n\u001b[1;32m    718\u001b[0m     \u001b[38;5;28;01mif\u001b[39;00m run_dir \u001b[38;5;129;01mis\u001b[39;00m \u001b[38;5;28;01mNone\u001b[39;00m:\n\u001b[1;32m    719\u001b[0m         \u001b[38;5;28;01mraise\u001b[39;00m MlflowException(\n\u001b[1;32m    720\u001b[0m             \u001b[38;5;124mf\u001b[39m\u001b[38;5;124m\"\u001b[39m\u001b[38;5;124mRun \u001b[39m\u001b[38;5;124m'\u001b[39m\u001b[38;5;132;01m{\u001b[39;00mrun_uuid\u001b[38;5;132;01m}\u001b[39;00m\u001b[38;5;124m'\u001b[39m\u001b[38;5;124m not found\u001b[39m\u001b[38;5;124m\"\u001b[39m, databricks_pb2\u001b[38;5;241m.\u001b[39mRESOURCE_DOES_NOT_EXIST\n\u001b[1;32m    721\u001b[0m         )\n",
      "File \u001b[0;32m~/anaconda3/envs/speckle_analysis/lib/python3.11/site-packages/mlflow/store/tracking/file_store.py:615\u001b[0m, in \u001b[0;36mFileStore._find_run_root\u001b[0;34m(self, run_uuid)\u001b[0m\n\u001b[1;32m    613\u001b[0m \u001b[38;5;28;01mdef\u001b[39;00m \u001b[38;5;21m_find_run_root\u001b[39m(\u001b[38;5;28mself\u001b[39m, run_uuid):\n\u001b[1;32m    614\u001b[0m     _validate_run_id(run_uuid)\n\u001b[0;32m--> 615\u001b[0m     \u001b[38;5;28mself\u001b[39m\u001b[38;5;241m.\u001b[39m_check_root_dir()\n\u001b[1;32m    616\u001b[0m     all_experiments \u001b[38;5;241m=\u001b[39m \u001b[38;5;28mself\u001b[39m\u001b[38;5;241m.\u001b[39m_get_active_experiments(\u001b[38;5;28;01mTrue\u001b[39;00m) \u001b[38;5;241m+\u001b[39m \u001b[38;5;28mself\u001b[39m\u001b[38;5;241m.\u001b[39m_get_deleted_experiments(\u001b[38;5;28;01mTrue\u001b[39;00m)\n\u001b[1;32m    617\u001b[0m     \u001b[38;5;28;01mfor\u001b[39;00m experiment_dir \u001b[38;5;129;01min\u001b[39;00m all_experiments:\n",
      "File \u001b[0;32m~/anaconda3/envs/speckle_analysis/lib/python3.11/site-packages/mlflow/store/tracking/file_store.py:211\u001b[0m, in \u001b[0;36mFileStore._check_root_dir\u001b[0;34m(self)\u001b[0m\n\u001b[1;32m    207\u001b[0m \u001b[38;5;250m\u001b[39m\u001b[38;5;124;03m\"\"\"\u001b[39;00m\n\u001b[1;32m    208\u001b[0m \u001b[38;5;124;03mRun checks before running directory operations.\u001b[39;00m\n\u001b[1;32m    209\u001b[0m \u001b[38;5;124;03m\"\"\"\u001b[39;00m\n\u001b[1;32m    210\u001b[0m \u001b[38;5;28;01mif\u001b[39;00m \u001b[38;5;129;01mnot\u001b[39;00m exists(\u001b[38;5;28mself\u001b[39m\u001b[38;5;241m.\u001b[39mroot_directory):\n\u001b[0;32m--> 211\u001b[0m     \u001b[38;5;28;01mraise\u001b[39;00m \u001b[38;5;167;01mException\u001b[39;00m(\u001b[38;5;124mf\u001b[39m\u001b[38;5;124m\"\u001b[39m\u001b[38;5;124m'\u001b[39m\u001b[38;5;132;01m{\u001b[39;00m\u001b[38;5;28mself\u001b[39m\u001b[38;5;241m.\u001b[39mroot_directory\u001b[38;5;132;01m}\u001b[39;00m\u001b[38;5;124m'\u001b[39m\u001b[38;5;124m does not exist.\u001b[39m\u001b[38;5;124m\"\u001b[39m)\n\u001b[1;32m    212\u001b[0m \u001b[38;5;28;01mif\u001b[39;00m \u001b[38;5;129;01mnot\u001b[39;00m is_directory(\u001b[38;5;28mself\u001b[39m\u001b[38;5;241m.\u001b[39mroot_directory):\n\u001b[1;32m    213\u001b[0m     \u001b[38;5;28;01mraise\u001b[39;00m \u001b[38;5;167;01mException\u001b[39;00m(\u001b[38;5;124mf\u001b[39m\u001b[38;5;124m\"\u001b[39m\u001b[38;5;124m'\u001b[39m\u001b[38;5;132;01m{\u001b[39;00m\u001b[38;5;28mself\u001b[39m\u001b[38;5;241m.\u001b[39mroot_directory\u001b[38;5;132;01m}\u001b[39;00m\u001b[38;5;124m'\u001b[39m\u001b[38;5;124m is not a directory.\u001b[39m\u001b[38;5;124m\"\u001b[39m)\n",
      "\u001b[0;31mException\u001b[0m: '/home/weishanli/Waylab/pediatric_cancer_atlas_analysis/1.model_optimization/1.2.optimize_fnet_by_confluence/optuna_mlflow/mlruns' does not exist."
     ]
    }
   ],
   "source": [
    "RUN_EXTRA = False\n",
    "DATA_GROUPING = {\n",
    "    'low_confluence': {\n",
    "        'seeding_density': [4_000, 2_000, 1_000]\n",
    "    }\n",
    "}\n",
    "\n",
    "loaddata_df = pd.read_csv(LOADDATA_FILE_PATH)\n",
    "\n",
    "for confluence_group_name, conditions in DATA_GROUPING.items():\n",
    "\n",
    "    ## Load dataset\n",
    "    loaddata_condition_df = loaddata_df.copy()\n",
    "    for condition, values in conditions.items():\n",
    "        loaddata_condition_df = loaddata_condition_df[\n",
    "            loaddata_condition_df[condition].isin(values)\n",
    "        ]\n",
    "\n",
    "    sc_features = pd.DataFrame()\n",
    "    for plate in loaddata_condition_df['Metadata_Plate'].unique():\n",
    "        sc_features_parquet = SC_FEATURES_DIR / f'{plate}_sc_normalized.parquet'\n",
    "        if not sc_features_parquet.exists():\n",
    "            print(f'{sc_features_parquet} does not exist, skipping...')\n",
    "            continue \n",
    "        else:\n",
    "            sc_features = pd.concat([\n",
    "                sc_features, \n",
    "                pd.read_parquet(\n",
    "                    sc_features_parquet,\n",
    "                    columns=['Metadata_Plate', 'Metadata_Well', 'Metadata_Site', 'Metadata_Cells_Location_Center_X', 'Metadata_Cells_Location_Center_Y']\n",
    "                )\n",
    "            ])\n",
    "\n",
    "    ## Create patch dataset\n",
    "    pds = PatchDataset(\n",
    "        _loaddata_csv=loaddata_condition_df,\n",
    "        _sc_feature=sc_features,\n",
    "        _input_channel_keys=INPUT_CHANNEL_NAMES,\n",
    "        _target_channel_keys=TARGET_CHANNEL_NAMES,\n",
    "        _input_transform=PixelDepthTransform(src_bit_depth=16, target_bit_depth=8, _always_apply=True),\n",
    "        _target_transform=MinMaxNormalize(_normalization_factor=(2 ** 16) - 1, _always_apply=True),\n",
    "        patch_size=PATCH_SIZE,\n",
    "        verbose=False,\n",
    "        patch_generation_method=\"random_cell\",\n",
    "        patch_generation_random_seed=42\n",
    "    )\n",
    "\n",
    "    for channel_name in TARGET_CHANNEL_NAMES:\n",
    "\n",
    "        ## Cache dataset of channel\n",
    "        pds.set_input_channel_keys(INPUT_CHANNEL_NAMES)\n",
    "        pds.set_target_channel_keys(channel_name)\n",
    "        cds = CachedDataset(\n",
    "            dataset=pds,\n",
    "            prefill_cache=True\n",
    "        )\n",
    "\n",
    "        print(f\"Beginning optimization for channel: {channel_name} for {confluence_group_name}\")\n",
    "\n",
    "        # Load the existing study for the current channel\n",
    "        study_path = OPTUNA_JOBLIB_DIR / f\"FNet_optimize_{channel_name}_{confluence_group_name}.joblib\"\n",
    "        if study_path.exists():\n",
    "            if RUN_EXTRA:\n",
    "                study = joblib.load(study_path)\n",
    "            else:\n",
    "                print(\"Skipping optimization due to existing joblib...\")\n",
    "                continue\n",
    "        else:\n",
    "            study = optuna.create_study(\n",
    "                direction=\"minimize\",\n",
    "                study_name=f\"FNet_optimize_{channel_name}_{confluence_group_name}\",\n",
    "                sampler=optuna.samplers.TPESampler(seed=42)\n",
    "            )\n",
    "\n",
    "        # Optimize the objective function for the current channel\n",
    "        study.optimize(lambda trial: objective(trial, cds, channel_name, confluence_group_name), n_trials=50)\n",
    "\n",
    "        # Save the updated study for the current channel\n",
    "        joblib.dump(study, study_path)\n",
    "\n",
    "        # Print best trial results\n",
    "        print(f\"Best trial for channel {channel_name}:\")\n",
    "        print(f\"  Validation Loss: {study.best_trial.value}\")\n",
    "        print(f\"  Hyperparameters: {study.best_trial.params}\")"
   ]
  }
 ],
 "metadata": {
  "kernelspec": {
   "display_name": "speckle_analysis",
   "language": "python",
   "name": "python3"
  },
  "language_info": {
   "codemirror_mode": {
    "name": "ipython",
    "version": 3
   },
   "file_extension": ".py",
   "mimetype": "text/x-python",
   "name": "python",
   "nbconvert_exporter": "python",
   "pygments_lexer": "ipython3",
   "version": "3.11.11"
  }
 },
 "nbformat": 4,
 "nbformat_minor": 2
}
